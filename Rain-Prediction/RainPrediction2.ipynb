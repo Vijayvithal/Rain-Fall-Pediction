{
 "cells": [
  {
   "cell_type": "markdown",
   "id": "dcb9a296",
   "metadata": {},
   "source": [
    "### Table of contents:\n"
   ]
  },
  {
   "cell_type": "raw",
   "id": "83d826e6",
   "metadata": {},
   "source": [
    "Problem Statement\n",
    "Data Source\n",
    "Importing Necessary Libraries\n",
    "Data Preprocessing\n",
    "Finding categorical and Numerical features in Dataset\n",
    "Cardinality check for categorical features\n",
    "Handling Missing values\n",
    "Outlier detection and treatment\n",
    "Exploratory Data Analysis\n",
    "Encoding categorical features\n",
    "Correlation\n",
    "Feature Importance\n",
    "Splitting Data into Training and Testing sets\n",
    "Feature Scaling\n",
    "Model Building and Evaluation\n",
    "Results and Conclusion\n",
    "Save Model and Scaling object with Pickle"
   ]
  },
  {
   "cell_type": "markdown",
   "id": "014cac6b",
   "metadata": {},
   "source": [
    "# Problem Statement or Business Problem\n"
   ]
  },
  {
   "cell_type": "markdown",
   "id": "6f9aeb2d",
   "metadata": {},
   "source": [
    "In this project we will be working with a data set, indicating whether it rain the next day in Australia, Yes or No? This column is Yes if the rain for that day was 1mm or more. We will try to create a model that will predict using the available data."
   ]
  },
  {
   "cell_type": "markdown",
   "id": "ec2bf97a",
   "metadata": {},
   "source": [
    "#### Attribute Information or Dataset Details:"
   ]
  },
  {
   "cell_type": "raw",
   "id": "60c01bff",
   "metadata": {},
   "source": [
    "Date -The date of observation\n",
    "Location – The common name of the location of the weather station\n",
    "MinTemp – The minimum temperature in degrees celsius\n",
    "MaxTemp – The maximum temperature in degrees celsius\n",
    "Rainfall – The amount of rainfall recorded for the day in mm\n",
    "Evaporation – The so-called Class A pan evaporation (mm) in the 24 hours to 9 am.\n",
    "Sunshine – The number of hours of bright sunshine in the day.\n",
    "WindGustDir – The direction of the strongest wind gust in the 24 hours to midnight\n",
    "WindGustSpeed – The speed (km/h) of the strongest wind gust in the 24 hours to midnight\n",
    "WindDir9am – Direction of the wind at 9 am\n",
    "WindDir3pm – Direction of the wind at 3 pm\n",
    "WindSpeed9am – Wind speed (km/hr) averaged over 10 minutes prior to 9 am\n",
    "WindSpeed3pm – Wind speed (km/hr) averaged over 10 minutes prior to 3 pm\n",
    "Humidity9am – Humidity (percent) at 9 am\n",
    "Humidity3pm – Humidity (percent) at 3 pm\n",
    "Pressure9am – Atmospheric pressure (hpa) reduced to mean sea level at 9 am\n",
    "Pressure3pm – Atmospheric pressure (hpa) reduced to mean sea level at 3 pm\n",
    "Cloud9am – Fraction of sky obscured by cloud at 9 am. This is measured in “oktas”, which are a unit of eigths. It records how many eigths of the sky are obscured by cloud. A 0 measure indicates a completely clear sky whilst an 8 indicates that it is completely overcast.\n",
    "Cloud3pm – Fraction of sky obscured by cloud (in “oktas”: eighths) at 3pm. See Cload9am for a description of the values\n",
    "Temp9am – Temperature (degrees C) at 9am\n",
    "Temp3pm – Temperature (degrees C) at 3pm\n",
    "RainToday – Boolean: 1 if precipitation (mm) in the 24 hours to 9am exceeds 1mm, otherwise 0\n",
    "RainTomorrow- The amount of next day rain in mm. Used to create response variable RainTomorrow. A kind of measure of the “risk”.\n"
   ]
  },
  {
   "cell_type": "code",
   "execution_count": 1,
   "id": "instrumental-technical",
   "metadata": {
    "id": "instrumental-technical"
   },
   "outputs": [],
   "source": [
    "#Import library\n",
    "import numpy as np\n",
    "import pandas as pd\n",
    "import matplotlib.pyplot as plt\n",
    "import seaborn as sns\n",
    "from sklearn import preprocessing\n",
    "import scipy.stats as stats\n",
    "from sklearn.model_selection import train_test_split\n",
    "from collections import Counter\n",
    "from imblearn.over_sampling import SMOTE\n",
    "from sklearn.metrics import accuracy_score,confusion_matrix,classification_report\n",
    "from sklearn import metrics\n",
    "from sklearn.ensemble import RandomForestClassifier\n",
    "from catboost import CatBoostClassifier\n",
    "from xgboost import XGBClassifier\n",
    "from sklearn.svm import SVC\n",
    "from sklearn.linear_model import LogisticRegression\n",
    "from sklearn.naive_bayes import GaussianNB\n",
    "from sklearn.neighbors import KNeighborsClassifier\n",
    "import joblib"
   ]
  },
  {
   "cell_type": "code",
   "execution_count": 2,
   "id": "modern-klein",
   "metadata": {
    "colab": {
     "base_uri": "https://localhost:8080/",
     "height": 590
    },
    "id": "modern-klein",
    "outputId": "15cd93a4-91c4-48b7-9c88-34d032de77a3"
   },
   "outputs": [
    {
     "data": {
      "text/html": [
       "<div>\n",
       "<style scoped>\n",
       "    .dataframe tbody tr th:only-of-type {\n",
       "        vertical-align: middle;\n",
       "    }\n",
       "\n",
       "    .dataframe tbody tr th {\n",
       "        vertical-align: top;\n",
       "    }\n",
       "\n",
       "    .dataframe thead th {\n",
       "        text-align: right;\n",
       "    }\n",
       "</style>\n",
       "<table border=\"1\" class=\"dataframe\">\n",
       "  <thead>\n",
       "    <tr style=\"text-align: right;\">\n",
       "      <th></th>\n",
       "      <th>Date</th>\n",
       "      <th>Location</th>\n",
       "      <th>MinTemp</th>\n",
       "      <th>MaxTemp</th>\n",
       "      <th>Rainfall</th>\n",
       "      <th>Evaporation</th>\n",
       "      <th>Sunshine</th>\n",
       "      <th>WindGustDir</th>\n",
       "      <th>WindGustSpeed</th>\n",
       "      <th>WindDir9am</th>\n",
       "      <th>WindDir3pm</th>\n",
       "      <th>WindSpeed9am</th>\n",
       "      <th>WindSpeed3pm</th>\n",
       "      <th>Humidity9am</th>\n",
       "      <th>Humidity3pm</th>\n",
       "      <th>Pressure9am</th>\n",
       "      <th>Pressure3pm</th>\n",
       "      <th>Cloud9am</th>\n",
       "      <th>Cloud3pm</th>\n",
       "      <th>Temp9am</th>\n",
       "      <th>Temp3pm</th>\n",
       "      <th>RainToday</th>\n",
       "      <th>RainTomorrow</th>\n",
       "    </tr>\n",
       "  </thead>\n",
       "  <tbody>\n",
       "    <tr>\n",
       "      <th>0</th>\n",
       "      <td>2008-12-01</td>\n",
       "      <td>Albury</td>\n",
       "      <td>13.4</td>\n",
       "      <td>22.9</td>\n",
       "      <td>0.6</td>\n",
       "      <td>NaN</td>\n",
       "      <td>NaN</td>\n",
       "      <td>W</td>\n",
       "      <td>44.0</td>\n",
       "      <td>W</td>\n",
       "      <td>WNW</td>\n",
       "      <td>20.0</td>\n",
       "      <td>24.0</td>\n",
       "      <td>71.0</td>\n",
       "      <td>22.0</td>\n",
       "      <td>1007.7</td>\n",
       "      <td>1007.1</td>\n",
       "      <td>8.0</td>\n",
       "      <td>NaN</td>\n",
       "      <td>16.9</td>\n",
       "      <td>21.8</td>\n",
       "      <td>No</td>\n",
       "      <td>No</td>\n",
       "    </tr>\n",
       "    <tr>\n",
       "      <th>1</th>\n",
       "      <td>2008-12-02</td>\n",
       "      <td>Albury</td>\n",
       "      <td>7.4</td>\n",
       "      <td>25.1</td>\n",
       "      <td>0.0</td>\n",
       "      <td>NaN</td>\n",
       "      <td>NaN</td>\n",
       "      <td>WNW</td>\n",
       "      <td>44.0</td>\n",
       "      <td>NNW</td>\n",
       "      <td>WSW</td>\n",
       "      <td>4.0</td>\n",
       "      <td>22.0</td>\n",
       "      <td>44.0</td>\n",
       "      <td>25.0</td>\n",
       "      <td>1010.6</td>\n",
       "      <td>1007.8</td>\n",
       "      <td>NaN</td>\n",
       "      <td>NaN</td>\n",
       "      <td>17.2</td>\n",
       "      <td>24.3</td>\n",
       "      <td>No</td>\n",
       "      <td>No</td>\n",
       "    </tr>\n",
       "    <tr>\n",
       "      <th>2</th>\n",
       "      <td>2008-12-03</td>\n",
       "      <td>Albury</td>\n",
       "      <td>12.9</td>\n",
       "      <td>25.7</td>\n",
       "      <td>0.0</td>\n",
       "      <td>NaN</td>\n",
       "      <td>NaN</td>\n",
       "      <td>WSW</td>\n",
       "      <td>46.0</td>\n",
       "      <td>W</td>\n",
       "      <td>WSW</td>\n",
       "      <td>19.0</td>\n",
       "      <td>26.0</td>\n",
       "      <td>38.0</td>\n",
       "      <td>30.0</td>\n",
       "      <td>1007.6</td>\n",
       "      <td>1008.7</td>\n",
       "      <td>NaN</td>\n",
       "      <td>2.0</td>\n",
       "      <td>21.0</td>\n",
       "      <td>23.2</td>\n",
       "      <td>No</td>\n",
       "      <td>No</td>\n",
       "    </tr>\n",
       "    <tr>\n",
       "      <th>3</th>\n",
       "      <td>2008-12-04</td>\n",
       "      <td>Albury</td>\n",
       "      <td>9.2</td>\n",
       "      <td>28.0</td>\n",
       "      <td>0.0</td>\n",
       "      <td>NaN</td>\n",
       "      <td>NaN</td>\n",
       "      <td>NE</td>\n",
       "      <td>24.0</td>\n",
       "      <td>SE</td>\n",
       "      <td>E</td>\n",
       "      <td>11.0</td>\n",
       "      <td>9.0</td>\n",
       "      <td>45.0</td>\n",
       "      <td>16.0</td>\n",
       "      <td>1017.6</td>\n",
       "      <td>1012.8</td>\n",
       "      <td>NaN</td>\n",
       "      <td>NaN</td>\n",
       "      <td>18.1</td>\n",
       "      <td>26.5</td>\n",
       "      <td>No</td>\n",
       "      <td>No</td>\n",
       "    </tr>\n",
       "    <tr>\n",
       "      <th>4</th>\n",
       "      <td>2008-12-05</td>\n",
       "      <td>Albury</td>\n",
       "      <td>17.5</td>\n",
       "      <td>32.3</td>\n",
       "      <td>1.0</td>\n",
       "      <td>NaN</td>\n",
       "      <td>NaN</td>\n",
       "      <td>W</td>\n",
       "      <td>41.0</td>\n",
       "      <td>ENE</td>\n",
       "      <td>NW</td>\n",
       "      <td>7.0</td>\n",
       "      <td>20.0</td>\n",
       "      <td>82.0</td>\n",
       "      <td>33.0</td>\n",
       "      <td>1010.8</td>\n",
       "      <td>1006.0</td>\n",
       "      <td>7.0</td>\n",
       "      <td>8.0</td>\n",
       "      <td>17.8</td>\n",
       "      <td>29.7</td>\n",
       "      <td>No</td>\n",
       "      <td>No</td>\n",
       "    </tr>\n",
       "  </tbody>\n",
       "</table>\n",
       "</div>"
      ],
      "text/plain": [
       "         Date Location  MinTemp  MaxTemp  Rainfall  Evaporation  Sunshine  \\\n",
       "0  2008-12-01   Albury     13.4     22.9       0.6          NaN       NaN   \n",
       "1  2008-12-02   Albury      7.4     25.1       0.0          NaN       NaN   \n",
       "2  2008-12-03   Albury     12.9     25.7       0.0          NaN       NaN   \n",
       "3  2008-12-04   Albury      9.2     28.0       0.0          NaN       NaN   \n",
       "4  2008-12-05   Albury     17.5     32.3       1.0          NaN       NaN   \n",
       "\n",
       "  WindGustDir  WindGustSpeed WindDir9am WindDir3pm  WindSpeed9am  \\\n",
       "0           W           44.0          W        WNW          20.0   \n",
       "1         WNW           44.0        NNW        WSW           4.0   \n",
       "2         WSW           46.0          W        WSW          19.0   \n",
       "3          NE           24.0         SE          E          11.0   \n",
       "4           W           41.0        ENE         NW           7.0   \n",
       "\n",
       "   WindSpeed3pm  Humidity9am  Humidity3pm  Pressure9am  Pressure3pm  Cloud9am  \\\n",
       "0          24.0         71.0         22.0       1007.7       1007.1       8.0   \n",
       "1          22.0         44.0         25.0       1010.6       1007.8       NaN   \n",
       "2          26.0         38.0         30.0       1007.6       1008.7       NaN   \n",
       "3           9.0         45.0         16.0       1017.6       1012.8       NaN   \n",
       "4          20.0         82.0         33.0       1010.8       1006.0       7.0   \n",
       "\n",
       "   Cloud3pm  Temp9am  Temp3pm RainToday RainTomorrow  \n",
       "0       NaN     16.9     21.8        No           No  \n",
       "1       NaN     17.2     24.3        No           No  \n",
       "2       2.0     21.0     23.2        No           No  \n",
       "3       NaN     18.1     26.5        No           No  \n",
       "4       8.0     17.8     29.7        No           No  "
      ]
     },
     "execution_count": 2,
     "metadata": {},
     "output_type": "execute_result"
    }
   ],
   "source": [
    "df = pd.read_csv(\"weatherAUS.csv\")\n",
    "pd.set_option(\"display.max_columns\", None)\n",
    "df.head()"
   ]
  },
  {
   "cell_type": "markdown",
   "id": "19f39fa8",
   "metadata": {},
   "source": [
    "# 4. Data Preprocessing:\n"
   ]
  },
  {
   "cell_type": "markdown",
   "id": "bc849bb0",
   "metadata": {},
   "source": [
    "Real-world data is often messy, incomplete, unstructured, inconsistent, redundant, sprinkled with wacky values. So, without deploying any Data Preprocessing techniques, it is almost impossible to gain insights from raw data.\n",
    "\n",
    "\n",
    "# What exactly is Data Preprocessing?\n",
    "\n",
    "Data preprocessing is a process of converting raw data to a suitable format to extract insights. It is the first and foremost step in the Data Science life cycle. Data Preprocessing makes sure that data is clean, organize and read-to-feed to the Machine Learning model.\n"
   ]
  },
  {
   "cell_type": "code",
   "execution_count": 3,
   "id": "76a29f9d",
   "metadata": {},
   "outputs": [
    {
     "data": {
      "text/plain": [
       "Date                 0\n",
       "Location             0\n",
       "MinTemp           1485\n",
       "MaxTemp           1261\n",
       "Rainfall          3261\n",
       "Evaporation      62790\n",
       "Sunshine         69835\n",
       "WindGustDir      10326\n",
       "WindGustSpeed    10263\n",
       "WindDir9am       10566\n",
       "WindDir3pm        4228\n",
       "WindSpeed9am      1767\n",
       "WindSpeed3pm      3062\n",
       "Humidity9am       2654\n",
       "Humidity3pm       4507\n",
       "Pressure9am      15065\n",
       "Pressure3pm      15028\n",
       "Cloud9am         55888\n",
       "Cloud3pm         59358\n",
       "Temp9am           1767\n",
       "Temp3pm           3609\n",
       "RainToday         3261\n",
       "RainTomorrow      3267\n",
       "dtype: int64"
      ]
     },
     "execution_count": 3,
     "metadata": {},
     "output_type": "execute_result"
    }
   ],
   "source": [
    "df.isnull().sum()"
   ]
  },
  {
   "cell_type": "markdown",
   "id": "6f2c6b84",
   "metadata": {},
   "source": [
    "Dataset has two data types: float64, object\n",
    "Except for the Date, Location columns, every column has missing values.\n",
    "Let’s generate descriptive statistics for the dataset using the function describe() in pandas.\n",
    "\n",
    "Descriptive Statistics: It is used to summarize and describe the features of data in a meaningful way to extract insights. It uses two types of statistic to describe or summarize data:\n",
    "\n",
    "Measures of tendency\n",
    "\n",
    "Measures of spread"
   ]
  },
  {
   "cell_type": "code",
   "execution_count": 4,
   "id": "08ee45ee",
   "metadata": {},
   "outputs": [
    {
     "data": {
      "text/html": [
       "<div>\n",
       "<style scoped>\n",
       "    .dataframe tbody tr th:only-of-type {\n",
       "        vertical-align: middle;\n",
       "    }\n",
       "\n",
       "    .dataframe tbody tr th {\n",
       "        vertical-align: top;\n",
       "    }\n",
       "\n",
       "    .dataframe thead th {\n",
       "        text-align: right;\n",
       "    }\n",
       "</style>\n",
       "<table border=\"1\" class=\"dataframe\">\n",
       "  <thead>\n",
       "    <tr style=\"text-align: right;\">\n",
       "      <th></th>\n",
       "      <th>MinTemp</th>\n",
       "      <th>MaxTemp</th>\n",
       "      <th>Rainfall</th>\n",
       "      <th>Evaporation</th>\n",
       "      <th>Sunshine</th>\n",
       "      <th>WindGustSpeed</th>\n",
       "      <th>WindSpeed9am</th>\n",
       "      <th>WindSpeed3pm</th>\n",
       "      <th>Humidity9am</th>\n",
       "      <th>Humidity3pm</th>\n",
       "      <th>Pressure9am</th>\n",
       "      <th>Pressure3pm</th>\n",
       "      <th>Cloud9am</th>\n",
       "      <th>Cloud3pm</th>\n",
       "      <th>Temp9am</th>\n",
       "      <th>Temp3pm</th>\n",
       "    </tr>\n",
       "  </thead>\n",
       "  <tbody>\n",
       "    <tr>\n",
       "      <th>count</th>\n",
       "      <td>143975.000000</td>\n",
       "      <td>144199.000000</td>\n",
       "      <td>142199.000000</td>\n",
       "      <td>82670.000000</td>\n",
       "      <td>75625.000000</td>\n",
       "      <td>135197.000000</td>\n",
       "      <td>143693.000000</td>\n",
       "      <td>142398.000000</td>\n",
       "      <td>142806.000000</td>\n",
       "      <td>140953.000000</td>\n",
       "      <td>130395.00000</td>\n",
       "      <td>130432.000000</td>\n",
       "      <td>89572.000000</td>\n",
       "      <td>86102.000000</td>\n",
       "      <td>143693.000000</td>\n",
       "      <td>141851.00000</td>\n",
       "    </tr>\n",
       "    <tr>\n",
       "      <th>mean</th>\n",
       "      <td>12.194034</td>\n",
       "      <td>23.221348</td>\n",
       "      <td>2.360918</td>\n",
       "      <td>5.468232</td>\n",
       "      <td>7.611178</td>\n",
       "      <td>40.035230</td>\n",
       "      <td>14.043426</td>\n",
       "      <td>18.662657</td>\n",
       "      <td>68.880831</td>\n",
       "      <td>51.539116</td>\n",
       "      <td>1017.64994</td>\n",
       "      <td>1015.255889</td>\n",
       "      <td>4.447461</td>\n",
       "      <td>4.509930</td>\n",
       "      <td>16.990631</td>\n",
       "      <td>21.68339</td>\n",
       "    </tr>\n",
       "    <tr>\n",
       "      <th>std</th>\n",
       "      <td>6.398495</td>\n",
       "      <td>7.119049</td>\n",
       "      <td>8.478060</td>\n",
       "      <td>4.193704</td>\n",
       "      <td>3.785483</td>\n",
       "      <td>13.607062</td>\n",
       "      <td>8.915375</td>\n",
       "      <td>8.809800</td>\n",
       "      <td>19.029164</td>\n",
       "      <td>20.795902</td>\n",
       "      <td>7.10653</td>\n",
       "      <td>7.037414</td>\n",
       "      <td>2.887159</td>\n",
       "      <td>2.720357</td>\n",
       "      <td>6.488753</td>\n",
       "      <td>6.93665</td>\n",
       "    </tr>\n",
       "    <tr>\n",
       "      <th>min</th>\n",
       "      <td>-8.500000</td>\n",
       "      <td>-4.800000</td>\n",
       "      <td>0.000000</td>\n",
       "      <td>0.000000</td>\n",
       "      <td>0.000000</td>\n",
       "      <td>6.000000</td>\n",
       "      <td>0.000000</td>\n",
       "      <td>0.000000</td>\n",
       "      <td>0.000000</td>\n",
       "      <td>0.000000</td>\n",
       "      <td>980.50000</td>\n",
       "      <td>977.100000</td>\n",
       "      <td>0.000000</td>\n",
       "      <td>0.000000</td>\n",
       "      <td>-7.200000</td>\n",
       "      <td>-5.40000</td>\n",
       "    </tr>\n",
       "    <tr>\n",
       "      <th>25%</th>\n",
       "      <td>7.600000</td>\n",
       "      <td>17.900000</td>\n",
       "      <td>0.000000</td>\n",
       "      <td>2.600000</td>\n",
       "      <td>4.800000</td>\n",
       "      <td>31.000000</td>\n",
       "      <td>7.000000</td>\n",
       "      <td>13.000000</td>\n",
       "      <td>57.000000</td>\n",
       "      <td>37.000000</td>\n",
       "      <td>1012.90000</td>\n",
       "      <td>1010.400000</td>\n",
       "      <td>1.000000</td>\n",
       "      <td>2.000000</td>\n",
       "      <td>12.300000</td>\n",
       "      <td>16.60000</td>\n",
       "    </tr>\n",
       "    <tr>\n",
       "      <th>50%</th>\n",
       "      <td>12.000000</td>\n",
       "      <td>22.600000</td>\n",
       "      <td>0.000000</td>\n",
       "      <td>4.800000</td>\n",
       "      <td>8.400000</td>\n",
       "      <td>39.000000</td>\n",
       "      <td>13.000000</td>\n",
       "      <td>19.000000</td>\n",
       "      <td>70.000000</td>\n",
       "      <td>52.000000</td>\n",
       "      <td>1017.60000</td>\n",
       "      <td>1015.200000</td>\n",
       "      <td>5.000000</td>\n",
       "      <td>5.000000</td>\n",
       "      <td>16.700000</td>\n",
       "      <td>21.10000</td>\n",
       "    </tr>\n",
       "    <tr>\n",
       "      <th>75%</th>\n",
       "      <td>16.900000</td>\n",
       "      <td>28.200000</td>\n",
       "      <td>0.800000</td>\n",
       "      <td>7.400000</td>\n",
       "      <td>10.600000</td>\n",
       "      <td>48.000000</td>\n",
       "      <td>19.000000</td>\n",
       "      <td>24.000000</td>\n",
       "      <td>83.000000</td>\n",
       "      <td>66.000000</td>\n",
       "      <td>1022.40000</td>\n",
       "      <td>1020.000000</td>\n",
       "      <td>7.000000</td>\n",
       "      <td>7.000000</td>\n",
       "      <td>21.600000</td>\n",
       "      <td>26.40000</td>\n",
       "    </tr>\n",
       "    <tr>\n",
       "      <th>max</th>\n",
       "      <td>33.900000</td>\n",
       "      <td>48.100000</td>\n",
       "      <td>371.000000</td>\n",
       "      <td>145.000000</td>\n",
       "      <td>14.500000</td>\n",
       "      <td>135.000000</td>\n",
       "      <td>130.000000</td>\n",
       "      <td>87.000000</td>\n",
       "      <td>100.000000</td>\n",
       "      <td>100.000000</td>\n",
       "      <td>1041.00000</td>\n",
       "      <td>1039.600000</td>\n",
       "      <td>9.000000</td>\n",
       "      <td>9.000000</td>\n",
       "      <td>40.200000</td>\n",
       "      <td>46.70000</td>\n",
       "    </tr>\n",
       "  </tbody>\n",
       "</table>\n",
       "</div>"
      ],
      "text/plain": [
       "             MinTemp        MaxTemp       Rainfall   Evaporation  \\\n",
       "count  143975.000000  144199.000000  142199.000000  82670.000000   \n",
       "mean       12.194034      23.221348       2.360918      5.468232   \n",
       "std         6.398495       7.119049       8.478060      4.193704   \n",
       "min        -8.500000      -4.800000       0.000000      0.000000   \n",
       "25%         7.600000      17.900000       0.000000      2.600000   \n",
       "50%        12.000000      22.600000       0.000000      4.800000   \n",
       "75%        16.900000      28.200000       0.800000      7.400000   \n",
       "max        33.900000      48.100000     371.000000    145.000000   \n",
       "\n",
       "           Sunshine  WindGustSpeed   WindSpeed9am   WindSpeed3pm  \\\n",
       "count  75625.000000  135197.000000  143693.000000  142398.000000   \n",
       "mean       7.611178      40.035230      14.043426      18.662657   \n",
       "std        3.785483      13.607062       8.915375       8.809800   \n",
       "min        0.000000       6.000000       0.000000       0.000000   \n",
       "25%        4.800000      31.000000       7.000000      13.000000   \n",
       "50%        8.400000      39.000000      13.000000      19.000000   \n",
       "75%       10.600000      48.000000      19.000000      24.000000   \n",
       "max       14.500000     135.000000     130.000000      87.000000   \n",
       "\n",
       "         Humidity9am    Humidity3pm   Pressure9am    Pressure3pm  \\\n",
       "count  142806.000000  140953.000000  130395.00000  130432.000000   \n",
       "mean       68.880831      51.539116    1017.64994    1015.255889   \n",
       "std        19.029164      20.795902       7.10653       7.037414   \n",
       "min         0.000000       0.000000     980.50000     977.100000   \n",
       "25%        57.000000      37.000000    1012.90000    1010.400000   \n",
       "50%        70.000000      52.000000    1017.60000    1015.200000   \n",
       "75%        83.000000      66.000000    1022.40000    1020.000000   \n",
       "max       100.000000     100.000000    1041.00000    1039.600000   \n",
       "\n",
       "           Cloud9am      Cloud3pm        Temp9am       Temp3pm  \n",
       "count  89572.000000  86102.000000  143693.000000  141851.00000  \n",
       "mean       4.447461      4.509930      16.990631      21.68339  \n",
       "std        2.887159      2.720357       6.488753       6.93665  \n",
       "min        0.000000      0.000000      -7.200000      -5.40000  \n",
       "25%        1.000000      2.000000      12.300000      16.60000  \n",
       "50%        5.000000      5.000000      16.700000      21.10000  \n",
       "75%        7.000000      7.000000      21.600000      26.40000  \n",
       "max        9.000000      9.000000      40.200000      46.70000  "
      ]
     },
     "execution_count": 4,
     "metadata": {},
     "output_type": "execute_result"
    }
   ],
   "source": [
    "df.describe(exclude=[object])\n"
   ]
  },
  {
   "cell_type": "code",
   "execution_count": 5,
   "id": "3e65019d",
   "metadata": {},
   "outputs": [
    {
     "data": {
      "text/html": [
       "<div>\n",
       "<style scoped>\n",
       "    .dataframe tbody tr th:only-of-type {\n",
       "        vertical-align: middle;\n",
       "    }\n",
       "\n",
       "    .dataframe tbody tr th {\n",
       "        vertical-align: top;\n",
       "    }\n",
       "\n",
       "    .dataframe thead th {\n",
       "        text-align: right;\n",
       "    }\n",
       "</style>\n",
       "<table border=\"1\" class=\"dataframe\">\n",
       "  <thead>\n",
       "    <tr style=\"text-align: right;\">\n",
       "      <th></th>\n",
       "      <th>Date</th>\n",
       "      <th>Location</th>\n",
       "      <th>WindGustDir</th>\n",
       "      <th>WindDir9am</th>\n",
       "      <th>WindDir3pm</th>\n",
       "      <th>RainToday</th>\n",
       "      <th>RainTomorrow</th>\n",
       "    </tr>\n",
       "  </thead>\n",
       "  <tbody>\n",
       "    <tr>\n",
       "      <th>count</th>\n",
       "      <td>145460</td>\n",
       "      <td>145460</td>\n",
       "      <td>135134</td>\n",
       "      <td>134894</td>\n",
       "      <td>141232</td>\n",
       "      <td>142199</td>\n",
       "      <td>142193</td>\n",
       "    </tr>\n",
       "    <tr>\n",
       "      <th>unique</th>\n",
       "      <td>3436</td>\n",
       "      <td>49</td>\n",
       "      <td>16</td>\n",
       "      <td>16</td>\n",
       "      <td>16</td>\n",
       "      <td>2</td>\n",
       "      <td>2</td>\n",
       "    </tr>\n",
       "    <tr>\n",
       "      <th>top</th>\n",
       "      <td>2013-11-12</td>\n",
       "      <td>Canberra</td>\n",
       "      <td>W</td>\n",
       "      <td>N</td>\n",
       "      <td>SE</td>\n",
       "      <td>No</td>\n",
       "      <td>No</td>\n",
       "    </tr>\n",
       "    <tr>\n",
       "      <th>freq</th>\n",
       "      <td>49</td>\n",
       "      <td>3436</td>\n",
       "      <td>9915</td>\n",
       "      <td>11758</td>\n",
       "      <td>10838</td>\n",
       "      <td>110319</td>\n",
       "      <td>110316</td>\n",
       "    </tr>\n",
       "  </tbody>\n",
       "</table>\n",
       "</div>"
      ],
      "text/plain": [
       "              Date  Location WindGustDir WindDir9am WindDir3pm RainToday  \\\n",
       "count       145460    145460      135134     134894     141232    142199   \n",
       "unique        3436        49          16         16         16         2   \n",
       "top     2013-11-12  Canberra           W          N         SE        No   \n",
       "freq            49      3436        9915      11758      10838    110319   \n",
       "\n",
       "       RainTomorrow  \n",
       "count        142193  \n",
       "unique            2  \n",
       "top              No  \n",
       "freq         110316  "
      ]
     },
     "execution_count": 5,
     "metadata": {},
     "output_type": "execute_result"
    }
   ],
   "source": [
    "df.describe(include=[object])"
   ]
  },
  {
   "cell_type": "markdown",
   "id": "dc392dab",
   "metadata": {
    "colab": {
     "base_uri": "https://localhost:8080/"
    },
    "id": "medical-company",
    "outputId": "60b294d2-9ec2-4603-c2cd-ffb13d1eb476"
   },
   "source": [
    "# 5. Finding Categorical and Numerical Features in a Data set:\n"
   ]
  },
  {
   "cell_type": "code",
   "execution_count": 6,
   "id": "e0b887c0",
   "metadata": {},
   "outputs": [
    {
     "name": "stdout",
     "output_type": "stream",
     "text": [
      "Number of Categorical Features: 7\n",
      "Categorical Features:  ['Date', 'Location', 'WindGustDir', 'WindDir9am', 'WindDir3pm', 'RainToday', 'RainTomorrow']\n"
     ]
    }
   ],
   "source": [
    "# Categorical features in Dataset:\n",
    "categorical_features = [column_name for column_name in df.columns if df[column_name].dtype == 'O']\n",
    "print(\"Number of Categorical Features: {}\".format(len(categorical_features)))\n",
    "print(\"Categorical Features: \",categorical_features)"
   ]
  },
  {
   "cell_type": "code",
   "execution_count": 7,
   "id": "e5f0c1b8",
   "metadata": {},
   "outputs": [
    {
     "name": "stdout",
     "output_type": "stream",
     "text": [
      "Number of Numerical Features: 16\n",
      "Numerical Features:  ['MinTemp', 'MaxTemp', 'Rainfall', 'Evaporation', 'Sunshine', 'WindGustSpeed', 'WindSpeed9am', 'WindSpeed3pm', 'Humidity9am', 'Humidity3pm', 'Pressure9am', 'Pressure3pm', 'Cloud9am', 'Cloud3pm', 'Temp9am', 'Temp3pm']\n"
     ]
    }
   ],
   "source": [
    "# Numerical Features in Dataset:\n",
    "numerical_features = [column_name for column_name in df.columns if df[column_name].dtype != 'O']\n",
    "print(\"Number of Numerical Features: {}\".format(len(numerical_features)))\n",
    "print(\"Numerical Features: \",numerical_features)"
   ]
  },
  {
   "cell_type": "markdown",
   "id": "e150dcc7",
   "metadata": {},
   "source": [
    "# 6. Cardinality check for Categorical features:\n"
   ]
  },
  {
   "cell_type": "markdown",
   "id": "f5562c12",
   "metadata": {},
   "source": [
    "#### 1.The accuracy, performance of a classifier not only depends on the model that we use, but also depends on how we preprocess data, and what kind of data you’re feeding to the classifier to learn.\n",
    "\n",
    "#### 2. Many Machine learning algorithms like Linear Regression, Logistic Regression, k-nearest neighbors, etc. can handle only numerical data, so encoding categorical data to numeric becomes a necessary step.  But before jumping into encoding, check the cardinality of each categorical feature.\n",
    "\n",
    "##### 3 .Cardinality: The number of unique values in each categorical feature is known as cardinality.\n",
    "\n",
    "#### 4 .A feature with a high number of distinct/ unique values is a high cardinality feature. A categorical feature with hundreds of zip codes is the best example of a high cardinality feature.\n",
    "\n",
    "##### 5 .This high cardinality feature poses many serious problems like it will increase the number of dimensions of data when that feature is encoded. This is not good for the model.\n",
    "\n",
    "##### 6 .There are many ways to handle high cardinality, one would be feature engineering and the other is simply dropping that feature if it doesn’t add any value to the model.\n",
    "\n",
    "Let’s find the cardinality for Categorical features:"
   ]
  },
  {
   "cell_type": "code",
   "execution_count": 8,
   "id": "f0a407ce",
   "metadata": {},
   "outputs": [
    {
     "name": "stdout",
     "output_type": "stream",
     "text": [
      "Cardinality(no. of unique values) of Date are: 3436\n",
      "Cardinality(no. of unique values) of Location are: 49\n",
      "Cardinality(no. of unique values) of WindGustDir are: 17\n",
      "Cardinality(no. of unique values) of WindDir9am are: 17\n",
      "Cardinality(no. of unique values) of WindDir3pm are: 17\n",
      "Cardinality(no. of unique values) of RainToday are: 3\n",
      "Cardinality(no. of unique values) of RainTomorrow are: 3\n"
     ]
    }
   ],
   "source": [
    "for each_feature in categorical_features:\n",
    "   unique_values = len(df[each_feature].unique())\n",
    "   print(\"Cardinality(no. of unique values) of {} are: {}\".format(each_feature, unique_values))"
   ]
  },
  {
   "cell_type": "markdown",
   "id": "a35cd9c0",
   "metadata": {},
   "source": [
    "Date column has high cardinality which poses several problems to the model in terms of efficiency and also dimensions of data increase when encoded to numerical data."
   ]
  },
  {
   "cell_type": "code",
   "execution_count": 9,
   "id": "6763f0f2",
   "metadata": {},
   "outputs": [],
   "source": [
    "# Feature Engineering of Date column to decrease high cardinality:\n",
    "df['Date'] = pd.to_datetime(df['Date'])\n",
    "df['year'] = df['Date'].dt.year\n",
    "df['month'] = df['Date'].dt.month\n",
    "df['day'] = df['Date'].dt.day"
   ]
  },
  {
   "cell_type": "code",
   "execution_count": 10,
   "id": "4eca1b84",
   "metadata": {},
   "outputs": [
    {
     "data": {
      "text/html": [
       "<div>\n",
       "<style scoped>\n",
       "    .dataframe tbody tr th:only-of-type {\n",
       "        vertical-align: middle;\n",
       "    }\n",
       "\n",
       "    .dataframe tbody tr th {\n",
       "        vertical-align: top;\n",
       "    }\n",
       "\n",
       "    .dataframe thead th {\n",
       "        text-align: right;\n",
       "    }\n",
       "</style>\n",
       "<table border=\"1\" class=\"dataframe\">\n",
       "  <thead>\n",
       "    <tr style=\"text-align: right;\">\n",
       "      <th></th>\n",
       "      <th>Location</th>\n",
       "      <th>MinTemp</th>\n",
       "      <th>MaxTemp</th>\n",
       "      <th>Rainfall</th>\n",
       "      <th>Evaporation</th>\n",
       "      <th>Sunshine</th>\n",
       "      <th>WindGustDir</th>\n",
       "      <th>WindGustSpeed</th>\n",
       "      <th>WindDir9am</th>\n",
       "      <th>WindDir3pm</th>\n",
       "      <th>WindSpeed9am</th>\n",
       "      <th>WindSpeed3pm</th>\n",
       "      <th>Humidity9am</th>\n",
       "      <th>Humidity3pm</th>\n",
       "      <th>Pressure9am</th>\n",
       "      <th>Pressure3pm</th>\n",
       "      <th>Cloud9am</th>\n",
       "      <th>Cloud3pm</th>\n",
       "      <th>Temp9am</th>\n",
       "      <th>Temp3pm</th>\n",
       "      <th>RainToday</th>\n",
       "      <th>RainTomorrow</th>\n",
       "      <th>year</th>\n",
       "      <th>month</th>\n",
       "      <th>day</th>\n",
       "    </tr>\n",
       "  </thead>\n",
       "  <tbody>\n",
       "    <tr>\n",
       "      <th>0</th>\n",
       "      <td>Albury</td>\n",
       "      <td>13.4</td>\n",
       "      <td>22.9</td>\n",
       "      <td>0.6</td>\n",
       "      <td>NaN</td>\n",
       "      <td>NaN</td>\n",
       "      <td>W</td>\n",
       "      <td>44.0</td>\n",
       "      <td>W</td>\n",
       "      <td>WNW</td>\n",
       "      <td>20.0</td>\n",
       "      <td>24.0</td>\n",
       "      <td>71.0</td>\n",
       "      <td>22.0</td>\n",
       "      <td>1007.7</td>\n",
       "      <td>1007.1</td>\n",
       "      <td>8.0</td>\n",
       "      <td>NaN</td>\n",
       "      <td>16.9</td>\n",
       "      <td>21.8</td>\n",
       "      <td>No</td>\n",
       "      <td>No</td>\n",
       "      <td>2008</td>\n",
       "      <td>12</td>\n",
       "      <td>1</td>\n",
       "    </tr>\n",
       "    <tr>\n",
       "      <th>1</th>\n",
       "      <td>Albury</td>\n",
       "      <td>7.4</td>\n",
       "      <td>25.1</td>\n",
       "      <td>0.0</td>\n",
       "      <td>NaN</td>\n",
       "      <td>NaN</td>\n",
       "      <td>WNW</td>\n",
       "      <td>44.0</td>\n",
       "      <td>NNW</td>\n",
       "      <td>WSW</td>\n",
       "      <td>4.0</td>\n",
       "      <td>22.0</td>\n",
       "      <td>44.0</td>\n",
       "      <td>25.0</td>\n",
       "      <td>1010.6</td>\n",
       "      <td>1007.8</td>\n",
       "      <td>NaN</td>\n",
       "      <td>NaN</td>\n",
       "      <td>17.2</td>\n",
       "      <td>24.3</td>\n",
       "      <td>No</td>\n",
       "      <td>No</td>\n",
       "      <td>2008</td>\n",
       "      <td>12</td>\n",
       "      <td>2</td>\n",
       "    </tr>\n",
       "    <tr>\n",
       "      <th>2</th>\n",
       "      <td>Albury</td>\n",
       "      <td>12.9</td>\n",
       "      <td>25.7</td>\n",
       "      <td>0.0</td>\n",
       "      <td>NaN</td>\n",
       "      <td>NaN</td>\n",
       "      <td>WSW</td>\n",
       "      <td>46.0</td>\n",
       "      <td>W</td>\n",
       "      <td>WSW</td>\n",
       "      <td>19.0</td>\n",
       "      <td>26.0</td>\n",
       "      <td>38.0</td>\n",
       "      <td>30.0</td>\n",
       "      <td>1007.6</td>\n",
       "      <td>1008.7</td>\n",
       "      <td>NaN</td>\n",
       "      <td>2.0</td>\n",
       "      <td>21.0</td>\n",
       "      <td>23.2</td>\n",
       "      <td>No</td>\n",
       "      <td>No</td>\n",
       "      <td>2008</td>\n",
       "      <td>12</td>\n",
       "      <td>3</td>\n",
       "    </tr>\n",
       "    <tr>\n",
       "      <th>3</th>\n",
       "      <td>Albury</td>\n",
       "      <td>9.2</td>\n",
       "      <td>28.0</td>\n",
       "      <td>0.0</td>\n",
       "      <td>NaN</td>\n",
       "      <td>NaN</td>\n",
       "      <td>NE</td>\n",
       "      <td>24.0</td>\n",
       "      <td>SE</td>\n",
       "      <td>E</td>\n",
       "      <td>11.0</td>\n",
       "      <td>9.0</td>\n",
       "      <td>45.0</td>\n",
       "      <td>16.0</td>\n",
       "      <td>1017.6</td>\n",
       "      <td>1012.8</td>\n",
       "      <td>NaN</td>\n",
       "      <td>NaN</td>\n",
       "      <td>18.1</td>\n",
       "      <td>26.5</td>\n",
       "      <td>No</td>\n",
       "      <td>No</td>\n",
       "      <td>2008</td>\n",
       "      <td>12</td>\n",
       "      <td>4</td>\n",
       "    </tr>\n",
       "    <tr>\n",
       "      <th>4</th>\n",
       "      <td>Albury</td>\n",
       "      <td>17.5</td>\n",
       "      <td>32.3</td>\n",
       "      <td>1.0</td>\n",
       "      <td>NaN</td>\n",
       "      <td>NaN</td>\n",
       "      <td>W</td>\n",
       "      <td>41.0</td>\n",
       "      <td>ENE</td>\n",
       "      <td>NW</td>\n",
       "      <td>7.0</td>\n",
       "      <td>20.0</td>\n",
       "      <td>82.0</td>\n",
       "      <td>33.0</td>\n",
       "      <td>1010.8</td>\n",
       "      <td>1006.0</td>\n",
       "      <td>7.0</td>\n",
       "      <td>8.0</td>\n",
       "      <td>17.8</td>\n",
       "      <td>29.7</td>\n",
       "      <td>No</td>\n",
       "      <td>No</td>\n",
       "      <td>2008</td>\n",
       "      <td>12</td>\n",
       "      <td>5</td>\n",
       "    </tr>\n",
       "  </tbody>\n",
       "</table>\n",
       "</div>"
      ],
      "text/plain": [
       "  Location  MinTemp  MaxTemp  Rainfall  Evaporation  Sunshine WindGustDir  \\\n",
       "0   Albury     13.4     22.9       0.6          NaN       NaN           W   \n",
       "1   Albury      7.4     25.1       0.0          NaN       NaN         WNW   \n",
       "2   Albury     12.9     25.7       0.0          NaN       NaN         WSW   \n",
       "3   Albury      9.2     28.0       0.0          NaN       NaN          NE   \n",
       "4   Albury     17.5     32.3       1.0          NaN       NaN           W   \n",
       "\n",
       "   WindGustSpeed WindDir9am WindDir3pm  WindSpeed9am  WindSpeed3pm  \\\n",
       "0           44.0          W        WNW          20.0          24.0   \n",
       "1           44.0        NNW        WSW           4.0          22.0   \n",
       "2           46.0          W        WSW          19.0          26.0   \n",
       "3           24.0         SE          E          11.0           9.0   \n",
       "4           41.0        ENE         NW           7.0          20.0   \n",
       "\n",
       "   Humidity9am  Humidity3pm  Pressure9am  Pressure3pm  Cloud9am  Cloud3pm  \\\n",
       "0         71.0         22.0       1007.7       1007.1       8.0       NaN   \n",
       "1         44.0         25.0       1010.6       1007.8       NaN       NaN   \n",
       "2         38.0         30.0       1007.6       1008.7       NaN       2.0   \n",
       "3         45.0         16.0       1017.6       1012.8       NaN       NaN   \n",
       "4         82.0         33.0       1010.8       1006.0       7.0       8.0   \n",
       "\n",
       "   Temp9am  Temp3pm RainToday RainTomorrow  year  month  day  \n",
       "0     16.9     21.8        No           No  2008     12    1  \n",
       "1     17.2     24.3        No           No  2008     12    2  \n",
       "2     21.0     23.2        No           No  2008     12    3  \n",
       "3     18.1     26.5        No           No  2008     12    4  \n",
       "4     17.8     29.7        No           No  2008     12    5  "
      ]
     },
     "execution_count": 10,
     "metadata": {},
     "output_type": "execute_result"
    }
   ],
   "source": [
    "#Drop the rain colum\n",
    "df.drop('Date', axis = 1, inplace = True)\n",
    "df.head()"
   ]
  },
  {
   "cell_type": "markdown",
   "id": "6b80819a",
   "metadata": {},
   "source": [
    "# Handling Missing values"
   ]
  },
  {
   "cell_type": "markdown",
   "id": "ab06fb33",
   "metadata": {},
   "source": [
    "##### 1 Machine learning algorithms can’t handle missing values and cause problems. So they need to be addressed in the first place. There are many techniques to identify and impute missing values.\n",
    "\n",
    "##### 2  If a dataset contains missing values and loaded using pandas, then missing values get replaced with NaN(Not a Number) values. These NaN values can be identified using methods like isna() or isnull() and they can be imputed using fillna(). This process is known as Missing Data Imputation."
   ]
  },
  {
   "cell_type": "code",
   "execution_count": 11,
   "id": "4691a9ed",
   "metadata": {},
   "outputs": [
    {
     "data": {
      "text/plain": [
       "Location          0.000000\n",
       "MinTemp           1.020899\n",
       "MaxTemp           0.866905\n",
       "Rainfall          2.241853\n",
       "Evaporation      43.166506\n",
       "Sunshine         48.009762\n",
       "WindGustDir       7.098859\n",
       "WindGustSpeed     7.055548\n",
       "WindDir9am        7.263853\n",
       "WindDir3pm        2.906641\n",
       "WindSpeed9am      1.214767\n",
       "WindSpeed3pm      2.105046\n",
       "Humidity9am       1.824557\n",
       "Humidity3pm       3.098446\n",
       "Pressure9am      10.356799\n",
       "Pressure3pm      10.331363\n",
       "Cloud9am         38.421559\n",
       "Cloud3pm         40.807095\n",
       "Temp9am           1.214767\n",
       "Temp3pm           2.481094\n",
       "RainToday         2.241853\n",
       "RainTomorrow      2.245978\n",
       "year              0.000000\n",
       "month             0.000000\n",
       "day               0.000000\n",
       "dtype: float64"
      ]
     },
     "execution_count": 11,
     "metadata": {},
     "output_type": "execute_result"
    }
   ],
   "source": [
    "# Handle Missing Values\n",
    "#Lets checl total percentage of missing values in our datsset\n",
    "df.isnull().sum()*100/len(df)"
   ]
  },
  {
   "cell_type": "code",
   "execution_count": 12,
   "id": "6e4cc71d",
   "metadata": {},
   "outputs": [
    {
     "data": {
      "text/plain": [
       "Location             0\n",
       "MinTemp           1485\n",
       "MaxTemp           1261\n",
       "Rainfall          3261\n",
       "Evaporation      62790\n",
       "Sunshine         69835\n",
       "WindGustDir      10326\n",
       "WindGustSpeed    10263\n",
       "WindDir9am       10566\n",
       "WindDir3pm        4228\n",
       "WindSpeed9am      1767\n",
       "WindSpeed3pm      3062\n",
       "Humidity9am       2654\n",
       "Humidity3pm       4507\n",
       "Pressure9am      15065\n",
       "Pressure3pm      15028\n",
       "Cloud9am         55888\n",
       "Cloud3pm         59358\n",
       "Temp9am           1767\n",
       "Temp3pm           3609\n",
       "RainToday         3261\n",
       "RainTomorrow      3267\n",
       "year                 0\n",
       "month                0\n",
       "day                  0\n",
       "dtype: int64"
      ]
     },
     "execution_count": 12,
     "metadata": {},
     "output_type": "execute_result"
    }
   ],
   "source": [
    "df.isnull().sum()"
   ]
  },
  {
   "cell_type": "markdown",
   "id": "bd702f59",
   "metadata": {},
   "source": [
    "#### Handling Missing values in Categorical Features:\n",
    "\n"
   ]
  },
  {
   "cell_type": "code",
   "execution_count": 13,
   "id": "4a56785d",
   "metadata": {},
   "outputs": [
    {
     "data": {
      "text/plain": [
       "Location            0\n",
       "WindGustDir     10326\n",
       "WindDir9am      10566\n",
       "WindDir3pm       4228\n",
       "RainToday        3261\n",
       "RainTomorrow     3267\n",
       "dtype: int64"
      ]
     },
     "execution_count": 13,
     "metadata": {},
     "output_type": "execute_result"
    }
   ],
   "source": [
    "categorical_features = [column_name for column_name in df.columns if df[column_name].dtype == 'O']\n",
    "df[categorical_features].isnull().sum()"
   ]
  },
  {
   "cell_type": "markdown",
   "id": "ccd4b352",
   "metadata": {},
   "source": [
    "#### Imputing the missing values in categorical features using the most frequent value which is mode:\n",
    "\n"
   ]
  },
  {
   "cell_type": "code",
   "execution_count": 14,
   "id": "6db0efa2",
   "metadata": {},
   "outputs": [],
   "source": [
    "categorical_features_with_null = [feature for feature in categorical_features if df[feature].isnull().sum()]\n",
    "for each_feature in categorical_features_with_null:\n",
    "    mode_val = df[each_feature].mode()[0]\n",
    "    df[each_feature].fillna(mode_val,inplace=True)"
   ]
  },
  {
   "cell_type": "code",
   "execution_count": 15,
   "id": "a54bb72e",
   "metadata": {},
   "outputs": [
    {
     "data": {
      "text/plain": [
       "MinTemp           1485\n",
       "MaxTemp           1261\n",
       "Rainfall          3261\n",
       "Evaporation      62790\n",
       "Sunshine         69835\n",
       "WindGustSpeed    10263\n",
       "WindSpeed9am      1767\n",
       "WindSpeed3pm      3062\n",
       "Humidity9am       2654\n",
       "Humidity3pm       4507\n",
       "Pressure9am      15065\n",
       "Pressure3pm      15028\n",
       "Cloud9am         55888\n",
       "Cloud3pm         59358\n",
       "Temp9am           1767\n",
       "Temp3pm           3609\n",
       "year                 0\n",
       "month                0\n",
       "day                  0\n",
       "dtype: int64"
      ]
     },
     "execution_count": 15,
     "metadata": {},
     "output_type": "execute_result"
    }
   ],
   "source": [
    "# Handling Missing values in Numerical features:\n",
    "numerical_features = [column_name for column_name in df.columns if df[column_name].dtype != 'O']\n",
    "df[numerical_features].isnull().sum()"
   ]
  },
  {
   "cell_type": "code",
   "execution_count": 16,
   "id": "standard-shower",
   "metadata": {
    "id": "standard-shower"
   },
   "outputs": [],
   "source": [
    "def randomsampleimputation(df, variable):\n",
    "    df[variable]=df[variable]\n",
    "    random_sample=df[variable].dropna().sample(df[variable].isnull().sum(),random_state=0)\n",
    "    random_sample.index=df[df[variable].isnull()].index\n",
    "    df.loc[df[variable].isnull(),variable]=random_sample"
   ]
  },
  {
   "cell_type": "markdown",
   "id": "ba937c8f",
   "metadata": {},
   "source": [
    "-The RandomSampleImputer() works with both numerical and categorical variables.\n",
    "\n",
    "-The RandomSampleImputer() replaces missing data with a random sample extracted from the variables in the training set.\n",
    "\n",
    "\n"
   ]
  },
  {
   "cell_type": "code",
   "execution_count": 17,
   "id": "previous-argument",
   "metadata": {
    "id": "previous-argument"
   },
   "outputs": [],
   "source": [
    "randomsampleimputation(df, \"Cloud9am\")\n",
    "randomsampleimputation(df, \"Cloud3pm\")\n",
    "randomsampleimputation(df, \"Evaporation\")\n",
    "randomsampleimputation(df, \"Sunshine\")"
   ]
  },
  {
   "cell_type": "code",
   "execution_count": 18,
   "id": "d0cd8cf2",
   "metadata": {},
   "outputs": [
    {
     "name": "stdout",
     "output_type": "stream",
     "text": [
      "Numerical Features Count 19\n",
      "Discrete feature Count 4\n",
      "Continuous feature Count 15\n",
      "Categorical feature Count 6\n"
     ]
    }
   ],
   "source": [
    "numerical_feature = [feature for feature in df.columns if df[feature].dtypes != 'O']\n",
    "discrete_feature=[feature for feature in numerical_feature if len(df[feature].unique())<25]\n",
    "continuous_feature = [feature for feature in numerical_feature if feature not in discrete_feature]\n",
    "categorical_feature = [feature for feature in df.columns if feature not in numerical_feature]\n",
    "print(\"Numerical Features Count {}\".format(len(numerical_feature)))\n",
    "print(\"Discrete feature Count {}\".format(len(discrete_feature)))\n",
    "print(\"Continuous feature Count {}\".format(len(continuous_feature)))\n",
    "print(\"Categorical feature Count {}\".format(len(categorical_feature)))"
   ]
  },
  {
   "cell_type": "code",
   "execution_count": 19,
   "id": "bd482b99",
   "metadata": {},
   "outputs": [],
   "source": [
    "discrete_feature=[feature for feature in numerical_feature if len(df[feature].unique())<25]\n",
    "continuous_feature = [feature for feature in numerical_feature if feature not in discrete_feature]"
   ]
  },
  {
   "cell_type": "code",
   "execution_count": 20,
   "id": "blank-boring",
   "metadata": {
    "colab": {
     "base_uri": "https://localhost:8080/",
     "height": 590
    },
    "id": "blank-boring",
    "outputId": "977bffe3-87ca-46f5-f4c8-80def357b63f"
   },
   "outputs": [
    {
     "data": {
      "text/html": [
       "<div>\n",
       "<style scoped>\n",
       "    .dataframe tbody tr th:only-of-type {\n",
       "        vertical-align: middle;\n",
       "    }\n",
       "\n",
       "    .dataframe tbody tr th {\n",
       "        vertical-align: top;\n",
       "    }\n",
       "\n",
       "    .dataframe thead th {\n",
       "        text-align: right;\n",
       "    }\n",
       "</style>\n",
       "<table border=\"1\" class=\"dataframe\">\n",
       "  <thead>\n",
       "    <tr style=\"text-align: right;\">\n",
       "      <th></th>\n",
       "      <th>Location</th>\n",
       "      <th>MinTemp</th>\n",
       "      <th>MaxTemp</th>\n",
       "      <th>Rainfall</th>\n",
       "      <th>Evaporation</th>\n",
       "      <th>Sunshine</th>\n",
       "      <th>WindGustDir</th>\n",
       "      <th>WindGustSpeed</th>\n",
       "      <th>WindDir9am</th>\n",
       "      <th>WindDir3pm</th>\n",
       "      <th>WindSpeed9am</th>\n",
       "      <th>WindSpeed3pm</th>\n",
       "      <th>Humidity9am</th>\n",
       "      <th>Humidity3pm</th>\n",
       "      <th>Pressure9am</th>\n",
       "      <th>Pressure3pm</th>\n",
       "      <th>Cloud9am</th>\n",
       "      <th>Cloud3pm</th>\n",
       "      <th>Temp9am</th>\n",
       "      <th>Temp3pm</th>\n",
       "      <th>RainToday</th>\n",
       "      <th>RainTomorrow</th>\n",
       "      <th>year</th>\n",
       "      <th>month</th>\n",
       "      <th>day</th>\n",
       "    </tr>\n",
       "  </thead>\n",
       "  <tbody>\n",
       "    <tr>\n",
       "      <th>0</th>\n",
       "      <td>Albury</td>\n",
       "      <td>13.4</td>\n",
       "      <td>22.9</td>\n",
       "      <td>0.6</td>\n",
       "      <td>2.4</td>\n",
       "      <td>8.3</td>\n",
       "      <td>W</td>\n",
       "      <td>44.0</td>\n",
       "      <td>W</td>\n",
       "      <td>WNW</td>\n",
       "      <td>20.0</td>\n",
       "      <td>24.0</td>\n",
       "      <td>71.0</td>\n",
       "      <td>22.0</td>\n",
       "      <td>1007.7</td>\n",
       "      <td>1007.1</td>\n",
       "      <td>8.0</td>\n",
       "      <td>0.0</td>\n",
       "      <td>16.9</td>\n",
       "      <td>21.8</td>\n",
       "      <td>No</td>\n",
       "      <td>No</td>\n",
       "      <td>2008</td>\n",
       "      <td>12</td>\n",
       "      <td>1</td>\n",
       "    </tr>\n",
       "    <tr>\n",
       "      <th>1</th>\n",
       "      <td>Albury</td>\n",
       "      <td>7.4</td>\n",
       "      <td>25.1</td>\n",
       "      <td>0.0</td>\n",
       "      <td>3.6</td>\n",
       "      <td>10.0</td>\n",
       "      <td>WNW</td>\n",
       "      <td>44.0</td>\n",
       "      <td>NNW</td>\n",
       "      <td>WSW</td>\n",
       "      <td>4.0</td>\n",
       "      <td>22.0</td>\n",
       "      <td>44.0</td>\n",
       "      <td>25.0</td>\n",
       "      <td>1010.6</td>\n",
       "      <td>1007.8</td>\n",
       "      <td>7.0</td>\n",
       "      <td>1.0</td>\n",
       "      <td>17.2</td>\n",
       "      <td>24.3</td>\n",
       "      <td>No</td>\n",
       "      <td>No</td>\n",
       "      <td>2008</td>\n",
       "      <td>12</td>\n",
       "      <td>2</td>\n",
       "    </tr>\n",
       "    <tr>\n",
       "      <th>2</th>\n",
       "      <td>Albury</td>\n",
       "      <td>12.9</td>\n",
       "      <td>25.7</td>\n",
       "      <td>0.0</td>\n",
       "      <td>2.6</td>\n",
       "      <td>4.4</td>\n",
       "      <td>WSW</td>\n",
       "      <td>46.0</td>\n",
       "      <td>W</td>\n",
       "      <td>WSW</td>\n",
       "      <td>19.0</td>\n",
       "      <td>26.0</td>\n",
       "      <td>38.0</td>\n",
       "      <td>30.0</td>\n",
       "      <td>1007.6</td>\n",
       "      <td>1008.7</td>\n",
       "      <td>8.0</td>\n",
       "      <td>2.0</td>\n",
       "      <td>21.0</td>\n",
       "      <td>23.2</td>\n",
       "      <td>No</td>\n",
       "      <td>No</td>\n",
       "      <td>2008</td>\n",
       "      <td>12</td>\n",
       "      <td>3</td>\n",
       "    </tr>\n",
       "    <tr>\n",
       "      <th>3</th>\n",
       "      <td>Albury</td>\n",
       "      <td>9.2</td>\n",
       "      <td>28.0</td>\n",
       "      <td>0.0</td>\n",
       "      <td>18.4</td>\n",
       "      <td>8.9</td>\n",
       "      <td>NE</td>\n",
       "      <td>24.0</td>\n",
       "      <td>SE</td>\n",
       "      <td>E</td>\n",
       "      <td>11.0</td>\n",
       "      <td>9.0</td>\n",
       "      <td>45.0</td>\n",
       "      <td>16.0</td>\n",
       "      <td>1017.6</td>\n",
       "      <td>1012.8</td>\n",
       "      <td>0.0</td>\n",
       "      <td>5.0</td>\n",
       "      <td>18.1</td>\n",
       "      <td>26.5</td>\n",
       "      <td>No</td>\n",
       "      <td>No</td>\n",
       "      <td>2008</td>\n",
       "      <td>12</td>\n",
       "      <td>4</td>\n",
       "    </tr>\n",
       "    <tr>\n",
       "      <th>4</th>\n",
       "      <td>Albury</td>\n",
       "      <td>17.5</td>\n",
       "      <td>32.3</td>\n",
       "      <td>1.0</td>\n",
       "      <td>5.4</td>\n",
       "      <td>3.0</td>\n",
       "      <td>W</td>\n",
       "      <td>41.0</td>\n",
       "      <td>ENE</td>\n",
       "      <td>NW</td>\n",
       "      <td>7.0</td>\n",
       "      <td>20.0</td>\n",
       "      <td>82.0</td>\n",
       "      <td>33.0</td>\n",
       "      <td>1010.8</td>\n",
       "      <td>1006.0</td>\n",
       "      <td>7.0</td>\n",
       "      <td>8.0</td>\n",
       "      <td>17.8</td>\n",
       "      <td>29.7</td>\n",
       "      <td>No</td>\n",
       "      <td>No</td>\n",
       "      <td>2008</td>\n",
       "      <td>12</td>\n",
       "      <td>5</td>\n",
       "    </tr>\n",
       "  </tbody>\n",
       "</table>\n",
       "</div>"
      ],
      "text/plain": [
       "  Location  MinTemp  MaxTemp  Rainfall  Evaporation  Sunshine WindGustDir  \\\n",
       "0   Albury     13.4     22.9       0.6          2.4       8.3           W   \n",
       "1   Albury      7.4     25.1       0.0          3.6      10.0         WNW   \n",
       "2   Albury     12.9     25.7       0.0          2.6       4.4         WSW   \n",
       "3   Albury      9.2     28.0       0.0         18.4       8.9          NE   \n",
       "4   Albury     17.5     32.3       1.0          5.4       3.0           W   \n",
       "\n",
       "   WindGustSpeed WindDir9am WindDir3pm  WindSpeed9am  WindSpeed3pm  \\\n",
       "0           44.0          W        WNW          20.0          24.0   \n",
       "1           44.0        NNW        WSW           4.0          22.0   \n",
       "2           46.0          W        WSW          19.0          26.0   \n",
       "3           24.0         SE          E          11.0           9.0   \n",
       "4           41.0        ENE         NW           7.0          20.0   \n",
       "\n",
       "   Humidity9am  Humidity3pm  Pressure9am  Pressure3pm  Cloud9am  Cloud3pm  \\\n",
       "0         71.0         22.0       1007.7       1007.1       8.0       0.0   \n",
       "1         44.0         25.0       1010.6       1007.8       7.0       1.0   \n",
       "2         38.0         30.0       1007.6       1008.7       8.0       2.0   \n",
       "3         45.0         16.0       1017.6       1012.8       0.0       5.0   \n",
       "4         82.0         33.0       1010.8       1006.0       7.0       8.0   \n",
       "\n",
       "   Temp9am  Temp3pm RainToday RainTomorrow  year  month  day  \n",
       "0     16.9     21.8        No           No  2008     12    1  \n",
       "1     17.2     24.3        No           No  2008     12    2  \n",
       "2     21.0     23.2        No           No  2008     12    3  \n",
       "3     18.1     26.5        No           No  2008     12    4  \n",
       "4     17.8     29.7        No           No  2008     12    5  "
      ]
     },
     "execution_count": 20,
     "metadata": {},
     "output_type": "execute_result"
    }
   ],
   "source": [
    "df.head()"
   ]
  },
  {
   "cell_type": "code",
   "execution_count": 21,
   "id": "noted-platform",
   "metadata": {
    "id": "noted-platform"
   },
   "outputs": [],
   "source": [
    "for feature in continuous_feature:\n",
    "    if(df[feature].isnull().sum()*100/len(df))>0:\n",
    "        df[feature] = df[feature].fillna(df[feature].median())"
   ]
  },
  {
   "cell_type": "code",
   "execution_count": 22,
   "id": "earned-lewis",
   "metadata": {
    "colab": {
     "base_uri": "https://localhost:8080/"
    },
    "id": "earned-lewis",
    "outputId": "dad9fc5f-013c-4d4b-8cb0-8c88be8f96f6"
   },
   "outputs": [
    {
     "data": {
      "text/plain": [
       "['Cloud9am', 'Cloud3pm', 'year', 'month']"
      ]
     },
     "execution_count": 22,
     "metadata": {},
     "output_type": "execute_result"
    }
   ],
   "source": [
    "discrete_feature"
   ]
  },
  {
   "cell_type": "code",
   "execution_count": 23,
   "id": "wrong-assault",
   "metadata": {
    "id": "wrong-assault"
   },
   "outputs": [],
   "source": [
    "def mode_nan(df,variable):\n",
    "    mode=df[variable].value_counts().index[0]\n",
    "    df[variable].fillna(mode,inplace=True)\n",
    "mode_nan(df,\"Cloud9am\")\n",
    "mode_nan(df,\"Cloud3pm\")"
   ]
  },
  {
   "cell_type": "code",
   "execution_count": 24,
   "id": "74b63f5d",
   "metadata": {},
   "outputs": [
    {
     "data": {
      "text/plain": [
       "Location         0\n",
       "MinTemp          0\n",
       "MaxTemp          0\n",
       "Rainfall         0\n",
       "Evaporation      0\n",
       "Sunshine         0\n",
       "WindGustDir      0\n",
       "WindGustSpeed    0\n",
       "WindDir9am       0\n",
       "WindDir3pm       0\n",
       "WindSpeed9am     0\n",
       "WindSpeed3pm     0\n",
       "Humidity9am      0\n",
       "Humidity3pm      0\n",
       "Pressure9am      0\n",
       "Pressure3pm      0\n",
       "Cloud9am         0\n",
       "Cloud3pm         0\n",
       "Temp9am          0\n",
       "Temp3pm          0\n",
       "RainToday        0\n",
       "RainTomorrow     0\n",
       "year             0\n",
       "month            0\n",
       "day              0\n",
       "dtype: int64"
      ]
     },
     "execution_count": 24,
     "metadata": {},
     "output_type": "execute_result"
    }
   ],
   "source": [
    "df.isnull().sum()"
   ]
  },
  {
   "cell_type": "code",
   "execution_count": null,
   "id": "78ee007d",
   "metadata": {},
   "outputs": [],
   "source": []
  },
  {
   "cell_type": "markdown",
   "id": "5407aa0a",
   "metadata": {},
   "source": [
    "## . Outliers detection and treatment:\n",
    "### What is an outlier?\n",
    "\n",
    "An Outlier is an observation that lies an abnormal distance from other values in a given sample. They can be detected using visualization(like boxplots, scatter plots), Z-score, statistical and probabilistic algorithms, etc.\n",
    "\n",
    "# Outlier Treatment to remove outliers from Numerical Features:\n",
    "\n"
   ]
  },
  {
   "cell_type": "code",
   "execution_count": 25,
   "id": "c8427213",
   "metadata": {},
   "outputs": [],
   "source": [
    "features_with_outliers = ['MinTemp', 'MaxTemp', 'Rainfall', 'Evaporation', 'WindGustSpeed','WindSpeed9am', 'WindSpeed3pm', 'Humidity9am', 'Pressure9am', 'Pressure3pm', 'Temp9am', 'Temp3pm']\n",
    "for feature in features_with_outliers:\n",
    "    q1 = df[feature].quantile(0.25)\n",
    "    q3 = df[feature].quantile(0.75)\n",
    "    IQR = q3-q1\n",
    "    lower_limit = q1 - (IQR*1.5)\n",
    "    upper_limit = q3 + (IQR*1.5)\n",
    "    df.loc[df[feature]<lower_limit,feature] = lower_limit\n",
    "    df.loc[df[feature]>upper_limit,feature] = upper_limit"
   ]
  },
  {
   "cell_type": "markdown",
   "id": "302ec1f5",
   "metadata": {},
   "source": [
    "# 9. Exploratory Data Analysis:\n"
   ]
  },
  {
   "cell_type": "markdown",
   "id": "8d204a4c",
   "metadata": {},
   "source": [
    "Exploratory Data Analysis(EDA) is a technique used to analyze, visualize, investigate, interpret, discover and summarize data. It helps Data Scientists to extract trends, patterns, and relationships in data."
   ]
  },
  {
   "cell_type": "code",
   "execution_count": 26,
   "id": "4e633f97",
   "metadata": {},
   "outputs": [
    {
     "data": {
      "text/plain": [
       "<AxesSubplot:>"
      ]
     },
     "execution_count": 26,
     "metadata": {},
     "output_type": "execute_result"
    },
    {
     "data": {
      "image/png": "[encoded data removed]",
      "text/plain": [
       "<Figure size 432x288 with 1 Axes>"
      ]
     },
     "metadata": {
      "needs_background": "light"
     },
     "output_type": "display_data"
    }
   ],
   "source": [
    "df['RainTomorrow'].value_counts().plot(kind='bar')\n"
   ]
  },
  {
   "cell_type": "markdown",
   "id": "4311fdca",
   "metadata": {},
   "source": [
    "Looks like the Target variable is imbalanced. It has more ‘No’ values. If data is imbalanced, then it might decrease the performance of the model. As this data is released by the meteorological department of Australia, it doesn’t make any sense when we try to balance the target variable, because the truthfulness of data might decrease. So, let me keep it as it is."
   ]
  },
  {
   "cell_type": "code",
   "execution_count": 27,
   "id": "7b57698b",
   "metadata": {},
   "outputs": [
    {
     "data": {
      "text/plain": [
       "<AxesSubplot:xlabel='Sunshine', ylabel='Rainfall'>"
      ]
     },
     "execution_count": 27,
     "metadata": {},
     "output_type": "execute_result"
    },
    {
     "data": {
      "image/png": "[encoded data removed]",
      "text/plain": [
       "<Figure size 432x288 with 1 Axes>"
      ]
     },
     "metadata": {
      "needs_background": "light"
     },
     "output_type": "display_data"
    }
   ],
   "source": [
    "sns.lineplot(data=df,x='Sunshine',y='Rainfall',color='green')\n"
   ]
  },
  {
   "cell_type": "markdown",
   "id": "cfa20e09",
   "metadata": {},
   "source": [
    "In the above line plot, the Sunshine feature is inversely proportional to the Rainfall feature.\n",
    "\n"
   ]
  },
  {
   "cell_type": "code",
   "execution_count": 28,
   "id": "db9a023e",
   "metadata": {},
   "outputs": [
    {
     "data": {
      "text/plain": [
       "<AxesSubplot:xlabel='Sunshine', ylabel='Evaporation'>"
      ]
     },
     "execution_count": 28,
     "metadata": {},
     "output_type": "execute_result"
    },
    {
     "data": {
      "image/png": "[encoded data removed]",
      "text/plain": [
       "<Figure size 432x288 with 1 Axes>"
      ]
     },
     "metadata": {
      "needs_background": "light"
     },
     "output_type": "display_data"
    }
   ],
   "source": [
    "sns.lineplot(data=df,x='Sunshine',y='Evaporation',color='blue')\n"
   ]
  },
  {
   "cell_type": "code",
   "execution_count": 29,
   "id": "5d8a1936",
   "metadata": {},
   "outputs": [
    {
     "data": {
      "text/plain": [
       "<AxesSubplot:xlabel='MaxTemp', ylabel='Rainfall'>"
      ]
     },
     "execution_count": 29,
     "metadata": {},
     "output_type": "execute_result"
    },
    {
     "data": {
      "image/png": "[encoded data removed]",
      "text/plain": [
       "<Figure size 432x288 with 1 Axes>"
      ]
     },
     "metadata": {
      "needs_background": "light"
     },
     "output_type": "display_data"
    }
   ],
   "source": [
    "sns.lineplot(data=df,x='MaxTemp',y='Rainfall',color='blue')\n"
   ]
  },
  {
   "cell_type": "code",
   "execution_count": 30,
   "id": "1661d4e2",
   "metadata": {},
   "outputs": [
    {
     "data": {
      "text/plain": [
       "<AxesSubplot:xlabel='Humidity3pm', ylabel='Rainfall'>"
      ]
     },
     "execution_count": 30,
     "metadata": {},
     "output_type": "execute_result"
    },
    {
     "data": {
      "image/png": "[encoded data removed]",
      "text/plain": [
       "<Figure size 432x288 with 1 Axes>"
      ]
     },
     "metadata": {
      "needs_background": "light"
     },
     "output_type": "display_data"
    }
   ],
   "source": [
    "sns.lineplot(data=df,x='Humidity3pm',y='Rainfall',color='red')\n"
   ]
  },
  {
   "cell_type": "markdown",
   "id": "b48f60f2",
   "metadata": {},
   "source": [
    "# Encoding of Categorical Features:"
   ]
  },
  {
   "cell_type": "markdown",
   "id": "1c4cf589",
   "metadata": {},
   "source": [
    "Most Machine Learning Algorithms like Logistic Regression, Support Vector Machines, K Nearest Neighbours, etc. can’t handle categorical data. Hence, these categorical data need to converted to numerical data for modeling, which is called  Feature Encoding.\n",
    "\n",
    "There are many feature encoding techniques like One code encoding, label encoding. But in this particular blog, I will be using replace() function to encode categorical data to numerical data."
   ]
  },
  {
   "cell_type": "code",
   "execution_count": 31,
   "id": "f57cf79d",
   "metadata": {},
   "outputs": [],
   "source": [
    "def encode_data(feature_name):\n",
    "\n",
    "    ''' \n",
    "\n",
    "    This function takes feature name as a parameter and returns mapping dictionary to replace(or map) categorical data with numerical data.\n",
    "\n",
    "    '''\n",
    "\n",
    "    mapping_dict = {}\n",
    "\n",
    "    unique_values = list(df[feature_name].unique())\n",
    "\n",
    "    for idx in range(len(unique_values)):\n",
    "\n",
    "        mapping_dict[unique_values[idx]] = idx\n",
    "\n",
    "    return mapping_dict\n",
    "\n",
    "\n",
    "\n",
    "\n",
    "df['RainToday'].replace({'No':0, 'Yes': 1}, inplace = True)\n",
    "\n",
    "df['RainTomorrow'].replace({'No':0, 'Yes': 1}, inplace = True)\n",
    "\n",
    "df['WindGustDir'].replace(encode_data('WindGustDir'),inplace = True)\n",
    "\n",
    "df['WindDir9am'].replace(encode_data('WindDir9am'),inplace = True)\n",
    "\n",
    "df['WindDir3pm'].replace(encode_data('WindDir3pm'),inplace = True)\n",
    "\n",
    "df['Location'].replace(encode_data('Location'), inplace = True)"
   ]
  },
  {
   "cell_type": "code",
   "execution_count": 32,
   "id": "73d0fa4f",
   "metadata": {},
   "outputs": [
    {
     "data": {
      "text/html": [
       "<div>\n",
       "<style scoped>\n",
       "    .dataframe tbody tr th:only-of-type {\n",
       "        vertical-align: middle;\n",
       "    }\n",
       "\n",
       "    .dataframe tbody tr th {\n",
       "        vertical-align: top;\n",
       "    }\n",
       "\n",
       "    .dataframe thead th {\n",
       "        text-align: right;\n",
       "    }\n",
       "</style>\n",
       "<table border=\"1\" class=\"dataframe\">\n",
       "  <thead>\n",
       "    <tr style=\"text-align: right;\">\n",
       "      <th></th>\n",
       "      <th>Location</th>\n",
       "      <th>MinTemp</th>\n",
       "      <th>MaxTemp</th>\n",
       "      <th>Rainfall</th>\n",
       "      <th>Evaporation</th>\n",
       "      <th>Sunshine</th>\n",
       "      <th>WindGustDir</th>\n",
       "      <th>WindGustSpeed</th>\n",
       "      <th>WindDir9am</th>\n",
       "      <th>WindDir3pm</th>\n",
       "      <th>WindSpeed9am</th>\n",
       "      <th>WindSpeed3pm</th>\n",
       "      <th>Humidity9am</th>\n",
       "      <th>Humidity3pm</th>\n",
       "      <th>Pressure9am</th>\n",
       "      <th>Pressure3pm</th>\n",
       "      <th>Cloud9am</th>\n",
       "      <th>Cloud3pm</th>\n",
       "      <th>Temp9am</th>\n",
       "      <th>Temp3pm</th>\n",
       "      <th>RainToday</th>\n",
       "      <th>RainTomorrow</th>\n",
       "      <th>year</th>\n",
       "      <th>month</th>\n",
       "      <th>day</th>\n",
       "    </tr>\n",
       "  </thead>\n",
       "  <tbody>\n",
       "    <tr>\n",
       "      <th>0</th>\n",
       "      <td>0</td>\n",
       "      <td>13.4</td>\n",
       "      <td>22.9</td>\n",
       "      <td>0.6</td>\n",
       "      <td>2.4</td>\n",
       "      <td>8.3</td>\n",
       "      <td>0</td>\n",
       "      <td>44.0</td>\n",
       "      <td>0</td>\n",
       "      <td>0</td>\n",
       "      <td>20.0</td>\n",
       "      <td>24.0</td>\n",
       "      <td>71.0</td>\n",
       "      <td>22.0</td>\n",
       "      <td>1007.7</td>\n",
       "      <td>1007.1</td>\n",
       "      <td>8.0</td>\n",
       "      <td>0.0</td>\n",
       "      <td>16.9</td>\n",
       "      <td>21.8</td>\n",
       "      <td>0</td>\n",
       "      <td>0</td>\n",
       "      <td>2008</td>\n",
       "      <td>12</td>\n",
       "      <td>1</td>\n",
       "    </tr>\n",
       "    <tr>\n",
       "      <th>1</th>\n",
       "      <td>0</td>\n",
       "      <td>7.4</td>\n",
       "      <td>25.1</td>\n",
       "      <td>0.0</td>\n",
       "      <td>3.6</td>\n",
       "      <td>10.0</td>\n",
       "      <td>1</td>\n",
       "      <td>44.0</td>\n",
       "      <td>1</td>\n",
       "      <td>1</td>\n",
       "      <td>4.0</td>\n",
       "      <td>22.0</td>\n",
       "      <td>44.0</td>\n",
       "      <td>25.0</td>\n",
       "      <td>1010.6</td>\n",
       "      <td>1007.8</td>\n",
       "      <td>7.0</td>\n",
       "      <td>1.0</td>\n",
       "      <td>17.2</td>\n",
       "      <td>24.3</td>\n",
       "      <td>0</td>\n",
       "      <td>0</td>\n",
       "      <td>2008</td>\n",
       "      <td>12</td>\n",
       "      <td>2</td>\n",
       "    </tr>\n",
       "    <tr>\n",
       "      <th>2</th>\n",
       "      <td>0</td>\n",
       "      <td>12.9</td>\n",
       "      <td>25.7</td>\n",
       "      <td>0.0</td>\n",
       "      <td>2.6</td>\n",
       "      <td>4.4</td>\n",
       "      <td>2</td>\n",
       "      <td>46.0</td>\n",
       "      <td>0</td>\n",
       "      <td>1</td>\n",
       "      <td>19.0</td>\n",
       "      <td>26.0</td>\n",
       "      <td>38.0</td>\n",
       "      <td>30.0</td>\n",
       "      <td>1007.6</td>\n",
       "      <td>1008.7</td>\n",
       "      <td>8.0</td>\n",
       "      <td>2.0</td>\n",
       "      <td>21.0</td>\n",
       "      <td>23.2</td>\n",
       "      <td>0</td>\n",
       "      <td>0</td>\n",
       "      <td>2008</td>\n",
       "      <td>12</td>\n",
       "      <td>3</td>\n",
       "    </tr>\n",
       "    <tr>\n",
       "      <th>3</th>\n",
       "      <td>0</td>\n",
       "      <td>9.2</td>\n",
       "      <td>28.0</td>\n",
       "      <td>0.0</td>\n",
       "      <td>14.6</td>\n",
       "      <td>8.9</td>\n",
       "      <td>3</td>\n",
       "      <td>24.0</td>\n",
       "      <td>2</td>\n",
       "      <td>2</td>\n",
       "      <td>11.0</td>\n",
       "      <td>9.0</td>\n",
       "      <td>45.0</td>\n",
       "      <td>16.0</td>\n",
       "      <td>1017.6</td>\n",
       "      <td>1012.8</td>\n",
       "      <td>0.0</td>\n",
       "      <td>5.0</td>\n",
       "      <td>18.1</td>\n",
       "      <td>26.5</td>\n",
       "      <td>0</td>\n",
       "      <td>0</td>\n",
       "      <td>2008</td>\n",
       "      <td>12</td>\n",
       "      <td>4</td>\n",
       "    </tr>\n",
       "    <tr>\n",
       "      <th>4</th>\n",
       "      <td>0</td>\n",
       "      <td>17.5</td>\n",
       "      <td>32.3</td>\n",
       "      <td>1.0</td>\n",
       "      <td>5.4</td>\n",
       "      <td>3.0</td>\n",
       "      <td>0</td>\n",
       "      <td>41.0</td>\n",
       "      <td>3</td>\n",
       "      <td>3</td>\n",
       "      <td>7.0</td>\n",
       "      <td>20.0</td>\n",
       "      <td>82.0</td>\n",
       "      <td>33.0</td>\n",
       "      <td>1010.8</td>\n",
       "      <td>1006.0</td>\n",
       "      <td>7.0</td>\n",
       "      <td>8.0</td>\n",
       "      <td>17.8</td>\n",
       "      <td>29.7</td>\n",
       "      <td>0</td>\n",
       "      <td>0</td>\n",
       "      <td>2008</td>\n",
       "      <td>12</td>\n",
       "      <td>5</td>\n",
       "    </tr>\n",
       "  </tbody>\n",
       "</table>\n",
       "</div>"
      ],
      "text/plain": [
       "   Location  MinTemp  MaxTemp  Rainfall  Evaporation  Sunshine  WindGustDir  \\\n",
       "0         0     13.4     22.9       0.6          2.4       8.3            0   \n",
       "1         0      7.4     25.1       0.0          3.6      10.0            1   \n",
       "2         0     12.9     25.7       0.0          2.6       4.4            2   \n",
       "3         0      9.2     28.0       0.0         14.6       8.9            3   \n",
       "4         0     17.5     32.3       1.0          5.4       3.0            0   \n",
       "\n",
       "   WindGustSpeed  WindDir9am  WindDir3pm  WindSpeed9am  WindSpeed3pm  \\\n",
       "0           44.0           0           0          20.0          24.0   \n",
       "1           44.0           1           1           4.0          22.0   \n",
       "2           46.0           0           1          19.0          26.0   \n",
       "3           24.0           2           2          11.0           9.0   \n",
       "4           41.0           3           3           7.0          20.0   \n",
       "\n",
       "   Humidity9am  Humidity3pm  Pressure9am  Pressure3pm  Cloud9am  Cloud3pm  \\\n",
       "0         71.0         22.0       1007.7       1007.1       8.0       0.0   \n",
       "1         44.0         25.0       1010.6       1007.8       7.0       1.0   \n",
       "2         38.0         30.0       1007.6       1008.7       8.0       2.0   \n",
       "3         45.0         16.0       1017.6       1012.8       0.0       5.0   \n",
       "4         82.0         33.0       1010.8       1006.0       7.0       8.0   \n",
       "\n",
       "   Temp9am  Temp3pm  RainToday  RainTomorrow  year  month  day  \n",
       "0     16.9     21.8          0             0  2008     12    1  \n",
       "1     17.2     24.3          0             0  2008     12    2  \n",
       "2     21.0     23.2          0             0  2008     12    3  \n",
       "3     18.1     26.5          0             0  2008     12    4  \n",
       "4     17.8     29.7          0             0  2008     12    5  "
      ]
     },
     "execution_count": 32,
     "metadata": {},
     "output_type": "execute_result"
    }
   ],
   "source": [
    "df.head()"
   ]
  },
  {
   "cell_type": "markdown",
   "id": "f6abb039",
   "metadata": {},
   "source": [
    "In the above line plot, the Sunshine feature is proportional to the Evaporation feature."
   ]
  },
  {
   "cell_type": "markdown",
   "id": "fbbd985e",
   "metadata": {},
   "source": [
    "### Correlation: \n",
    "Correlation is a statistic that helps to measure the strength of the relationship between two features. It is used in bivariate analysis. Correlation can be calculated with method corr() in pandas.\n",
    "\n"
   ]
  },
  {
   "cell_type": "code",
   "execution_count": 33,
   "id": "4236a6d3",
   "metadata": {},
   "outputs": [
    {
     "data": {
      "text/plain": [
       "<AxesSubplot:>"
      ]
     },
     "execution_count": 33,
     "metadata": {},
     "output_type": "execute_result"
    },
    {
     "data": {
      "image/png": "[encoded data removed]",
      "text/plain": [
       "<Figure size 1440x1440 with 2 Axes>"
      ]
     },
     "metadata": {
      "needs_background": "light"
     },
     "output_type": "display_data"
    }
   ],
   "source": [
    "plt.figure(figsize=(20,20))\n",
    "sns.heatmap(df.corr(), linewidths=0.5, annot=False, fmt=\".2f\", cmap = 'viridis')"
   ]
  },
  {
   "cell_type": "code",
   "execution_count": 34,
   "id": "f061758f",
   "metadata": {},
   "outputs": [
    {
     "name": "stderr",
     "output_type": "stream",
     "text": [
      "/home/stellapps/Documents/project_env/lib/python3.8/site-packages/seaborn/distributions.py:2619: FutureWarning: `distplot` is a deprecated function and will be removed in a future version. Please adapt your code to use either `displot` (a figure-level function with similar flexibility) or `histplot` (an axes-level function for histograms).\n",
      "  warnings.warn(msg, FutureWarning)\n"
     ]
    },
    {
     "data": {
      "image/png": "[encoded data removed]",
      "text/plain": [
       "<Figure size 432x288 with 1 Axes>"
      ]
     },
     "metadata": {
      "needs_background": "light"
     },
     "output_type": "display_data"
    },
    {
     "data": {
      "text/plain": [
       "<Figure size 1080x1080 with 0 Axes>"
      ]
     },
     "metadata": {},
     "output_type": "display_data"
    },
    {
     "name": "stderr",
     "output_type": "stream",
     "text": [
      "/home/stellapps/Documents/project_env/lib/python3.8/site-packages/seaborn/distributions.py:2619: FutureWarning: `distplot` is a deprecated function and will be removed in a future version. Please adapt your code to use either `displot` (a figure-level function with similar flexibility) or `histplot` (an axes-level function for histograms).\n",
      "  warnings.warn(msg, FutureWarning)\n"
     ]
    },
    {
     "data": {
      "image/png": "[encoded data removed]",
      "text/plain": [
       "<Figure size 432x288 with 1 Axes>"
      ]
     },
     "metadata": {
      "needs_background": "light"
     },
     "output_type": "display_data"
    },
    {
     "data": {
      "text/plain": [
       "<Figure size 1080x1080 with 0 Axes>"
      ]
     },
     "metadata": {},
     "output_type": "display_data"
    },
    {
     "name": "stderr",
     "output_type": "stream",
     "text": [
      "/home/stellapps/Documents/project_env/lib/python3.8/site-packages/seaborn/distributions.py:2619: FutureWarning: `distplot` is a deprecated function and will be removed in a future version. Please adapt your code to use either `displot` (a figure-level function with similar flexibility) or `histplot` (an axes-level function for histograms).\n",
      "  warnings.warn(msg, FutureWarning)\n"
     ]
    },
    {
     "data": {
      "image/png": "[encoded data removed]",
      "text/plain": [
       "<Figure size 432x288 with 1 Axes>"
      ]
     },
     "metadata": {
      "needs_background": "light"
     },
     "output_type": "display_data"
    },
    {
     "data": {
      "text/plain": [
       "<Figure size 1080x1080 with 0 Axes>"
      ]
     },
     "metadata": {},
     "output_type": "display_data"
    },
    {
     "name": "stderr",
     "output_type": "stream",
     "text": [
      "/home/stellapps/Documents/project_env/lib/python3.8/site-packages/seaborn/distributions.py:2619: FutureWarning: `distplot` is a deprecated function and will be removed in a future version. Please adapt your code to use either `displot` (a figure-level function with similar flexibility) or `histplot` (an axes-level function for histograms).\n",
      "  warnings.warn(msg, FutureWarning)\n"
     ]
    },
    {
     "data": {
      "image/png": "[encoded data removed]",
      "text/plain": [
       "<Figure size 432x288 with 1 Axes>"
      ]
     },
     "metadata": {
      "needs_background": "light"
     },
     "output_type": "display_data"
    },
    {
     "data": {
      "text/plain": [
       "<Figure size 1080x1080 with 0 Axes>"
      ]
     },
     "metadata": {},
     "output_type": "display_data"
    },
    {
     "name": "stderr",
     "output_type": "stream",
     "text": [
      "/home/stellapps/Documents/project_env/lib/python3.8/site-packages/seaborn/distributions.py:2619: FutureWarning: `distplot` is a deprecated function and will be removed in a future version. Please adapt your code to use either `displot` (a figure-level function with similar flexibility) or `histplot` (an axes-level function for histograms).\n",
      "  warnings.warn(msg, FutureWarning)\n"
     ]
    },
    {
     "data": {
      "image/png": "[encoded data removed]",
      "text/plain": [
       "<Figure size 432x288 with 1 Axes>"
      ]
     },
     "metadata": {
      "needs_background": "light"
     },
     "output_type": "display_data"
    },
    {
     "data": {
      "text/plain": [
       "<Figure size 1080x1080 with 0 Axes>"
      ]
     },
     "metadata": {},
     "output_type": "display_data"
    },
    {
     "name": "stderr",
     "output_type": "stream",
     "text": [
      "/home/stellapps/Documents/project_env/lib/python3.8/site-packages/seaborn/distributions.py:2619: FutureWarning: `distplot` is a deprecated function and will be removed in a future version. Please adapt your code to use either `displot` (a figure-level function with similar flexibility) or `histplot` (an axes-level function for histograms).\n",
      "  warnings.warn(msg, FutureWarning)\n"
     ]
    },
    {
     "data": {
      "image/png": "[encoded data removed]",
      "text/plain": [
       "<Figure size 432x288 with 1 Axes>"
      ]
     },
     "metadata": {
      "needs_background": "light"
     },
     "output_type": "display_data"
    },
    {
     "data": {
      "text/plain": [
       "<Figure size 1080x1080 with 0 Axes>"
      ]
     },
     "metadata": {},
     "output_type": "display_data"
    },
    {
     "name": "stderr",
     "output_type": "stream",
     "text": [
      "/home/stellapps/Documents/project_env/lib/python3.8/site-packages/seaborn/distributions.py:2619: FutureWarning: `distplot` is a deprecated function and will be removed in a future version. Please adapt your code to use either `displot` (a figure-level function with similar flexibility) or `histplot` (an axes-level function for histograms).\n",
      "  warnings.warn(msg, FutureWarning)\n"
     ]
    },
    {
     "data": {
      "image/png": "[encoded data removed]",
      "text/plain": [
       "<Figure size 432x288 with 1 Axes>"
      ]
     },
     "metadata": {
      "needs_background": "light"
     },
     "output_type": "display_data"
    },
    {
     "data": {
      "text/plain": [
       "<Figure size 1080x1080 with 0 Axes>"
      ]
     },
     "metadata": {},
     "output_type": "display_data"
    },
    {
     "name": "stderr",
     "output_type": "stream",
     "text": [
      "/home/stellapps/Documents/project_env/lib/python3.8/site-packages/seaborn/distributions.py:2619: FutureWarning: `distplot` is a deprecated function and will be removed in a future version. Please adapt your code to use either `displot` (a figure-level function with similar flexibility) or `histplot` (an axes-level function for histograms).\n",
      "  warnings.warn(msg, FutureWarning)\n"
     ]
    },
    {
     "data": {
      "image/png": "[encoded data removed]",
      "text/plain": [
       "<Figure size 432x288 with 1 Axes>"
      ]
     },
     "metadata": {
      "needs_background": "light"
     },
     "output_type": "display_data"
    },
    {
     "data": {
      "text/plain": [
       "<Figure size 1080x1080 with 0 Axes>"
      ]
     },
     "metadata": {},
     "output_type": "display_data"
    },
    {
     "name": "stderr",
     "output_type": "stream",
     "text": [
      "/home/stellapps/Documents/project_env/lib/python3.8/site-packages/seaborn/distributions.py:2619: FutureWarning: `distplot` is a deprecated function and will be removed in a future version. Please adapt your code to use either `displot` (a figure-level function with similar flexibility) or `histplot` (an axes-level function for histograms).\n",
      "  warnings.warn(msg, FutureWarning)\n"
     ]
    },
    {
     "data": {
      "image/png": "[encoded data removed]",
      "text/plain": [
       "<Figure size 432x288 with 1 Axes>"
      ]
     },
     "metadata": {
      "needs_background": "light"
     },
     "output_type": "display_data"
    },
    {
     "data": {
      "text/plain": [
       "<Figure size 1080x1080 with 0 Axes>"
      ]
     },
     "metadata": {},
     "output_type": "display_data"
    },
    {
     "name": "stderr",
     "output_type": "stream",
     "text": [
      "/home/stellapps/Documents/project_env/lib/python3.8/site-packages/seaborn/distributions.py:2619: FutureWarning: `distplot` is a deprecated function and will be removed in a future version. Please adapt your code to use either `displot` (a figure-level function with similar flexibility) or `histplot` (an axes-level function for histograms).\n",
      "  warnings.warn(msg, FutureWarning)\n"
     ]
    },
    {
     "data": {
      "image/png": "[encoded data removed]",
      "text/plain": [
       "<Figure size 432x288 with 1 Axes>"
      ]
     },
     "metadata": {
      "needs_background": "light"
     },
     "output_type": "display_data"
    },
    {
     "data": {
      "text/plain": [
       "<Figure size 1080x1080 with 0 Axes>"
      ]
     },
     "metadata": {},
     "output_type": "display_data"
    },
    {
     "name": "stderr",
     "output_type": "stream",
     "text": [
      "/home/stellapps/Documents/project_env/lib/python3.8/site-packages/seaborn/distributions.py:2619: FutureWarning: `distplot` is a deprecated function and will be removed in a future version. Please adapt your code to use either `displot` (a figure-level function with similar flexibility) or `histplot` (an axes-level function for histograms).\n",
      "  warnings.warn(msg, FutureWarning)\n"
     ]
    },
    {
     "data": {
      "image/png": "[encoded data removed]",
      "text/plain": [
       "<Figure size 432x288 with 1 Axes>"
      ]
     },
     "metadata": {
      "needs_background": "light"
     },
     "output_type": "display_data"
    },
    {
     "data": {
      "text/plain": [
       "<Figure size 1080x1080 with 0 Axes>"
      ]
     },
     "metadata": {},
     "output_type": "display_data"
    },
    {
     "name": "stderr",
     "output_type": "stream",
     "text": [
      "/home/stellapps/Documents/project_env/lib/python3.8/site-packages/seaborn/distributions.py:2619: FutureWarning: `distplot` is a deprecated function and will be removed in a future version. Please adapt your code to use either `displot` (a figure-level function with similar flexibility) or `histplot` (an axes-level function for histograms).\n",
      "  warnings.warn(msg, FutureWarning)\n"
     ]
    },
    {
     "data": {
      "image/png": "[encoded data removed]",
      "text/plain": [
       "<Figure size 432x288 with 1 Axes>"
      ]
     },
     "metadata": {
      "needs_background": "light"
     },
     "output_type": "display_data"
    },
    {
     "data": {
      "text/plain": [
       "<Figure size 1080x1080 with 0 Axes>"
      ]
     },
     "metadata": {},
     "output_type": "display_data"
    },
    {
     "name": "stderr",
     "output_type": "stream",
     "text": [
      "/home/stellapps/Documents/project_env/lib/python3.8/site-packages/seaborn/distributions.py:2619: FutureWarning: `distplot` is a deprecated function and will be removed in a future version. Please adapt your code to use either `displot` (a figure-level function with similar flexibility) or `histplot` (an axes-level function for histograms).\n",
      "  warnings.warn(msg, FutureWarning)\n"
     ]
    },
    {
     "data": {
      "image/png": "[encoded data removed]",
      "text/plain": [
       "<Figure size 432x288 with 1 Axes>"
      ]
     },
     "metadata": {
      "needs_background": "light"
     },
     "output_type": "display_data"
    },
    {
     "data": {
      "text/plain": [
       "<Figure size 1080x1080 with 0 Axes>"
      ]
     },
     "metadata": {},
     "output_type": "display_data"
    },
    {
     "name": "stderr",
     "output_type": "stream",
     "text": [
      "/home/stellapps/Documents/project_env/lib/python3.8/site-packages/seaborn/distributions.py:2619: FutureWarning: `distplot` is a deprecated function and will be removed in a future version. Please adapt your code to use either `displot` (a figure-level function with similar flexibility) or `histplot` (an axes-level function for histograms).\n",
      "  warnings.warn(msg, FutureWarning)\n"
     ]
    },
    {
     "data": {
      "image/png": "[encoded data removed]",
      "text/plain": [
       "<Figure size 432x288 with 1 Axes>"
      ]
     },
     "metadata": {
      "needs_background": "light"
     },
     "output_type": "display_data"
    },
    {
     "data": {
      "text/plain": [
       "<Figure size 1080x1080 with 0 Axes>"
      ]
     },
     "metadata": {},
     "output_type": "display_data"
    },
    {
     "name": "stderr",
     "output_type": "stream",
     "text": [
      "/home/stellapps/Documents/project_env/lib/python3.8/site-packages/seaborn/distributions.py:2619: FutureWarning: `distplot` is a deprecated function and will be removed in a future version. Please adapt your code to use either `displot` (a figure-level function with similar flexibility) or `histplot` (an axes-level function for histograms).\n",
      "  warnings.warn(msg, FutureWarning)\n"
     ]
    },
    {
     "data": {
      "image/png": "[encoded data removed]",
      "text/plain": [
       "<Figure size 432x288 with 1 Axes>"
      ]
     },
     "metadata": {
      "needs_background": "light"
     },
     "output_type": "display_data"
    },
    {
     "data": {
      "text/plain": [
       "<Figure size 1080x1080 with 0 Axes>"
      ]
     },
     "metadata": {},
     "output_type": "display_data"
    }
   ],
   "source": [
    "\n",
    "for feature in continuous_feature:\n",
    "    data=df.copy()\n",
    "    sns.distplot(df[feature])\n",
    "    plt.xlabel(feature)\n",
    "    plt.ylabel(\"Count\")\n",
    "    plt.title(feature)\n",
    "    plt.figure(figsize=(15,15))\n",
    "    plt.show()"
   ]
  },
  {
   "cell_type": "code",
   "execution_count": null,
   "id": "da7151ef",
   "metadata": {},
   "outputs": [],
   "source": []
  },
  {
   "cell_type": "markdown",
   "id": "c6a27328",
   "metadata": {},
   "source": [
    "# Splitting data into Independent Features and Dependent Features:"
   ]
  },
  {
   "cell_type": "markdown",
   "id": "5eb19703",
   "metadata": {},
   "source": [
    "For feature importance and feature scaling, we need to split data into independent and dependent features."
   ]
  },
  {
   "cell_type": "code",
   "execution_count": 35,
   "id": "697640c9",
   "metadata": {},
   "outputs": [],
   "source": [
    "X = df.drop(['RainTomorrow'],axis=1)\n",
    "y = df['RainTomorrow']"
   ]
  },
  {
   "cell_type": "markdown",
   "id": "a1ce880b",
   "metadata": {},
   "source": [
    "In the above code,\n",
    "\n",
    "X – Independent Features or Input features\n",
    "\n",
    "y – Dependent Features or target label"
   ]
  },
  {
   "cell_type": "markdown",
   "id": "9e5033f3",
   "metadata": {},
   "source": [
    "12. Feature Importance:\n",
    "###### 1 Machine Learning Model performance depends on features that are used to train a model. Feature importance describes which features are relevant to build a model.\n",
    "\n",
    "##### 2 Feature Importance refers to the techniques that assign a score to input/label features based on how useful they are at predicting a target variable. Feature importance helps in Feature Selection.\n",
    "\n",
    "##### 3 We’ll be using ExtraTreesRegressor class for Feature Importance. This class implements a meta estimator that fits a number of randomized decision trees on various samples of the dataset and uses averaging to improve the predictive accuracy and control over-fitting."
   ]
  },
  {
   "cell_type": "code",
   "execution_count": 36,
   "id": "c22579b4",
   "metadata": {},
   "outputs": [
    {
     "data": {
      "text/plain": [
       "array([0.03563634, 0.02900604, 0.027951  , 0.05200479, 0.0296868 ,\n",
       "       0.03870081, 0.0293903 , 0.0560179 , 0.02999018, 0.0310688 ,\n",
       "       0.03049285, 0.03189642, 0.03695535, 0.20817589, 0.03599381,\n",
       "       0.05149809, 0.02798332, 0.03369515, 0.02733069, 0.02766345,\n",
       "       0.03839867, 0.03018434, 0.02947134, 0.03080767])"
      ]
     },
     "execution_count": 36,
     "metadata": {},
     "output_type": "execute_result"
    }
   ],
   "source": [
    "from sklearn.ensemble import ExtraTreesRegressor\n",
    "etr_model = ExtraTreesRegressor()\n",
    "etr_model.fit(X,y)\n",
    "etr_model.feature_importances_"
   ]
  },
  {
   "cell_type": "code",
   "execution_count": 37,
   "id": "19d99b01",
   "metadata": {},
   "outputs": [
    {
     "data": {
      "text/plain": [
       "<AxesSubplot:>"
      ]
     },
     "execution_count": 37,
     "metadata": {},
     "output_type": "execute_result"
    },
    {
     "data": {
      "image/png": "[encoded data removed]",
      "text/plain": [
       "<Figure size 432x288 with 1 Axes>"
      ]
     },
     "metadata": {
      "needs_background": "light"
     },
     "output_type": "display_data"
    }
   ],
   "source": [
    "feature_imp = pd.Series(etr_model.feature_importances_,index=X.columns)\n",
    "feature_imp.nlargest(10).plot(kind='barh')"
   ]
  },
  {
   "cell_type": "markdown",
   "id": "d451934e",
   "metadata": {},
   "source": [
    "# Splitting Data into training and testing set:"
   ]
  },
  {
   "cell_type": "code",
   "execution_count": 38,
   "id": "580dc5f4",
   "metadata": {},
   "outputs": [],
   "source": [
    "from sklearn.model_selection import train_test_split\n",
    "X_train, X_test, y_train, y_test = train_test_split(X,y, test_size = 0.2, random_state = 0)"
   ]
  },
  {
   "cell_type": "code",
   "execution_count": 39,
   "id": "307e1f71",
   "metadata": {},
   "outputs": [
    {
     "name": "stdout",
     "output_type": "stream",
     "text": [
      "Length of Training Data: 116368\n",
      "Length of Testing Data: 29092\n"
     ]
    }
   ],
   "source": [
    "print(\"Length of Training Data: {}\".format(len(X_train)))\n",
    "print(\"Length of Testing Data: {}\".format(len(X_test)))"
   ]
  },
  {
   "cell_type": "markdown",
   "id": "69411b93",
   "metadata": {},
   "source": [
    "### Feature Scaling:\n",
    "Feature Scaling is a technique used to scale, normalize, standardize data in range(0,1). When each column of a dataset has distinct values, then it helps to scale data of each column to a common level. StandardScaler is a class used to implement feature scaling."
   ]
  },
  {
   "cell_type": "code",
   "execution_count": 40,
   "id": "a5013553",
   "metadata": {},
   "outputs": [],
   "source": [
    "from sklearn.preprocessing import StandardScaler\n",
    "scaler = StandardScaler()\n",
    "X_train = scaler.fit_transform(X_train)"
   ]
  },
  {
   "cell_type": "code",
   "execution_count": 41,
   "id": "3a085779",
   "metadata": {},
   "outputs": [],
   "source": [
    "X_test = scaler.transform(X_test)\n"
   ]
  },
  {
   "cell_type": "markdown",
   "id": "86a95c44",
   "metadata": {},
   "source": [
    "# Model Building:"
   ]
  },
  {
   "cell_type": "markdown",
   "id": "869ad8cc",
   "metadata": {},
   "source": [
    "#### In this article, I will be using a Logistic Regression algorithm to build a predictive model to predict whether or not it will rain tomorrow in Australia.\n",
    "\n",
    "#### .1 Logistic Regression: It is a statistic-based algorithm used in classification problems. It allows us to predict the probability of an input belongs to a certain category.\n",
    "#### 2. It uses the logit function or sigmoid function as a core.\n",
    "#### 3 .According to the Data science community, logistic regression can solve 60% of existing classification problems."
   ]
  },
  {
   "cell_type": "code",
   "execution_count": 42,
   "id": "06c3142b",
   "metadata": {},
   "outputs": [
    {
     "data": {
      "text/plain": [
       "LogisticRegression(random_state=0, solver='liblinear')"
      ]
     },
     "execution_count": 42,
     "metadata": {},
     "output_type": "execute_result"
    }
   ],
   "source": [
    "from sklearn.linear_model import LogisticRegression\n",
    "classifier_logreg = LogisticRegression(solver='liblinear', random_state=0)\n",
    "classifier_logreg.fit(X_train, y_train)"
   ]
  },
  {
   "cell_type": "code",
   "execution_count": 43,
   "id": "278ce829",
   "metadata": {},
   "outputs": [
    {
     "data": {
      "text/plain": [
       "array([0, 0, 0, ..., 0, 0, 0])"
      ]
     },
     "execution_count": 43,
     "metadata": {},
     "output_type": "execute_result"
    }
   ],
   "source": [
    "y_pred = classifier_logreg.predict(X_test)\n",
    "y_pred"
   ]
  },
  {
   "cell_type": "markdown",
   "id": "ef0d2853",
   "metadata": {},
   "source": [
    "# Evaluating Model Performance:\n",
    "\n"
   ]
  },
  {
   "cell_type": "code",
   "execution_count": 44,
   "id": "ab0a4dfc",
   "metadata": {},
   "outputs": [
    {
     "name": "stdout",
     "output_type": "stream",
     "text": [
      "Accuracy Score: 0.8433933727485219\n"
     ]
    }
   ],
   "source": [
    "#accuracy_score() is a method used to calculate the accuracy of a model prediction on unseen data.\n",
    "from sklearn.metrics import accuracy_score\n",
    "print(\"Accuracy Score: {}\".format(accuracy_score(y_test,y_pred)))\n"
   ]
  },
  {
   "cell_type": "code",
   "execution_count": 45,
   "id": "6447d55b",
   "metadata": {},
   "outputs": [
    {
     "name": "stdout",
     "output_type": "stream",
     "text": [
      "Train Data Score: 0.8424309088409184\n",
      "Test Data Score: 0.8433933727485219\n"
     ]
    }
   ],
   "source": [
    "## Checking for Underfitting and Overfitting:\n",
    "\n",
    "print(\"Train Data Score: {}\".format(classifier_logreg.score(X_train, y_train)))\n",
    "print(\"Test Data Score: {}\".format(classifier_logreg.score(X_test, y_test)))"
   ]
  },
  {
   "cell_type": "markdown",
   "id": "4b8ba473",
   "metadata": {},
   "source": [
    "The accuracy Score of training and testing data is comparable and almost equal. So, there is no question of underfitting and overfitting. And the model is generalizing well for new unseen data."
   ]
  },
  {
   "cell_type": "markdown",
   "id": "87f4313a",
   "metadata": {},
   "source": [
    "# Confusion Matrix:\n",
    "\n",
    "A Confusion Matrix is used to summarize the performance of the classification problem. It gives a holistic view of how well the model is performing."
   ]
  },
  {
   "cell_type": "code",
   "execution_count": 46,
   "id": "d60582b4",
   "metadata": {},
   "outputs": [
    {
     "name": "stdout",
     "output_type": "stream",
     "text": [
      "[[21549  1177]\n",
      " [ 3379  2987]]\n"
     ]
    }
   ],
   "source": [
    "print(confusion_matrix(y_test,y_pred))\n"
   ]
  },
  {
   "cell_type": "code",
   "execution_count": 47,
   "id": "6dd2b402",
   "metadata": {},
   "outputs": [
    {
     "name": "stdout",
     "output_type": "stream",
     "text": [
      "              precision    recall  f1-score   support\n",
      "\n",
      "           0       0.86      0.95      0.90     22726\n",
      "           1       0.72      0.47      0.57      6366\n",
      "\n",
      "    accuracy                           0.84     29092\n",
      "   macro avg       0.79      0.71      0.74     29092\n",
      "weighted avg       0.83      0.84      0.83     29092\n",
      "\n"
     ]
    }
   ],
   "source": [
    "from sklearn.metrics import accuracy_score,confusion_matrix,classification_report\n",
    "\n",
    "print(classification_report(y_test,y_pred))\n"
   ]
  },
  {
   "cell_type": "code",
   "execution_count": 48,
   "id": "48c605e7",
   "metadata": {},
   "outputs": [
    {
     "data": {
      "image/png": "[encoded data removed]",
      "text/plain": [
       "<Figure size 432x288 with 1 Axes>"
      ]
     },
     "metadata": {
      "needs_background": "light"
     },
     "output_type": "display_data"
    }
   ],
   "source": [
    "\n",
    "y_pred_logreg_proba = classifier_logreg.predict_proba(X_test)\n",
    "from sklearn.metrics import roc_curve\n",
    "fpr, tpr, thresholds = roc_curve(y_test, y_pred_logreg_proba[:,1])\n",
    "plt.figure(figsize=(6,4))\n",
    "plt.plot(fpr,tpr,'-g',linewidth=1)\n",
    "plt.plot([0,1], [0,1], 'k--' )\n",
    "plt.title('ROC curve for Logistic Regression Model')\n",
    "plt.xlabel(\"False Positive Rate\")\n",
    "plt.ylabel('True Positive Rate')\n",
    "plt.show()"
   ]
  },
  {
   "cell_type": "code",
   "execution_count": 79,
   "id": "e8a50bc7",
   "metadata": {},
   "outputs": [
    {
     "name": "stderr",
     "output_type": "stream",
     "text": [
      "/home/stellapps/Documents/project_env/lib/python3.8/site-packages/sklearn/utils/deprecation.py:87: FutureWarning: Function plot_roc_curve is deprecated; Function `plot_roc_curve` is deprecated in 1.0 and will be removed in 1.2. Use one of the class methods: RocCurveDisplay.from_predictions or RocCurveDisplay.from_estimator.\n",
      "  warnings.warn(msg, category=FutureWarning)\n"
     ]
    },
    {
     "data": {
      "text/plain": [
       "0.7473693770332132"
      ]
     },
     "execution_count": 79,
     "metadata": {},
     "output_type": "execute_result"
    },
    {
     "data": {
      "image/png": "[encoded data removed]",
      "text/plain": [
       "<Figure size 432x288 with 1 Axes>"
      ]
     },
     "metadata": {
      "needs_background": "light"
     },
     "output_type": "display_data"
    }
   ],
   "source": [
    "metrics.plot_roc_curve(classifier_logreg, X_test, y_test)\n",
    "metrics.roc_auc_score(y_test, y_pred, average=None) "
   ]
  },
  {
   "cell_type": "markdown",
   "id": "301875ce",
   "metadata": {},
   "source": [
    "# Cross-Validation:"
   ]
  },
  {
   "cell_type": "code",
   "execution_count": 57,
   "id": "07d75ea7",
   "metadata": {},
   "outputs": [
    {
     "name": "stdout",
     "output_type": "stream",
     "text": [
      "Cross-validation scores:[0.84188365 0.84149695 0.8448913  0.84037296 0.84243544]\n",
      "Average cross-validation score: 0.8422160591939898\n"
     ]
    }
   ],
   "source": [
    "from sklearn.model_selection import cross_val_score\n",
    "scores = cross_val_score(classifier_logreg, X_train, y_train, cv = 5, scoring='accuracy')\n",
    "print('Cross-validation scores:{}'.format(scores))\n",
    "print('Average cross-validation score: {}'.format(scores.mean()))"
   ]
  },
  {
   "cell_type": "markdown",
   "id": "a0f3e6a9",
   "metadata": {},
   "source": [
    "1. The logistic Regression model accuracy score is 0.84. The model does a very good job of predicting.\n",
    "2. The model shows no sign of Underfitting or Overfitting. This means the model generalizing well for unseen data.\n",
    "3. The mean accuracy score of cross-validation is almost the same as the original model accuracy score. So, the accuracy of the model may not be improved using Cross-validation.\n",
    " "
   ]
  },
  {
   "cell_type": "code",
   "execution_count": 58,
   "id": "2204b870",
   "metadata": {},
   "outputs": [],
   "source": [
    "import pickle\n",
    "\n",
    "with open('scaler.pkl', 'wb') as file:\n",
    "\n",
    "    pickle.dump(scaler, file) # here scaler is an object of StandardScaler class."
   ]
  },
  {
   "cell_type": "code",
   "execution_count": 59,
   "id": "cf23930b",
   "metadata": {},
   "outputs": [],
   "source": [
    "with open('logreg.pkl', 'wb') as file:\n",
    "    pickle.dump(classifier_logreg, file) # here classifier_logreg is trained model"
   ]
  },
  {
   "cell_type": "markdown",
   "id": "a492d186",
   "metadata": {},
   "source": [
    "# Cat Boost Algaritham"
   ]
  },
  {
   "cell_type": "code",
   "execution_count": 50,
   "id": "running-joining",
   "metadata": {
    "colab": {
     "base_uri": "https://localhost:8080/"
    },
    "id": "running-joining",
    "outputId": "5efa36ae-7cbd-4f1e-da2a-2a88de3f431b"
   },
   "outputs": [
    {
     "name": "stdout",
     "output_type": "stream",
     "text": [
      "Learning rate set to 0.041591\n",
      "0:\ttotal: 196ms\tremaining: 6m 32s\n",
      "1:\ttotal: 251ms\tremaining: 4m 10s\n",
      "2:\ttotal: 287ms\tremaining: 3m 11s\n",
      "3:\ttotal: 322ms\tremaining: 2m 40s\n",
      "4:\ttotal: 354ms\tremaining: 2m 21s\n",
      "5:\ttotal: 396ms\tremaining: 2m 11s\n",
      "6:\ttotal: 427ms\tremaining: 2m 1s\n",
      "7:\ttotal: 471ms\tremaining: 1m 57s\n",
      "8:\ttotal: 505ms\tremaining: 1m 51s\n",
      "9:\ttotal: 541ms\tremaining: 1m 47s\n",
      "10:\ttotal: 570ms\tremaining: 1m 43s\n",
      "11:\ttotal: 611ms\tremaining: 1m 41s\n",
      "12:\ttotal: 651ms\tremaining: 1m 39s\n",
      "13:\ttotal: 712ms\tremaining: 1m 40s\n",
      "14:\ttotal: 745ms\tremaining: 1m 38s\n",
      "15:\ttotal: 783ms\tremaining: 1m 37s\n",
      "16:\ttotal: 828ms\tremaining: 1m 36s\n",
      "17:\ttotal: 863ms\tremaining: 1m 35s\n",
      "18:\ttotal: 919ms\tremaining: 1m 35s\n",
      "19:\ttotal: 952ms\tremaining: 1m 34s\n",
      "20:\ttotal: 986ms\tremaining: 1m 32s\n",
      "21:\ttotal: 1.02s\tremaining: 1m 31s\n",
      "22:\ttotal: 1.05s\tremaining: 1m 30s\n",
      "23:\ttotal: 1.09s\tremaining: 1m 29s\n",
      "24:\ttotal: 1.13s\tremaining: 1m 29s\n",
      "25:\ttotal: 1.17s\tremaining: 1m 28s\n",
      "26:\ttotal: 1.2s\tremaining: 1m 27s\n",
      "27:\ttotal: 1.24s\tremaining: 1m 27s\n",
      "28:\ttotal: 1.27s\tremaining: 1m 26s\n",
      "29:\ttotal: 1.31s\tremaining: 1m 26s\n",
      "30:\ttotal: 1.36s\tremaining: 1m 26s\n",
      "31:\ttotal: 1.4s\tremaining: 1m 26s\n",
      "32:\ttotal: 1.44s\tremaining: 1m 25s\n",
      "33:\ttotal: 1.47s\tremaining: 1m 25s\n",
      "34:\ttotal: 1.51s\tremaining: 1m 25s\n",
      "35:\ttotal: 1.57s\tremaining: 1m 25s\n",
      "36:\ttotal: 1.63s\tremaining: 1m 26s\n",
      "37:\ttotal: 1.66s\tremaining: 1m 25s\n",
      "38:\ttotal: 1.69s\tremaining: 1m 25s\n",
      "39:\ttotal: 1.73s\tremaining: 1m 24s\n",
      "40:\ttotal: 1.78s\tremaining: 1m 25s\n",
      "41:\ttotal: 1.83s\tremaining: 1m 25s\n",
      "42:\ttotal: 1.86s\tremaining: 1m 24s\n",
      "43:\ttotal: 1.9s\tremaining: 1m 24s\n",
      "44:\ttotal: 1.94s\tremaining: 1m 24s\n",
      "45:\ttotal: 1.99s\tremaining: 1m 24s\n",
      "46:\ttotal: 2.02s\tremaining: 1m 24s\n",
      "47:\ttotal: 2.06s\tremaining: 1m 23s\n",
      "48:\ttotal: 2.09s\tremaining: 1m 23s\n",
      "49:\ttotal: 2.13s\tremaining: 1m 23s\n",
      "50:\ttotal: 2.18s\tremaining: 1m 23s\n",
      "51:\ttotal: 2.22s\tremaining: 1m 23s\n",
      "52:\ttotal: 2.25s\tremaining: 1m 22s\n",
      "53:\ttotal: 2.29s\tremaining: 1m 22s\n",
      "54:\ttotal: 2.32s\tremaining: 1m 22s\n",
      "55:\ttotal: 2.36s\tremaining: 1m 21s\n",
      "56:\ttotal: 2.4s\tremaining: 1m 21s\n",
      "57:\ttotal: 2.45s\tremaining: 1m 22s\n",
      "58:\ttotal: 2.49s\tremaining: 1m 21s\n",
      "59:\ttotal: 2.53s\tremaining: 1m 21s\n",
      "60:\ttotal: 2.56s\tremaining: 1m 21s\n",
      "61:\ttotal: 2.6s\tremaining: 1m 21s\n",
      "62:\ttotal: 2.65s\tremaining: 1m 21s\n",
      "63:\ttotal: 2.73s\tremaining: 1m 22s\n",
      "64:\ttotal: 2.79s\tremaining: 1m 23s\n",
      "65:\ttotal: 2.84s\tremaining: 1m 23s\n",
      "66:\ttotal: 2.95s\tremaining: 1m 25s\n",
      "67:\ttotal: 3.03s\tremaining: 1m 25s\n",
      "68:\ttotal: 3.11s\tremaining: 1m 27s\n",
      "69:\ttotal: 3.15s\tremaining: 1m 26s\n",
      "70:\ttotal: 3.2s\tremaining: 1m 26s\n",
      "71:\ttotal: 3.25s\tremaining: 1m 27s\n",
      "72:\ttotal: 3.29s\tremaining: 1m 26s\n",
      "73:\ttotal: 3.33s\tremaining: 1m 26s\n",
      "74:\ttotal: 3.36s\tremaining: 1m 26s\n",
      "75:\ttotal: 3.43s\tremaining: 1m 26s\n",
      "76:\ttotal: 3.46s\tremaining: 1m 26s\n",
      "77:\ttotal: 3.49s\tremaining: 1m 26s\n",
      "78:\ttotal: 3.53s\tremaining: 1m 25s\n",
      "79:\ttotal: 3.56s\tremaining: 1m 25s\n",
      "80:\ttotal: 3.62s\tremaining: 1m 25s\n",
      "81:\ttotal: 3.66s\tremaining: 1m 25s\n",
      "82:\ttotal: 3.7s\tremaining: 1m 25s\n",
      "83:\ttotal: 3.73s\tremaining: 1m 24s\n",
      "84:\ttotal: 3.76s\tremaining: 1m 24s\n",
      "85:\ttotal: 3.79s\tremaining: 1m 24s\n",
      "86:\ttotal: 3.84s\tremaining: 1m 24s\n",
      "87:\ttotal: 3.89s\tremaining: 1m 24s\n",
      "88:\ttotal: 3.93s\tremaining: 1m 24s\n",
      "89:\ttotal: 3.97s\tremaining: 1m 24s\n",
      "90:\ttotal: 3.99s\tremaining: 1m 23s\n",
      "91:\ttotal: 4.05s\tremaining: 1m 24s\n",
      "92:\ttotal: 4.11s\tremaining: 1m 24s\n",
      "93:\ttotal: 4.14s\tremaining: 1m 24s\n",
      "94:\ttotal: 4.19s\tremaining: 1m 23s\n",
      "95:\ttotal: 4.21s\tremaining: 1m 23s\n",
      "96:\ttotal: 4.25s\tremaining: 1m 23s\n",
      "97:\ttotal: 4.3s\tremaining: 1m 23s\n",
      "98:\ttotal: 4.35s\tremaining: 1m 23s\n",
      "99:\ttotal: 4.37s\tremaining: 1m 23s\n",
      "100:\ttotal: 4.41s\tremaining: 1m 22s\n",
      "101:\ttotal: 4.44s\tremaining: 1m 22s\n",
      "102:\ttotal: 4.48s\tremaining: 1m 22s\n",
      "103:\ttotal: 4.54s\tremaining: 1m 22s\n",
      "104:\ttotal: 4.58s\tremaining: 1m 22s\n",
      "105:\ttotal: 4.61s\tremaining: 1m 22s\n",
      "106:\ttotal: 4.64s\tremaining: 1m 22s\n",
      "107:\ttotal: 4.69s\tremaining: 1m 22s\n",
      "108:\ttotal: 4.74s\tremaining: 1m 22s\n",
      "109:\ttotal: 4.8s\tremaining: 1m 22s\n",
      "110:\ttotal: 4.84s\tremaining: 1m 22s\n",
      "111:\ttotal: 4.87s\tremaining: 1m 22s\n",
      "112:\ttotal: 4.91s\tremaining: 1m 22s\n",
      "113:\ttotal: 4.95s\tremaining: 1m 21s\n",
      "114:\ttotal: 4.99s\tremaining: 1m 21s\n",
      "115:\ttotal: 5.03s\tremaining: 1m 21s\n",
      "116:\ttotal: 5.09s\tremaining: 1m 22s\n",
      "117:\ttotal: 5.16s\tremaining: 1m 22s\n",
      "118:\ttotal: 5.26s\tremaining: 1m 23s\n",
      "119:\ttotal: 5.31s\tremaining: 1m 23s\n",
      "120:\ttotal: 5.35s\tremaining: 1m 23s\n",
      "121:\ttotal: 5.38s\tremaining: 1m 22s\n",
      "122:\ttotal: 5.44s\tremaining: 1m 22s\n",
      "123:\ttotal: 5.47s\tremaining: 1m 22s\n",
      "124:\ttotal: 5.5s\tremaining: 1m 22s\n",
      "125:\ttotal: 5.53s\tremaining: 1m 22s\n",
      "126:\ttotal: 5.57s\tremaining: 1m 22s\n",
      "127:\ttotal: 5.61s\tremaining: 1m 22s\n",
      "128:\ttotal: 5.66s\tremaining: 1m 22s\n",
      "129:\ttotal: 5.7s\tremaining: 1m 21s\n",
      "130:\ttotal: 5.73s\tremaining: 1m 21s\n",
      "131:\ttotal: 5.76s\tremaining: 1m 21s\n",
      "132:\ttotal: 5.79s\tremaining: 1m 21s\n",
      "133:\ttotal: 5.84s\tremaining: 1m 21s\n",
      "134:\ttotal: 5.89s\tremaining: 1m 21s\n",
      "135:\ttotal: 5.92s\tremaining: 1m 21s\n",
      "136:\ttotal: 5.96s\tremaining: 1m 21s\n",
      "137:\ttotal: 6s\tremaining: 1m 20s\n",
      "138:\ttotal: 6.03s\tremaining: 1m 20s\n",
      "139:\ttotal: 6.09s\tremaining: 1m 20s\n",
      "140:\ttotal: 6.13s\tremaining: 1m 20s\n",
      "141:\ttotal: 6.16s\tremaining: 1m 20s\n",
      "142:\ttotal: 6.2s\tremaining: 1m 20s\n",
      "143:\ttotal: 6.23s\tremaining: 1m 20s\n",
      "144:\ttotal: 6.28s\tremaining: 1m 20s\n",
      "145:\ttotal: 6.31s\tremaining: 1m 20s\n",
      "146:\ttotal: 6.36s\tremaining: 1m 20s\n",
      "147:\ttotal: 6.39s\tremaining: 1m 20s\n",
      "148:\ttotal: 6.43s\tremaining: 1m 19s\n",
      "149:\ttotal: 6.47s\tremaining: 1m 19s\n",
      "150:\ttotal: 6.5s\tremaining: 1m 19s\n",
      "151:\ttotal: 6.54s\tremaining: 1m 19s\n",
      "152:\ttotal: 6.59s\tremaining: 1m 19s\n",
      "153:\ttotal: 6.62s\tremaining: 1m 19s\n",
      "154:\ttotal: 6.66s\tremaining: 1m 19s\n",
      "155:\ttotal: 6.69s\tremaining: 1m 19s\n",
      "156:\ttotal: 6.73s\tremaining: 1m 18s\n",
      "157:\ttotal: 6.76s\tremaining: 1m 18s\n",
      "158:\ttotal: 6.81s\tremaining: 1m 18s\n",
      "159:\ttotal: 6.84s\tremaining: 1m 18s\n",
      "160:\ttotal: 6.88s\tremaining: 1m 18s\n",
      "161:\ttotal: 6.91s\tremaining: 1m 18s\n",
      "162:\ttotal: 6.95s\tremaining: 1m 18s\n",
      "163:\ttotal: 6.98s\tremaining: 1m 18s\n",
      "164:\ttotal: 7.03s\tremaining: 1m 18s\n",
      "165:\ttotal: 7.06s\tremaining: 1m 18s\n",
      "166:\ttotal: 7.09s\tremaining: 1m 17s\n",
      "167:\ttotal: 7.13s\tremaining: 1m 17s\n",
      "168:\ttotal: 7.16s\tremaining: 1m 17s\n",
      "169:\ttotal: 7.2s\tremaining: 1m 17s\n",
      "170:\ttotal: 7.25s\tremaining: 1m 17s\n",
      "171:\ttotal: 7.29s\tremaining: 1m 17s\n",
      "172:\ttotal: 7.32s\tremaining: 1m 17s\n",
      "173:\ttotal: 7.36s\tremaining: 1m 17s\n",
      "174:\ttotal: 7.4s\tremaining: 1m 17s\n",
      "175:\ttotal: 7.44s\tremaining: 1m 17s\n",
      "176:\ttotal: 7.49s\tremaining: 1m 17s\n",
      "177:\ttotal: 7.52s\tremaining: 1m 17s\n",
      "178:\ttotal: 7.56s\tremaining: 1m 16s\n",
      "179:\ttotal: 7.59s\tremaining: 1m 16s\n",
      "180:\ttotal: 7.64s\tremaining: 1m 16s\n",
      "181:\ttotal: 7.68s\tremaining: 1m 16s\n",
      "182:\ttotal: 7.71s\tremaining: 1m 16s\n",
      "183:\ttotal: 7.75s\tremaining: 1m 16s\n",
      "184:\ttotal: 7.78s\tremaining: 1m 16s\n",
      "185:\ttotal: 7.81s\tremaining: 1m 16s\n",
      "186:\ttotal: 7.85s\tremaining: 1m 16s\n",
      "187:\ttotal: 7.9s\tremaining: 1m 16s\n",
      "188:\ttotal: 7.94s\tremaining: 1m 16s\n",
      "189:\ttotal: 7.98s\tremaining: 1m 16s\n",
      "190:\ttotal: 8.01s\tremaining: 1m 15s\n",
      "191:\ttotal: 8.05s\tremaining: 1m 15s\n",
      "192:\ttotal: 8.11s\tremaining: 1m 15s\n",
      "193:\ttotal: 8.14s\tremaining: 1m 15s\n",
      "194:\ttotal: 8.19s\tremaining: 1m 15s\n",
      "195:\ttotal: 8.21s\tremaining: 1m 15s\n",
      "196:\ttotal: 8.25s\tremaining: 1m 15s\n",
      "197:\ttotal: 8.32s\tremaining: 1m 15s\n",
      "198:\ttotal: 8.4s\tremaining: 1m 16s\n",
      "199:\ttotal: 8.5s\tremaining: 1m 16s\n",
      "200:\ttotal: 8.57s\tremaining: 1m 16s\n",
      "201:\ttotal: 8.62s\tremaining: 1m 16s\n",
      "202:\ttotal: 8.64s\tremaining: 1m 16s\n",
      "203:\ttotal: 8.68s\tremaining: 1m 16s\n",
      "204:\ttotal: 8.72s\tremaining: 1m 16s\n",
      "205:\ttotal: 8.75s\tremaining: 1m 16s\n",
      "206:\ttotal: 8.79s\tremaining: 1m 16s\n",
      "207:\ttotal: 8.83s\tremaining: 1m 16s\n",
      "208:\ttotal: 8.87s\tremaining: 1m 15s\n",
      "209:\ttotal: 8.9s\tremaining: 1m 15s\n",
      "210:\ttotal: 8.94s\tremaining: 1m 15s\n",
      "211:\ttotal: 8.97s\tremaining: 1m 15s\n",
      "212:\ttotal: 9.02s\tremaining: 1m 15s\n",
      "213:\ttotal: 9.06s\tremaining: 1m 15s\n",
      "214:\ttotal: 9.09s\tremaining: 1m 15s\n",
      "215:\ttotal: 9.13s\tremaining: 1m 15s\n",
      "216:\ttotal: 9.16s\tremaining: 1m 15s\n",
      "217:\ttotal: 9.2s\tremaining: 1m 15s\n",
      "218:\ttotal: 9.23s\tremaining: 1m 15s\n",
      "219:\ttotal: 9.28s\tremaining: 1m 15s\n",
      "220:\ttotal: 9.32s\tremaining: 1m 15s\n",
      "221:\ttotal: 9.35s\tremaining: 1m 14s\n",
      "222:\ttotal: 9.39s\tremaining: 1m 14s\n",
      "223:\ttotal: 9.44s\tremaining: 1m 14s\n",
      "224:\ttotal: 9.48s\tremaining: 1m 14s\n",
      "225:\ttotal: 9.54s\tremaining: 1m 14s\n",
      "226:\ttotal: 9.57s\tremaining: 1m 14s\n",
      "227:\ttotal: 9.61s\tremaining: 1m 14s\n",
      "228:\ttotal: 9.64s\tremaining: 1m 14s\n",
      "229:\ttotal: 9.72s\tremaining: 1m 14s\n",
      "230:\ttotal: 9.82s\tremaining: 1m 15s\n"
     ]
    },
    {
     "name": "stdout",
     "output_type": "stream",
     "text": [
      "231:\ttotal: 9.89s\tremaining: 1m 15s\n",
      "232:\ttotal: 9.94s\tremaining: 1m 15s\n",
      "233:\ttotal: 9.99s\tremaining: 1m 15s\n",
      "234:\ttotal: 10.1s\tremaining: 1m 15s\n",
      "235:\ttotal: 10.2s\tremaining: 1m 16s\n",
      "236:\ttotal: 10.2s\tremaining: 1m 15s\n",
      "237:\ttotal: 10.2s\tremaining: 1m 15s\n",
      "238:\ttotal: 10.3s\tremaining: 1m 15s\n",
      "239:\ttotal: 10.3s\tremaining: 1m 15s\n",
      "240:\ttotal: 10.3s\tremaining: 1m 15s\n",
      "241:\ttotal: 10.4s\tremaining: 1m 15s\n",
      "242:\ttotal: 10.4s\tremaining: 1m 15s\n",
      "243:\ttotal: 10.5s\tremaining: 1m 15s\n",
      "244:\ttotal: 10.5s\tremaining: 1m 15s\n",
      "245:\ttotal: 10.5s\tremaining: 1m 15s\n",
      "246:\ttotal: 10.6s\tremaining: 1m 15s\n",
      "247:\ttotal: 10.6s\tremaining: 1m 15s\n",
      "248:\ttotal: 10.7s\tremaining: 1m 15s\n",
      "249:\ttotal: 10.7s\tremaining: 1m 14s\n",
      "250:\ttotal: 10.7s\tremaining: 1m 14s\n",
      "251:\ttotal: 10.8s\tremaining: 1m 14s\n",
      "252:\ttotal: 10.8s\tremaining: 1m 14s\n",
      "253:\ttotal: 10.8s\tremaining: 1m 14s\n",
      "254:\ttotal: 10.9s\tremaining: 1m 14s\n",
      "255:\ttotal: 10.9s\tremaining: 1m 14s\n",
      "256:\ttotal: 11s\tremaining: 1m 14s\n",
      "257:\ttotal: 11s\tremaining: 1m 14s\n",
      "258:\ttotal: 11s\tremaining: 1m 14s\n",
      "259:\ttotal: 11.1s\tremaining: 1m 14s\n",
      "260:\ttotal: 11.1s\tremaining: 1m 13s\n",
      "261:\ttotal: 11.1s\tremaining: 1m 13s\n",
      "262:\ttotal: 11.2s\tremaining: 1m 13s\n",
      "263:\ttotal: 11.2s\tremaining: 1m 13s\n",
      "264:\ttotal: 11.2s\tremaining: 1m 13s\n",
      "265:\ttotal: 11.3s\tremaining: 1m 13s\n",
      "266:\ttotal: 11.3s\tremaining: 1m 13s\n",
      "267:\ttotal: 11.4s\tremaining: 1m 13s\n",
      "268:\ttotal: 11.4s\tremaining: 1m 13s\n",
      "269:\ttotal: 11.4s\tremaining: 1m 13s\n",
      "270:\ttotal: 11.5s\tremaining: 1m 13s\n",
      "271:\ttotal: 11.5s\tremaining: 1m 13s\n",
      "272:\ttotal: 11.5s\tremaining: 1m 12s\n",
      "273:\ttotal: 11.6s\tremaining: 1m 12s\n",
      "274:\ttotal: 11.6s\tremaining: 1m 12s\n",
      "275:\ttotal: 11.6s\tremaining: 1m 12s\n",
      "276:\ttotal: 11.7s\tremaining: 1m 12s\n",
      "277:\ttotal: 11.7s\tremaining: 1m 12s\n",
      "278:\ttotal: 11.8s\tremaining: 1m 12s\n",
      "279:\ttotal: 11.8s\tremaining: 1m 12s\n",
      "280:\ttotal: 11.8s\tremaining: 1m 12s\n",
      "281:\ttotal: 11.9s\tremaining: 1m 12s\n",
      "282:\ttotal: 11.9s\tremaining: 1m 12s\n",
      "283:\ttotal: 11.9s\tremaining: 1m 12s\n",
      "284:\ttotal: 12s\tremaining: 1m 12s\n",
      "285:\ttotal: 12s\tremaining: 1m 12s\n",
      "286:\ttotal: 12s\tremaining: 1m 11s\n",
      "287:\ttotal: 12.1s\tremaining: 1m 11s\n",
      "288:\ttotal: 12.1s\tremaining: 1m 11s\n",
      "289:\ttotal: 12.2s\tremaining: 1m 11s\n",
      "290:\ttotal: 12.2s\tremaining: 1m 11s\n",
      "291:\ttotal: 12.2s\tremaining: 1m 11s\n",
      "292:\ttotal: 12.3s\tremaining: 1m 11s\n",
      "293:\ttotal: 12.3s\tremaining: 1m 11s\n",
      "294:\ttotal: 12.3s\tremaining: 1m 11s\n",
      "295:\ttotal: 12.4s\tremaining: 1m 11s\n",
      "296:\ttotal: 12.4s\tremaining: 1m 11s\n",
      "297:\ttotal: 12.5s\tremaining: 1m 11s\n",
      "298:\ttotal: 12.5s\tremaining: 1m 11s\n",
      "299:\ttotal: 12.5s\tremaining: 1m 11s\n",
      "300:\ttotal: 12.6s\tremaining: 1m 11s\n",
      "301:\ttotal: 12.6s\tremaining: 1m 11s\n",
      "302:\ttotal: 12.7s\tremaining: 1m 10s\n",
      "303:\ttotal: 12.7s\tremaining: 1m 10s\n",
      "304:\ttotal: 12.7s\tremaining: 1m 10s\n",
      "305:\ttotal: 12.8s\tremaining: 1m 10s\n",
      "306:\ttotal: 12.8s\tremaining: 1m 10s\n",
      "307:\ttotal: 12.8s\tremaining: 1m 10s\n",
      "308:\ttotal: 12.9s\tremaining: 1m 10s\n",
      "309:\ttotal: 12.9s\tremaining: 1m 10s\n",
      "310:\ttotal: 13s\tremaining: 1m 10s\n",
      "311:\ttotal: 13s\tremaining: 1m 10s\n",
      "312:\ttotal: 13s\tremaining: 1m 10s\n",
      "313:\ttotal: 13.1s\tremaining: 1m 10s\n",
      "314:\ttotal: 13.1s\tremaining: 1m 10s\n",
      "315:\ttotal: 13.1s\tremaining: 1m 10s\n",
      "316:\ttotal: 13.2s\tremaining: 1m 10s\n",
      "317:\ttotal: 13.2s\tremaining: 1m 9s\n",
      "318:\ttotal: 13.3s\tremaining: 1m 9s\n",
      "319:\ttotal: 13.3s\tremaining: 1m 9s\n",
      "320:\ttotal: 13.3s\tremaining: 1m 9s\n",
      "321:\ttotal: 13.4s\tremaining: 1m 9s\n",
      "322:\ttotal: 13.4s\tremaining: 1m 9s\n",
      "323:\ttotal: 13.4s\tremaining: 1m 9s\n",
      "324:\ttotal: 13.5s\tremaining: 1m 9s\n",
      "325:\ttotal: 13.5s\tremaining: 1m 9s\n",
      "326:\ttotal: 13.6s\tremaining: 1m 9s\n",
      "327:\ttotal: 13.6s\tremaining: 1m 9s\n",
      "328:\ttotal: 13.6s\tremaining: 1m 9s\n",
      "329:\ttotal: 13.7s\tremaining: 1m 9s\n",
      "330:\ttotal: 13.7s\tremaining: 1m 9s\n",
      "331:\ttotal: 13.8s\tremaining: 1m 9s\n",
      "332:\ttotal: 13.8s\tremaining: 1m 9s\n",
      "333:\ttotal: 13.8s\tremaining: 1m 9s\n",
      "334:\ttotal: 13.9s\tremaining: 1m 8s\n",
      "335:\ttotal: 13.9s\tremaining: 1m 8s\n",
      "336:\ttotal: 13.9s\tremaining: 1m 8s\n",
      "337:\ttotal: 14s\tremaining: 1m 8s\n",
      "338:\ttotal: 14s\tremaining: 1m 8s\n",
      "339:\ttotal: 14.1s\tremaining: 1m 8s\n",
      "340:\ttotal: 14.1s\tremaining: 1m 8s\n",
      "341:\ttotal: 14.1s\tremaining: 1m 8s\n",
      "342:\ttotal: 14.2s\tremaining: 1m 8s\n",
      "343:\ttotal: 14.2s\tremaining: 1m 8s\n",
      "344:\ttotal: 14.2s\tremaining: 1m 8s\n",
      "345:\ttotal: 14.3s\tremaining: 1m 8s\n",
      "346:\ttotal: 14.3s\tremaining: 1m 8s\n",
      "347:\ttotal: 14.3s\tremaining: 1m 8s\n",
      "348:\ttotal: 14.4s\tremaining: 1m 8s\n",
      "349:\ttotal: 14.4s\tremaining: 1m 7s\n",
      "350:\ttotal: 14.5s\tremaining: 1m 7s\n",
      "351:\ttotal: 14.5s\tremaining: 1m 7s\n",
      "352:\ttotal: 14.5s\tremaining: 1m 7s\n",
      "353:\ttotal: 14.6s\tremaining: 1m 7s\n",
      "354:\ttotal: 14.6s\tremaining: 1m 7s\n",
      "355:\ttotal: 14.7s\tremaining: 1m 7s\n",
      "356:\ttotal: 14.7s\tremaining: 1m 7s\n",
      "357:\ttotal: 14.7s\tremaining: 1m 7s\n",
      "358:\ttotal: 14.8s\tremaining: 1m 7s\n",
      "359:\ttotal: 14.8s\tremaining: 1m 7s\n",
      "360:\ttotal: 14.8s\tremaining: 1m 7s\n",
      "361:\ttotal: 14.9s\tremaining: 1m 7s\n",
      "362:\ttotal: 14.9s\tremaining: 1m 7s\n",
      "363:\ttotal: 15s\tremaining: 1m 7s\n",
      "364:\ttotal: 15s\tremaining: 1m 7s\n",
      "365:\ttotal: 15s\tremaining: 1m 7s\n",
      "366:\ttotal: 15.1s\tremaining: 1m 7s\n",
      "367:\ttotal: 15.1s\tremaining: 1m 6s\n",
      "368:\ttotal: 15.1s\tremaining: 1m 6s\n",
      "369:\ttotal: 15.2s\tremaining: 1m 6s\n",
      "370:\ttotal: 15.2s\tremaining: 1m 6s\n",
      "371:\ttotal: 15.2s\tremaining: 1m 6s\n",
      "372:\ttotal: 15.3s\tremaining: 1m 6s\n",
      "373:\ttotal: 15.3s\tremaining: 1m 6s\n",
      "374:\ttotal: 15.4s\tremaining: 1m 6s\n",
      "375:\ttotal: 15.4s\tremaining: 1m 6s\n",
      "376:\ttotal: 15.4s\tremaining: 1m 6s\n",
      "377:\ttotal: 15.5s\tremaining: 1m 6s\n",
      "378:\ttotal: 15.5s\tremaining: 1m 6s\n",
      "379:\ttotal: 15.6s\tremaining: 1m 6s\n",
      "380:\ttotal: 15.6s\tremaining: 1m 6s\n",
      "381:\ttotal: 15.6s\tremaining: 1m 6s\n",
      "382:\ttotal: 15.7s\tremaining: 1m 6s\n",
      "383:\ttotal: 15.7s\tremaining: 1m 6s\n",
      "384:\ttotal: 15.7s\tremaining: 1m 6s\n",
      "385:\ttotal: 15.8s\tremaining: 1m 6s\n",
      "386:\ttotal: 15.8s\tremaining: 1m 5s\n",
      "387:\ttotal: 15.9s\tremaining: 1m 5s\n",
      "388:\ttotal: 15.9s\tremaining: 1m 5s\n",
      "389:\ttotal: 15.9s\tremaining: 1m 5s\n",
      "390:\ttotal: 16s\tremaining: 1m 5s\n",
      "391:\ttotal: 16s\tremaining: 1m 5s\n",
      "392:\ttotal: 16s\tremaining: 1m 5s\n",
      "393:\ttotal: 16.1s\tremaining: 1m 5s\n",
      "394:\ttotal: 16.1s\tremaining: 1m 5s\n",
      "395:\ttotal: 16.1s\tremaining: 1m 5s\n",
      "396:\ttotal: 16.2s\tremaining: 1m 5s\n",
      "397:\ttotal: 16.3s\tremaining: 1m 5s\n",
      "398:\ttotal: 16.3s\tremaining: 1m 5s\n",
      "399:\ttotal: 16.3s\tremaining: 1m 5s\n",
      "400:\ttotal: 16.4s\tremaining: 1m 5s\n",
      "401:\ttotal: 16.4s\tremaining: 1m 5s\n",
      "402:\ttotal: 16.4s\tremaining: 1m 5s\n",
      "403:\ttotal: 16.5s\tremaining: 1m 5s\n",
      "404:\ttotal: 16.5s\tremaining: 1m 5s\n",
      "405:\ttotal: 16.5s\tremaining: 1m 4s\n",
      "406:\ttotal: 16.6s\tremaining: 1m 4s\n",
      "407:\ttotal: 16.6s\tremaining: 1m 4s\n",
      "408:\ttotal: 16.7s\tremaining: 1m 4s\n",
      "409:\ttotal: 16.7s\tremaining: 1m 4s\n",
      "410:\ttotal: 16.7s\tremaining: 1m 4s\n",
      "411:\ttotal: 16.8s\tremaining: 1m 4s\n",
      "412:\ttotal: 16.8s\tremaining: 1m 4s\n",
      "413:\ttotal: 16.9s\tremaining: 1m 4s\n",
      "414:\ttotal: 16.9s\tremaining: 1m 4s\n",
      "415:\ttotal: 16.9s\tremaining: 1m 4s\n",
      "416:\ttotal: 17s\tremaining: 1m 4s\n",
      "417:\ttotal: 17s\tremaining: 1m 4s\n",
      "418:\ttotal: 17.1s\tremaining: 1m 4s\n",
      "419:\ttotal: 17.1s\tremaining: 1m 4s\n",
      "420:\ttotal: 17.1s\tremaining: 1m 4s\n",
      "421:\ttotal: 17.2s\tremaining: 1m 4s\n",
      "422:\ttotal: 17.2s\tremaining: 1m 4s\n",
      "423:\ttotal: 17.2s\tremaining: 1m 4s\n",
      "424:\ttotal: 17.3s\tremaining: 1m 4s\n",
      "425:\ttotal: 17.3s\tremaining: 1m 3s\n",
      "426:\ttotal: 17.4s\tremaining: 1m 3s\n",
      "427:\ttotal: 17.4s\tremaining: 1m 3s\n",
      "428:\ttotal: 17.4s\tremaining: 1m 3s\n",
      "429:\ttotal: 17.5s\tremaining: 1m 3s\n",
      "430:\ttotal: 17.5s\tremaining: 1m 3s\n",
      "431:\ttotal: 17.5s\tremaining: 1m 3s\n",
      "432:\ttotal: 17.6s\tremaining: 1m 3s\n",
      "433:\ttotal: 17.6s\tremaining: 1m 3s\n",
      "434:\ttotal: 17.6s\tremaining: 1m 3s\n",
      "435:\ttotal: 17.7s\tremaining: 1m 3s\n",
      "436:\ttotal: 17.7s\tremaining: 1m 3s\n",
      "437:\ttotal: 17.7s\tremaining: 1m 3s\n",
      "438:\ttotal: 17.8s\tremaining: 1m 3s\n",
      "439:\ttotal: 17.8s\tremaining: 1m 3s\n",
      "440:\ttotal: 17.9s\tremaining: 1m 3s\n",
      "441:\ttotal: 17.9s\tremaining: 1m 3s\n",
      "442:\ttotal: 18s\tremaining: 1m 3s\n",
      "443:\ttotal: 18s\tremaining: 1m 3s\n",
      "444:\ttotal: 18s\tremaining: 1m 3s\n",
      "445:\ttotal: 18.1s\tremaining: 1m 2s\n",
      "446:\ttotal: 18.1s\tremaining: 1m 2s\n",
      "447:\ttotal: 18.1s\tremaining: 1m 2s\n",
      "448:\ttotal: 18.2s\tremaining: 1m 2s\n",
      "449:\ttotal: 18.2s\tremaining: 1m 2s\n",
      "450:\ttotal: 18.3s\tremaining: 1m 2s\n",
      "451:\ttotal: 18.3s\tremaining: 1m 2s\n",
      "452:\ttotal: 18.3s\tremaining: 1m 2s\n",
      "453:\ttotal: 18.4s\tremaining: 1m 2s\n",
      "454:\ttotal: 18.4s\tremaining: 1m 2s\n",
      "455:\ttotal: 18.5s\tremaining: 1m 2s\n",
      "456:\ttotal: 18.5s\tremaining: 1m 2s\n",
      "457:\ttotal: 18.5s\tremaining: 1m 2s\n",
      "458:\ttotal: 18.6s\tremaining: 1m 2s\n",
      "459:\ttotal: 18.6s\tremaining: 1m 2s\n",
      "460:\ttotal: 18.6s\tremaining: 1m 2s\n",
      "461:\ttotal: 18.7s\tremaining: 1m 2s\n",
      "462:\ttotal: 18.7s\tremaining: 1m 2s\n",
      "463:\ttotal: 18.8s\tremaining: 1m 2s\n",
      "464:\ttotal: 18.8s\tremaining: 1m 2s\n",
      "465:\ttotal: 18.8s\tremaining: 1m 1s\n"
     ]
    },
    {
     "name": "stdout",
     "output_type": "stream",
     "text": [
      "466:\ttotal: 18.9s\tremaining: 1m 1s\n",
      "467:\ttotal: 18.9s\tremaining: 1m 2s\n",
      "468:\ttotal: 19s\tremaining: 1m 1s\n",
      "469:\ttotal: 19s\tremaining: 1m 1s\n",
      "470:\ttotal: 19s\tremaining: 1m 1s\n",
      "471:\ttotal: 19.1s\tremaining: 1m 1s\n",
      "472:\ttotal: 19.1s\tremaining: 1m 1s\n",
      "473:\ttotal: 19.2s\tremaining: 1m 1s\n",
      "474:\ttotal: 19.2s\tremaining: 1m 1s\n",
      "475:\ttotal: 19.2s\tremaining: 1m 1s\n",
      "476:\ttotal: 19.3s\tremaining: 1m 1s\n",
      "477:\ttotal: 19.3s\tremaining: 1m 1s\n",
      "478:\ttotal: 19.3s\tremaining: 1m 1s\n",
      "479:\ttotal: 19.4s\tremaining: 1m 1s\n",
      "480:\ttotal: 19.4s\tremaining: 1m 1s\n",
      "481:\ttotal: 19.5s\tremaining: 1m 1s\n",
      "482:\ttotal: 19.5s\tremaining: 1m 1s\n",
      "483:\ttotal: 19.5s\tremaining: 1m 1s\n",
      "484:\ttotal: 19.6s\tremaining: 1m 1s\n",
      "485:\ttotal: 19.6s\tremaining: 1m 1s\n",
      "486:\ttotal: 19.6s\tremaining: 1m 1s\n",
      "487:\ttotal: 19.7s\tremaining: 1m\n",
      "488:\ttotal: 19.7s\tremaining: 1m\n",
      "489:\ttotal: 19.7s\tremaining: 1m\n",
      "490:\ttotal: 19.8s\tremaining: 1m\n",
      "491:\ttotal: 19.8s\tremaining: 1m\n",
      "492:\ttotal: 19.9s\tremaining: 1m\n",
      "493:\ttotal: 19.9s\tremaining: 1m\n",
      "494:\ttotal: 19.9s\tremaining: 1m\n",
      "495:\ttotal: 20s\tremaining: 1m\n",
      "496:\ttotal: 20s\tremaining: 1m\n",
      "497:\ttotal: 20s\tremaining: 1m\n",
      "498:\ttotal: 20.1s\tremaining: 1m\n",
      "499:\ttotal: 20.1s\tremaining: 1m\n",
      "500:\ttotal: 20.1s\tremaining: 1m\n",
      "501:\ttotal: 20.2s\tremaining: 1m\n",
      "502:\ttotal: 20.2s\tremaining: 1m\n",
      "503:\ttotal: 20.3s\tremaining: 1m\n",
      "504:\ttotal: 20.3s\tremaining: 1m\n",
      "505:\ttotal: 20.3s\tremaining: 1m\n",
      "506:\ttotal: 20.4s\tremaining: 1m\n",
      "507:\ttotal: 20.4s\tremaining: 60s\n",
      "508:\ttotal: 20.5s\tremaining: 59.9s\n",
      "509:\ttotal: 20.5s\tremaining: 59.9s\n",
      "510:\ttotal: 20.5s\tremaining: 59.8s\n",
      "511:\ttotal: 20.6s\tremaining: 59.8s\n",
      "512:\ttotal: 20.6s\tremaining: 59.7s\n",
      "513:\ttotal: 20.6s\tremaining: 59.7s\n",
      "514:\ttotal: 20.7s\tremaining: 59.7s\n",
      "515:\ttotal: 20.7s\tremaining: 59.6s\n",
      "516:\ttotal: 20.8s\tremaining: 59.6s\n",
      "517:\ttotal: 20.8s\tremaining: 59.5s\n",
      "518:\ttotal: 20.8s\tremaining: 59.5s\n",
      "519:\ttotal: 20.9s\tremaining: 59.4s\n",
      "520:\ttotal: 20.9s\tremaining: 59.4s\n",
      "521:\ttotal: 20.9s\tremaining: 59.3s\n",
      "522:\ttotal: 21s\tremaining: 59.3s\n",
      "523:\ttotal: 21s\tremaining: 59.2s\n",
      "524:\ttotal: 21.1s\tremaining: 59.2s\n",
      "525:\ttotal: 21.1s\tremaining: 59.2s\n",
      "526:\ttotal: 21.1s\tremaining: 59.1s\n",
      "527:\ttotal: 21.2s\tremaining: 59s\n",
      "528:\ttotal: 21.2s\tremaining: 59s\n",
      "529:\ttotal: 21.2s\tremaining: 58.9s\n",
      "530:\ttotal: 21.3s\tremaining: 58.9s\n",
      "531:\ttotal: 21.3s\tremaining: 58.8s\n",
      "532:\ttotal: 21.4s\tremaining: 58.8s\n",
      "533:\ttotal: 21.4s\tremaining: 58.8s\n",
      "534:\ttotal: 21.4s\tremaining: 58.7s\n",
      "535:\ttotal: 21.5s\tremaining: 58.6s\n",
      "536:\ttotal: 21.5s\tremaining: 58.6s\n",
      "537:\ttotal: 21.5s\tremaining: 58.6s\n",
      "538:\ttotal: 21.6s\tremaining: 58.5s\n",
      "539:\ttotal: 21.6s\tremaining: 58.5s\n",
      "540:\ttotal: 21.7s\tremaining: 58.4s\n",
      "541:\ttotal: 21.7s\tremaining: 58.4s\n",
      "542:\ttotal: 21.7s\tremaining: 58.3s\n",
      "543:\ttotal: 21.8s\tremaining: 58.3s\n",
      "544:\ttotal: 21.8s\tremaining: 58.2s\n",
      "545:\ttotal: 21.9s\tremaining: 58.2s\n",
      "546:\ttotal: 21.9s\tremaining: 58.2s\n",
      "547:\ttotal: 22s\tremaining: 58.2s\n",
      "548:\ttotal: 22s\tremaining: 58.1s\n",
      "549:\ttotal: 22.1s\tremaining: 58.2s\n",
      "550:\ttotal: 22.1s\tremaining: 58.1s\n",
      "551:\ttotal: 22.1s\tremaining: 58.1s\n",
      "552:\ttotal: 22.2s\tremaining: 58s\n",
      "553:\ttotal: 22.2s\tremaining: 58s\n",
      "554:\ttotal: 22.3s\tremaining: 57.9s\n",
      "555:\ttotal: 22.3s\tremaining: 57.9s\n",
      "556:\ttotal: 22.3s\tremaining: 57.8s\n",
      "557:\ttotal: 22.4s\tremaining: 57.8s\n",
      "558:\ttotal: 22.4s\tremaining: 57.8s\n",
      "559:\ttotal: 22.5s\tremaining: 57.8s\n",
      "560:\ttotal: 22.5s\tremaining: 57.7s\n",
      "561:\ttotal: 22.5s\tremaining: 57.7s\n",
      "562:\ttotal: 22.6s\tremaining: 57.6s\n",
      "563:\ttotal: 22.6s\tremaining: 57.6s\n",
      "564:\ttotal: 22.7s\tremaining: 57.5s\n",
      "565:\ttotal: 22.7s\tremaining: 57.6s\n",
      "566:\ttotal: 22.8s\tremaining: 57.5s\n",
      "567:\ttotal: 22.8s\tremaining: 57.5s\n",
      "568:\ttotal: 22.8s\tremaining: 57.4s\n",
      "569:\ttotal: 22.9s\tremaining: 57.4s\n",
      "570:\ttotal: 22.9s\tremaining: 57.3s\n",
      "571:\ttotal: 22.9s\tremaining: 57.3s\n",
      "572:\ttotal: 23s\tremaining: 57.2s\n",
      "573:\ttotal: 23s\tremaining: 57.2s\n",
      "574:\ttotal: 23s\tremaining: 57.1s\n",
      "575:\ttotal: 23.1s\tremaining: 57.1s\n",
      "576:\ttotal: 23.1s\tremaining: 57s\n",
      "577:\ttotal: 23.2s\tremaining: 57s\n",
      "578:\ttotal: 23.2s\tremaining: 57s\n",
      "579:\ttotal: 23.2s\tremaining: 56.9s\n",
      "580:\ttotal: 23.3s\tremaining: 56.9s\n",
      "581:\ttotal: 23.3s\tremaining: 56.8s\n",
      "582:\ttotal: 23.4s\tremaining: 56.8s\n",
      "583:\ttotal: 23.4s\tremaining: 56.8s\n",
      "584:\ttotal: 23.5s\tremaining: 56.7s\n",
      "585:\ttotal: 23.5s\tremaining: 56.7s\n",
      "586:\ttotal: 23.5s\tremaining: 56.6s\n",
      "587:\ttotal: 23.6s\tremaining: 56.6s\n",
      "588:\ttotal: 23.6s\tremaining: 56.6s\n",
      "589:\ttotal: 23.7s\tremaining: 56.5s\n",
      "590:\ttotal: 23.7s\tremaining: 56.5s\n",
      "591:\ttotal: 23.7s\tremaining: 56.5s\n",
      "592:\ttotal: 23.8s\tremaining: 56.4s\n",
      "593:\ttotal: 23.8s\tremaining: 56.4s\n",
      "594:\ttotal: 23.9s\tremaining: 56.4s\n",
      "595:\ttotal: 23.9s\tremaining: 56.4s\n",
      "596:\ttotal: 24s\tremaining: 56.3s\n",
      "597:\ttotal: 24s\tremaining: 56.3s\n",
      "598:\ttotal: 24s\tremaining: 56.2s\n",
      "599:\ttotal: 24.1s\tremaining: 56.2s\n",
      "600:\ttotal: 24.1s\tremaining: 56.1s\n",
      "601:\ttotal: 24.2s\tremaining: 56.1s\n",
      "602:\ttotal: 24.2s\tremaining: 56s\n",
      "603:\ttotal: 24.2s\tremaining: 56s\n",
      "604:\ttotal: 24.3s\tremaining: 55.9s\n",
      "605:\ttotal: 24.3s\tremaining: 55.9s\n",
      "606:\ttotal: 24.4s\tremaining: 55.9s\n",
      "607:\ttotal: 24.4s\tremaining: 55.8s\n",
      "608:\ttotal: 24.4s\tremaining: 55.8s\n",
      "609:\ttotal: 24.5s\tremaining: 55.7s\n",
      "610:\ttotal: 24.5s\tremaining: 55.7s\n",
      "611:\ttotal: 24.5s\tremaining: 55.7s\n",
      "612:\ttotal: 24.6s\tremaining: 55.6s\n",
      "613:\ttotal: 24.6s\tremaining: 55.6s\n",
      "614:\ttotal: 24.7s\tremaining: 55.5s\n",
      "615:\ttotal: 24.7s\tremaining: 55.5s\n",
      "616:\ttotal: 24.7s\tremaining: 55.4s\n",
      "617:\ttotal: 24.8s\tremaining: 55.4s\n",
      "618:\ttotal: 24.8s\tremaining: 55.3s\n",
      "619:\ttotal: 24.8s\tremaining: 55.3s\n",
      "620:\ttotal: 24.9s\tremaining: 55.3s\n",
      "621:\ttotal: 24.9s\tremaining: 55.2s\n",
      "622:\ttotal: 25s\tremaining: 55.2s\n",
      "623:\ttotal: 25s\tremaining: 55.1s\n",
      "624:\ttotal: 25s\tremaining: 55.1s\n",
      "625:\ttotal: 25.1s\tremaining: 55s\n",
      "626:\ttotal: 25.1s\tremaining: 55s\n",
      "627:\ttotal: 25.1s\tremaining: 54.9s\n",
      "628:\ttotal: 25.2s\tremaining: 54.9s\n",
      "629:\ttotal: 25.2s\tremaining: 54.8s\n",
      "630:\ttotal: 25.3s\tremaining: 54.8s\n",
      "631:\ttotal: 25.3s\tremaining: 54.8s\n",
      "632:\ttotal: 25.3s\tremaining: 54.7s\n",
      "633:\ttotal: 25.4s\tremaining: 54.7s\n",
      "634:\ttotal: 25.4s\tremaining: 54.6s\n",
      "635:\ttotal: 25.5s\tremaining: 54.6s\n",
      "636:\ttotal: 25.5s\tremaining: 54.6s\n",
      "637:\ttotal: 25.5s\tremaining: 54.5s\n",
      "638:\ttotal: 25.6s\tremaining: 54.5s\n",
      "639:\ttotal: 25.6s\tremaining: 54.4s\n",
      "640:\ttotal: 25.6s\tremaining: 54.4s\n",
      "641:\ttotal: 25.7s\tremaining: 54.3s\n",
      "642:\ttotal: 25.7s\tremaining: 54.3s\n",
      "643:\ttotal: 25.8s\tremaining: 54.2s\n",
      "644:\ttotal: 25.8s\tremaining: 54.2s\n",
      "645:\ttotal: 25.8s\tremaining: 54.1s\n",
      "646:\ttotal: 25.9s\tremaining: 54.1s\n",
      "647:\ttotal: 25.9s\tremaining: 54.1s\n",
      "648:\ttotal: 26s\tremaining: 54s\n",
      "649:\ttotal: 26s\tremaining: 54s\n",
      "650:\ttotal: 26s\tremaining: 54s\n",
      "651:\ttotal: 26.1s\tremaining: 53.9s\n",
      "652:\ttotal: 26.1s\tremaining: 53.9s\n",
      "653:\ttotal: 26.1s\tremaining: 53.8s\n",
      "654:\ttotal: 26.2s\tremaining: 53.8s\n",
      "655:\ttotal: 26.2s\tremaining: 53.7s\n",
      "656:\ttotal: 26.2s\tremaining: 53.7s\n",
      "657:\ttotal: 26.3s\tremaining: 53.6s\n",
      "658:\ttotal: 26.3s\tremaining: 53.6s\n",
      "659:\ttotal: 26.3s\tremaining: 53.5s\n",
      "660:\ttotal: 26.4s\tremaining: 53.5s\n",
      "661:\ttotal: 26.5s\tremaining: 53.5s\n",
      "662:\ttotal: 26.5s\tremaining: 53.4s\n",
      "663:\ttotal: 26.5s\tremaining: 53.4s\n",
      "664:\ttotal: 26.6s\tremaining: 53.3s\n",
      "665:\ttotal: 26.6s\tremaining: 53.3s\n",
      "666:\ttotal: 26.6s\tremaining: 53.3s\n",
      "667:\ttotal: 26.7s\tremaining: 53.2s\n",
      "668:\ttotal: 26.7s\tremaining: 53.2s\n",
      "669:\ttotal: 26.8s\tremaining: 53.1s\n",
      "670:\ttotal: 26.8s\tremaining: 53.1s\n",
      "671:\ttotal: 26.8s\tremaining: 53s\n",
      "672:\ttotal: 26.9s\tremaining: 53s\n",
      "673:\ttotal: 26.9s\tremaining: 52.9s\n",
      "674:\ttotal: 27s\tremaining: 52.9s\n",
      "675:\ttotal: 27s\tremaining: 52.9s\n",
      "676:\ttotal: 27s\tremaining: 52.8s\n",
      "677:\ttotal: 27.1s\tremaining: 52.8s\n",
      "678:\ttotal: 27.1s\tremaining: 52.7s\n",
      "679:\ttotal: 27.1s\tremaining: 52.7s\n",
      "680:\ttotal: 27.2s\tremaining: 52.6s\n",
      "681:\ttotal: 27.2s\tremaining: 52.6s\n",
      "682:\ttotal: 27.2s\tremaining: 52.5s\n",
      "683:\ttotal: 27.3s\tremaining: 52.5s\n",
      "684:\ttotal: 27.3s\tremaining: 52.5s\n",
      "685:\ttotal: 27.4s\tremaining: 52.4s\n",
      "686:\ttotal: 27.4s\tremaining: 52.4s\n",
      "687:\ttotal: 27.4s\tremaining: 52.3s\n",
      "688:\ttotal: 27.5s\tremaining: 52.3s\n",
      "689:\ttotal: 27.5s\tremaining: 52.2s\n",
      "690:\ttotal: 27.6s\tremaining: 52.2s\n",
      "691:\ttotal: 27.6s\tremaining: 52.2s\n",
      "692:\ttotal: 27.6s\tremaining: 52.1s\n",
      "693:\ttotal: 27.7s\tremaining: 52.1s\n",
      "694:\ttotal: 27.7s\tremaining: 52.1s\n",
      "695:\ttotal: 27.8s\tremaining: 52s\n",
      "696:\ttotal: 27.8s\tremaining: 52s\n",
      "697:\ttotal: 27.9s\tremaining: 52s\n",
      "698:\ttotal: 27.9s\tremaining: 51.9s\n",
      "699:\ttotal: 27.9s\tremaining: 51.8s\n",
      "700:\ttotal: 28s\tremaining: 51.8s\n",
      "701:\ttotal: 28s\tremaining: 51.7s\n",
      "702:\ttotal: 28s\tremaining: 51.7s\n",
      "703:\ttotal: 28.1s\tremaining: 51.7s\n",
      "704:\ttotal: 28.1s\tremaining: 51.7s\n",
      "705:\ttotal: 28.2s\tremaining: 51.6s\n",
      "706:\ttotal: 28.2s\tremaining: 51.6s\n",
      "707:\ttotal: 28.2s\tremaining: 51.5s\n"
     ]
    },
    {
     "name": "stdout",
     "output_type": "stream",
     "text": [
      "708:\ttotal: 28.3s\tremaining: 51.5s\n",
      "709:\ttotal: 28.3s\tremaining: 51.4s\n",
      "710:\ttotal: 28.4s\tremaining: 51.4s\n",
      "711:\ttotal: 28.4s\tremaining: 51.4s\n",
      "712:\ttotal: 28.4s\tremaining: 51.3s\n",
      "713:\ttotal: 28.5s\tremaining: 51.3s\n",
      "714:\ttotal: 28.5s\tremaining: 51.2s\n",
      "715:\ttotal: 28.6s\tremaining: 51.2s\n",
      "716:\ttotal: 28.6s\tremaining: 51.2s\n",
      "717:\ttotal: 28.6s\tremaining: 51.1s\n",
      "718:\ttotal: 28.7s\tremaining: 51.1s\n",
      "719:\ttotal: 28.7s\tremaining: 51s\n",
      "720:\ttotal: 28.8s\tremaining: 51s\n",
      "721:\ttotal: 28.8s\tremaining: 50.9s\n",
      "722:\ttotal: 28.8s\tremaining: 50.9s\n",
      "723:\ttotal: 28.9s\tremaining: 50.9s\n",
      "724:\ttotal: 28.9s\tremaining: 50.8s\n",
      "725:\ttotal: 28.9s\tremaining: 50.8s\n",
      "726:\ttotal: 29s\tremaining: 50.7s\n",
      "727:\ttotal: 29s\tremaining: 50.7s\n",
      "728:\ttotal: 29s\tremaining: 50.6s\n",
      "729:\ttotal: 29.1s\tremaining: 50.6s\n",
      "730:\ttotal: 29.1s\tremaining: 50.5s\n",
      "731:\ttotal: 29.1s\tremaining: 50.5s\n",
      "732:\ttotal: 29.2s\tremaining: 50.5s\n",
      "733:\ttotal: 29.2s\tremaining: 50.4s\n",
      "734:\ttotal: 29.3s\tremaining: 50.4s\n",
      "735:\ttotal: 29.3s\tremaining: 50.3s\n",
      "736:\ttotal: 29.3s\tremaining: 50.3s\n",
      "737:\ttotal: 29.4s\tremaining: 50.3s\n",
      "738:\ttotal: 29.4s\tremaining: 50.2s\n",
      "739:\ttotal: 29.5s\tremaining: 50.2s\n",
      "740:\ttotal: 29.5s\tremaining: 50.1s\n",
      "741:\ttotal: 29.5s\tremaining: 50.1s\n",
      "742:\ttotal: 29.6s\tremaining: 50s\n",
      "743:\ttotal: 29.6s\tremaining: 50s\n",
      "744:\ttotal: 29.7s\tremaining: 50s\n",
      "745:\ttotal: 29.7s\tremaining: 49.9s\n",
      "746:\ttotal: 29.7s\tremaining: 49.8s\n",
      "747:\ttotal: 29.8s\tremaining: 49.8s\n",
      "748:\ttotal: 29.8s\tremaining: 49.7s\n",
      "749:\ttotal: 29.8s\tremaining: 49.7s\n",
      "750:\ttotal: 29.9s\tremaining: 49.7s\n",
      "751:\ttotal: 29.9s\tremaining: 49.6s\n",
      "752:\ttotal: 29.9s\tremaining: 49.6s\n",
      "753:\ttotal: 30s\tremaining: 49.5s\n",
      "754:\ttotal: 30s\tremaining: 49.5s\n",
      "755:\ttotal: 30s\tremaining: 49.4s\n",
      "756:\ttotal: 30.1s\tremaining: 49.4s\n",
      "757:\ttotal: 30.1s\tremaining: 49.4s\n",
      "758:\ttotal: 30.2s\tremaining: 49.3s\n",
      "759:\ttotal: 30.2s\tremaining: 49.3s\n",
      "760:\ttotal: 30.2s\tremaining: 49.2s\n",
      "761:\ttotal: 30.3s\tremaining: 49.2s\n",
      "762:\ttotal: 30.3s\tremaining: 49.2s\n",
      "763:\ttotal: 30.4s\tremaining: 49.1s\n",
      "764:\ttotal: 30.4s\tremaining: 49.1s\n",
      "765:\ttotal: 30.4s\tremaining: 49s\n",
      "766:\ttotal: 30.5s\tremaining: 49s\n",
      "767:\ttotal: 30.5s\tremaining: 48.9s\n",
      "768:\ttotal: 30.5s\tremaining: 48.9s\n",
      "769:\ttotal: 30.6s\tremaining: 48.8s\n",
      "770:\ttotal: 30.6s\tremaining: 48.8s\n",
      "771:\ttotal: 30.7s\tremaining: 48.8s\n",
      "772:\ttotal: 30.7s\tremaining: 48.7s\n",
      "773:\ttotal: 30.7s\tremaining: 48.7s\n",
      "774:\ttotal: 30.8s\tremaining: 48.6s\n",
      "775:\ttotal: 30.8s\tremaining: 48.6s\n",
      "776:\ttotal: 30.8s\tremaining: 48.6s\n",
      "777:\ttotal: 30.9s\tremaining: 48.5s\n",
      "778:\ttotal: 30.9s\tremaining: 48.4s\n",
      "779:\ttotal: 31s\tremaining: 48.4s\n",
      "780:\ttotal: 31s\tremaining: 48.4s\n",
      "781:\ttotal: 31s\tremaining: 48.3s\n",
      "782:\ttotal: 31.1s\tremaining: 48.3s\n",
      "783:\ttotal: 31.1s\tremaining: 48.2s\n",
      "784:\ttotal: 31.1s\tremaining: 48.2s\n",
      "785:\ttotal: 31.2s\tremaining: 48.2s\n",
      "786:\ttotal: 31.2s\tremaining: 48.1s\n",
      "787:\ttotal: 31.3s\tremaining: 48.1s\n",
      "788:\ttotal: 31.3s\tremaining: 48s\n",
      "789:\ttotal: 31.3s\tremaining: 48s\n",
      "790:\ttotal: 31.4s\tremaining: 48s\n",
      "791:\ttotal: 31.4s\tremaining: 47.9s\n",
      "792:\ttotal: 31.5s\tremaining: 47.9s\n",
      "793:\ttotal: 31.5s\tremaining: 47.8s\n",
      "794:\ttotal: 31.5s\tremaining: 47.8s\n",
      "795:\ttotal: 31.6s\tremaining: 47.7s\n",
      "796:\ttotal: 31.6s\tremaining: 47.7s\n",
      "797:\ttotal: 31.6s\tremaining: 47.7s\n",
      "798:\ttotal: 31.7s\tremaining: 47.6s\n",
      "799:\ttotal: 31.7s\tremaining: 47.6s\n",
      "800:\ttotal: 31.8s\tremaining: 47.5s\n",
      "801:\ttotal: 31.8s\tremaining: 47.5s\n",
      "802:\ttotal: 31.8s\tremaining: 47.4s\n",
      "803:\ttotal: 31.9s\tremaining: 47.4s\n",
      "804:\ttotal: 31.9s\tremaining: 47.4s\n",
      "805:\ttotal: 31.9s\tremaining: 47.3s\n",
      "806:\ttotal: 32s\tremaining: 47.3s\n",
      "807:\ttotal: 32s\tremaining: 47.2s\n",
      "808:\ttotal: 32s\tremaining: 47.2s\n",
      "809:\ttotal: 32.1s\tremaining: 47.1s\n",
      "810:\ttotal: 32.1s\tremaining: 47.1s\n",
      "811:\ttotal: 32.1s\tremaining: 47s\n",
      "812:\ttotal: 32.2s\tremaining: 47s\n",
      "813:\ttotal: 32.2s\tremaining: 47s\n",
      "814:\ttotal: 32.3s\tremaining: 46.9s\n",
      "815:\ttotal: 32.3s\tremaining: 46.9s\n",
      "816:\ttotal: 32.3s\tremaining: 46.8s\n",
      "817:\ttotal: 32.4s\tremaining: 46.8s\n",
      "818:\ttotal: 32.4s\tremaining: 46.8s\n",
      "819:\ttotal: 32.5s\tremaining: 46.7s\n",
      "820:\ttotal: 32.5s\tremaining: 46.7s\n",
      "821:\ttotal: 32.5s\tremaining: 46.6s\n",
      "822:\ttotal: 32.6s\tremaining: 46.6s\n",
      "823:\ttotal: 32.6s\tremaining: 46.5s\n",
      "824:\ttotal: 32.6s\tremaining: 46.5s\n",
      "825:\ttotal: 32.7s\tremaining: 46.4s\n",
      "826:\ttotal: 32.7s\tremaining: 46.4s\n",
      "827:\ttotal: 32.8s\tremaining: 46.4s\n",
      "828:\ttotal: 32.8s\tremaining: 46.3s\n",
      "829:\ttotal: 32.8s\tremaining: 46.3s\n",
      "830:\ttotal: 32.9s\tremaining: 46.2s\n",
      "831:\ttotal: 32.9s\tremaining: 46.2s\n",
      "832:\ttotal: 32.9s\tremaining: 46.1s\n",
      "833:\ttotal: 33s\tremaining: 46.1s\n",
      "834:\ttotal: 33s\tremaining: 46.1s\n",
      "835:\ttotal: 33.1s\tremaining: 46s\n",
      "836:\ttotal: 33.1s\tremaining: 46s\n",
      "837:\ttotal: 33.1s\tremaining: 45.9s\n",
      "838:\ttotal: 33.2s\tremaining: 45.9s\n",
      "839:\ttotal: 33.2s\tremaining: 45.8s\n",
      "840:\ttotal: 33.2s\tremaining: 45.8s\n",
      "841:\ttotal: 33.3s\tremaining: 45.8s\n",
      "842:\ttotal: 33.3s\tremaining: 45.7s\n",
      "843:\ttotal: 33.4s\tremaining: 45.7s\n",
      "844:\ttotal: 33.4s\tremaining: 45.6s\n",
      "845:\ttotal: 33.4s\tremaining: 45.6s\n",
      "846:\ttotal: 33.5s\tremaining: 45.6s\n",
      "847:\ttotal: 33.5s\tremaining: 45.5s\n",
      "848:\ttotal: 33.6s\tremaining: 45.5s\n",
      "849:\ttotal: 33.6s\tremaining: 45.4s\n",
      "850:\ttotal: 33.6s\tremaining: 45.4s\n",
      "851:\ttotal: 33.7s\tremaining: 45.3s\n",
      "852:\ttotal: 33.7s\tremaining: 45.3s\n",
      "853:\ttotal: 33.7s\tremaining: 45.3s\n",
      "854:\ttotal: 33.8s\tremaining: 45.2s\n",
      "855:\ttotal: 33.8s\tremaining: 45.2s\n",
      "856:\ttotal: 33.8s\tremaining: 45.1s\n",
      "857:\ttotal: 33.9s\tremaining: 45.1s\n",
      "858:\ttotal: 33.9s\tremaining: 45.1s\n",
      "859:\ttotal: 34s\tremaining: 45s\n",
      "860:\ttotal: 34s\tremaining: 45s\n",
      "861:\ttotal: 34s\tremaining: 44.9s\n",
      "862:\ttotal: 34.1s\tremaining: 44.9s\n",
      "863:\ttotal: 34.1s\tremaining: 44.9s\n",
      "864:\ttotal: 34.2s\tremaining: 44.8s\n",
      "865:\ttotal: 34.2s\tremaining: 44.8s\n",
      "866:\ttotal: 34.2s\tremaining: 44.7s\n",
      "867:\ttotal: 34.3s\tremaining: 44.7s\n",
      "868:\ttotal: 34.3s\tremaining: 44.6s\n",
      "869:\ttotal: 34.4s\tremaining: 44.6s\n",
      "870:\ttotal: 34.4s\tremaining: 44.6s\n",
      "871:\ttotal: 34.4s\tremaining: 44.6s\n",
      "872:\ttotal: 34.5s\tremaining: 44.5s\n",
      "873:\ttotal: 34.5s\tremaining: 44.5s\n",
      "874:\ttotal: 34.5s\tremaining: 44.4s\n",
      "875:\ttotal: 34.6s\tremaining: 44.4s\n",
      "876:\ttotal: 34.6s\tremaining: 44.3s\n",
      "877:\ttotal: 34.7s\tremaining: 44.3s\n",
      "878:\ttotal: 34.7s\tremaining: 44.3s\n",
      "879:\ttotal: 34.7s\tremaining: 44.2s\n",
      "880:\ttotal: 34.8s\tremaining: 44.2s\n",
      "881:\ttotal: 34.8s\tremaining: 44.1s\n",
      "882:\ttotal: 34.9s\tremaining: 44.1s\n",
      "883:\ttotal: 34.9s\tremaining: 44.1s\n",
      "884:\ttotal: 35s\tremaining: 44s\n",
      "885:\ttotal: 35s\tremaining: 44s\n",
      "886:\ttotal: 35s\tremaining: 44s\n",
      "887:\ttotal: 35.1s\tremaining: 43.9s\n",
      "888:\ttotal: 35.1s\tremaining: 43.9s\n",
      "889:\ttotal: 35.2s\tremaining: 43.8s\n",
      "890:\ttotal: 35.2s\tremaining: 43.8s\n",
      "891:\ttotal: 35.2s\tremaining: 43.8s\n",
      "892:\ttotal: 35.3s\tremaining: 43.7s\n",
      "893:\ttotal: 35.3s\tremaining: 43.7s\n",
      "894:\ttotal: 35.3s\tremaining: 43.6s\n",
      "895:\ttotal: 35.4s\tremaining: 43.6s\n",
      "896:\ttotal: 35.4s\tremaining: 43.6s\n",
      "897:\ttotal: 35.4s\tremaining: 43.5s\n",
      "898:\ttotal: 35.5s\tremaining: 43.5s\n",
      "899:\ttotal: 35.5s\tremaining: 43.4s\n",
      "900:\ttotal: 35.6s\tremaining: 43.4s\n",
      "901:\ttotal: 35.6s\tremaining: 43.3s\n",
      "902:\ttotal: 35.6s\tremaining: 43.3s\n",
      "903:\ttotal: 35.7s\tremaining: 43.3s\n",
      "904:\ttotal: 35.7s\tremaining: 43.2s\n",
      "905:\ttotal: 35.8s\tremaining: 43.2s\n",
      "906:\ttotal: 35.8s\tremaining: 43.1s\n",
      "907:\ttotal: 35.8s\tremaining: 43.1s\n",
      "908:\ttotal: 35.9s\tremaining: 43.1s\n",
      "909:\ttotal: 35.9s\tremaining: 43s\n",
      "910:\ttotal: 36s\tremaining: 43s\n",
      "911:\ttotal: 36s\tremaining: 42.9s\n",
      "912:\ttotal: 36s\tremaining: 42.9s\n",
      "913:\ttotal: 36.1s\tremaining: 42.9s\n",
      "914:\ttotal: 36.1s\tremaining: 42.8s\n",
      "915:\ttotal: 36.1s\tremaining: 42.8s\n",
      "916:\ttotal: 36.2s\tremaining: 42.7s\n",
      "917:\ttotal: 36.2s\tremaining: 42.7s\n",
      "918:\ttotal: 36.3s\tremaining: 42.6s\n",
      "919:\ttotal: 36.3s\tremaining: 42.6s\n",
      "920:\ttotal: 36.3s\tremaining: 42.6s\n",
      "921:\ttotal: 36.4s\tremaining: 42.5s\n",
      "922:\ttotal: 36.4s\tremaining: 42.5s\n",
      "923:\ttotal: 36.5s\tremaining: 42.4s\n",
      "924:\ttotal: 36.5s\tremaining: 42.4s\n",
      "925:\ttotal: 36.5s\tremaining: 42.4s\n",
      "926:\ttotal: 36.6s\tremaining: 42.3s\n",
      "927:\ttotal: 36.6s\tremaining: 42.3s\n",
      "928:\ttotal: 36.6s\tremaining: 42.2s\n",
      "929:\ttotal: 36.7s\tremaining: 42.2s\n",
      "930:\ttotal: 36.7s\tremaining: 42.2s\n",
      "931:\ttotal: 36.8s\tremaining: 42.1s\n",
      "932:\ttotal: 36.8s\tremaining: 42.1s\n",
      "933:\ttotal: 36.8s\tremaining: 42s\n",
      "934:\ttotal: 36.9s\tremaining: 42s\n",
      "935:\ttotal: 36.9s\tremaining: 42s\n",
      "936:\ttotal: 37s\tremaining: 41.9s\n",
      "937:\ttotal: 37s\tremaining: 41.9s\n",
      "938:\ttotal: 37s\tremaining: 41.9s\n",
      "939:\ttotal: 37.1s\tremaining: 41.8s\n",
      "940:\ttotal: 37.1s\tremaining: 41.8s\n",
      "941:\ttotal: 37.2s\tremaining: 41.7s\n",
      "942:\ttotal: 37.2s\tremaining: 41.7s\n",
      "943:\ttotal: 37.2s\tremaining: 41.6s\n",
      "944:\ttotal: 37.3s\tremaining: 41.6s\n",
      "945:\ttotal: 37.3s\tremaining: 41.6s\n"
     ]
    },
    {
     "name": "stdout",
     "output_type": "stream",
     "text": [
      "946:\ttotal: 37.3s\tremaining: 41.5s\n",
      "947:\ttotal: 37.4s\tremaining: 41.5s\n",
      "948:\ttotal: 37.4s\tremaining: 41.4s\n",
      "949:\ttotal: 37.5s\tremaining: 41.4s\n",
      "950:\ttotal: 37.5s\tremaining: 41.4s\n",
      "951:\ttotal: 37.5s\tremaining: 41.3s\n",
      "952:\ttotal: 37.6s\tremaining: 41.3s\n",
      "953:\ttotal: 37.6s\tremaining: 41.2s\n",
      "954:\ttotal: 37.6s\tremaining: 41.2s\n",
      "955:\ttotal: 37.7s\tremaining: 41.1s\n",
      "956:\ttotal: 37.7s\tremaining: 41.1s\n",
      "957:\ttotal: 37.7s\tremaining: 41.1s\n",
      "958:\ttotal: 37.8s\tremaining: 41s\n",
      "959:\ttotal: 37.8s\tremaining: 41s\n",
      "960:\ttotal: 37.9s\tremaining: 40.9s\n",
      "961:\ttotal: 37.9s\tremaining: 40.9s\n",
      "962:\ttotal: 37.9s\tremaining: 40.8s\n",
      "963:\ttotal: 38s\tremaining: 40.8s\n",
      "964:\ttotal: 38s\tremaining: 40.8s\n",
      "965:\ttotal: 38s\tremaining: 40.7s\n",
      "966:\ttotal: 38.1s\tremaining: 40.7s\n",
      "967:\ttotal: 38.1s\tremaining: 40.7s\n",
      "968:\ttotal: 38.2s\tremaining: 40.6s\n",
      "969:\ttotal: 38.2s\tremaining: 40.6s\n",
      "970:\ttotal: 38.2s\tremaining: 40.5s\n",
      "971:\ttotal: 38.3s\tremaining: 40.5s\n",
      "972:\ttotal: 38.3s\tremaining: 40.5s\n",
      "973:\ttotal: 38.4s\tremaining: 40.4s\n",
      "974:\ttotal: 38.4s\tremaining: 40.4s\n",
      "975:\ttotal: 38.4s\tremaining: 40.3s\n",
      "976:\ttotal: 38.5s\tremaining: 40.3s\n",
      "977:\ttotal: 38.5s\tremaining: 40.3s\n",
      "978:\ttotal: 38.6s\tremaining: 40.2s\n",
      "979:\ttotal: 38.6s\tremaining: 40.2s\n",
      "980:\ttotal: 38.6s\tremaining: 40.1s\n",
      "981:\ttotal: 38.7s\tremaining: 40.1s\n",
      "982:\ttotal: 38.7s\tremaining: 40s\n",
      "983:\ttotal: 38.8s\tremaining: 40s\n",
      "984:\ttotal: 38.8s\tremaining: 40s\n",
      "985:\ttotal: 38.8s\tremaining: 39.9s\n",
      "986:\ttotal: 38.9s\tremaining: 39.9s\n",
      "987:\ttotal: 38.9s\tremaining: 39.8s\n",
      "988:\ttotal: 38.9s\tremaining: 39.8s\n",
      "989:\ttotal: 39s\tremaining: 39.8s\n",
      "990:\ttotal: 39s\tremaining: 39.7s\n",
      "991:\ttotal: 39.1s\tremaining: 39.7s\n",
      "992:\ttotal: 39.1s\tremaining: 39.7s\n",
      "993:\ttotal: 39.1s\tremaining: 39.6s\n",
      "994:\ttotal: 39.2s\tremaining: 39.6s\n",
      "995:\ttotal: 39.2s\tremaining: 39.5s\n",
      "996:\ttotal: 39.3s\tremaining: 39.5s\n",
      "997:\ttotal: 39.3s\tremaining: 39.5s\n",
      "998:\ttotal: 39.3s\tremaining: 39.4s\n",
      "999:\ttotal: 39.4s\tremaining: 39.4s\n",
      "1000:\ttotal: 39.4s\tremaining: 39.3s\n",
      "1001:\ttotal: 39.5s\tremaining: 39.3s\n",
      "1002:\ttotal: 39.5s\tremaining: 39.3s\n",
      "1003:\ttotal: 39.5s\tremaining: 39.2s\n",
      "1004:\ttotal: 39.6s\tremaining: 39.2s\n",
      "1005:\ttotal: 39.6s\tremaining: 39.1s\n",
      "1006:\ttotal: 39.7s\tremaining: 39.1s\n",
      "1007:\ttotal: 39.7s\tremaining: 39.1s\n",
      "1008:\ttotal: 39.7s\tremaining: 39s\n",
      "1009:\ttotal: 39.8s\tremaining: 39s\n",
      "1010:\ttotal: 39.8s\tremaining: 38.9s\n",
      "1011:\ttotal: 39.8s\tremaining: 38.9s\n",
      "1012:\ttotal: 39.9s\tremaining: 38.8s\n",
      "1013:\ttotal: 39.9s\tremaining: 38.8s\n",
      "1014:\ttotal: 40s\tremaining: 38.8s\n",
      "1015:\ttotal: 40s\tremaining: 38.7s\n",
      "1016:\ttotal: 40s\tremaining: 38.7s\n",
      "1017:\ttotal: 40.1s\tremaining: 38.6s\n",
      "1018:\ttotal: 40.1s\tremaining: 38.6s\n",
      "1019:\ttotal: 40.1s\tremaining: 38.6s\n",
      "1020:\ttotal: 40.2s\tremaining: 38.5s\n",
      "1021:\ttotal: 40.2s\tremaining: 38.5s\n",
      "1022:\ttotal: 40.3s\tremaining: 38.4s\n",
      "1023:\ttotal: 40.3s\tremaining: 38.4s\n",
      "1024:\ttotal: 40.3s\tremaining: 38.4s\n",
      "1025:\ttotal: 40.4s\tremaining: 38.3s\n",
      "1026:\ttotal: 40.4s\tremaining: 38.3s\n",
      "1027:\ttotal: 40.5s\tremaining: 38.2s\n",
      "1028:\ttotal: 40.5s\tremaining: 38.2s\n",
      "1029:\ttotal: 40.5s\tremaining: 38.2s\n",
      "1030:\ttotal: 40.6s\tremaining: 38.1s\n",
      "1031:\ttotal: 40.6s\tremaining: 38.1s\n",
      "1032:\ttotal: 40.7s\tremaining: 38.1s\n",
      "1033:\ttotal: 40.7s\tremaining: 38s\n",
      "1034:\ttotal: 40.7s\tremaining: 38s\n",
      "1035:\ttotal: 40.8s\tremaining: 37.9s\n",
      "1036:\ttotal: 40.8s\tremaining: 37.9s\n",
      "1037:\ttotal: 40.8s\tremaining: 37.9s\n",
      "1038:\ttotal: 40.9s\tremaining: 37.8s\n",
      "1039:\ttotal: 40.9s\tremaining: 37.8s\n",
      "1040:\ttotal: 40.9s\tremaining: 37.7s\n",
      "1041:\ttotal: 41s\tremaining: 37.7s\n",
      "1042:\ttotal: 41s\tremaining: 37.6s\n",
      "1043:\ttotal: 41.1s\tremaining: 37.6s\n",
      "1044:\ttotal: 41.1s\tremaining: 37.6s\n",
      "1045:\ttotal: 41.1s\tremaining: 37.5s\n",
      "1046:\ttotal: 41.2s\tremaining: 37.5s\n",
      "1047:\ttotal: 41.2s\tremaining: 37.5s\n",
      "1048:\ttotal: 41.3s\tremaining: 37.4s\n",
      "1049:\ttotal: 41.3s\tremaining: 37.4s\n",
      "1050:\ttotal: 41.3s\tremaining: 37.3s\n",
      "1051:\ttotal: 41.4s\tremaining: 37.3s\n",
      "1052:\ttotal: 41.4s\tremaining: 37.3s\n",
      "1053:\ttotal: 41.5s\tremaining: 37.2s\n",
      "1054:\ttotal: 41.5s\tremaining: 37.2s\n",
      "1055:\ttotal: 41.6s\tremaining: 37.1s\n",
      "1056:\ttotal: 41.6s\tremaining: 37.1s\n",
      "1057:\ttotal: 41.6s\tremaining: 37.1s\n",
      "1058:\ttotal: 41.6s\tremaining: 37s\n",
      "1059:\ttotal: 41.7s\tremaining: 37s\n",
      "1060:\ttotal: 41.7s\tremaining: 36.9s\n",
      "1061:\ttotal: 41.8s\tremaining: 36.9s\n",
      "1062:\ttotal: 41.8s\tremaining: 36.9s\n",
      "1063:\ttotal: 41.8s\tremaining: 36.8s\n",
      "1064:\ttotal: 41.9s\tremaining: 36.8s\n",
      "1065:\ttotal: 41.9s\tremaining: 36.7s\n",
      "1066:\ttotal: 42s\tremaining: 36.7s\n",
      "1067:\ttotal: 42s\tremaining: 36.6s\n",
      "1068:\ttotal: 42s\tremaining: 36.6s\n",
      "1069:\ttotal: 42.1s\tremaining: 36.6s\n",
      "1070:\ttotal: 42.1s\tremaining: 36.5s\n",
      "1071:\ttotal: 42.1s\tremaining: 36.5s\n",
      "1072:\ttotal: 42.2s\tremaining: 36.4s\n",
      "1073:\ttotal: 42.2s\tremaining: 36.4s\n",
      "1074:\ttotal: 42.3s\tremaining: 36.4s\n",
      "1075:\ttotal: 42.3s\tremaining: 36.3s\n",
      "1076:\ttotal: 42.3s\tremaining: 36.3s\n",
      "1077:\ttotal: 42.4s\tremaining: 36.3s\n",
      "1078:\ttotal: 42.4s\tremaining: 36.2s\n",
      "1079:\ttotal: 42.5s\tremaining: 36.2s\n",
      "1080:\ttotal: 42.5s\tremaining: 36.1s\n",
      "1081:\ttotal: 42.5s\tremaining: 36.1s\n",
      "1082:\ttotal: 42.6s\tremaining: 36s\n",
      "1083:\ttotal: 42.6s\tremaining: 36s\n",
      "1084:\ttotal: 42.6s\tremaining: 36s\n",
      "1085:\ttotal: 42.7s\tremaining: 35.9s\n",
      "1086:\ttotal: 42.7s\tremaining: 35.9s\n",
      "1087:\ttotal: 42.7s\tremaining: 35.8s\n",
      "1088:\ttotal: 42.8s\tremaining: 35.8s\n",
      "1089:\ttotal: 42.8s\tremaining: 35.8s\n",
      "1090:\ttotal: 42.9s\tremaining: 35.7s\n",
      "1091:\ttotal: 42.9s\tremaining: 35.7s\n",
      "1092:\ttotal: 43s\tremaining: 35.6s\n",
      "1093:\ttotal: 43s\tremaining: 35.6s\n",
      "1094:\ttotal: 43s\tremaining: 35.6s\n",
      "1095:\ttotal: 43.1s\tremaining: 35.5s\n",
      "1096:\ttotal: 43.1s\tremaining: 35.5s\n",
      "1097:\ttotal: 43.1s\tremaining: 35.4s\n",
      "1098:\ttotal: 43.2s\tremaining: 35.4s\n",
      "1099:\ttotal: 43.2s\tremaining: 35.3s\n",
      "1100:\ttotal: 43.2s\tremaining: 35.3s\n",
      "1101:\ttotal: 43.3s\tremaining: 35.3s\n",
      "1102:\ttotal: 43.3s\tremaining: 35.2s\n",
      "1103:\ttotal: 43.4s\tremaining: 35.2s\n",
      "1104:\ttotal: 43.4s\tremaining: 35.2s\n",
      "1105:\ttotal: 43.4s\tremaining: 35.1s\n",
      "1106:\ttotal: 43.5s\tremaining: 35.1s\n",
      "1107:\ttotal: 43.5s\tremaining: 35s\n",
      "1108:\ttotal: 43.6s\tremaining: 35s\n",
      "1109:\ttotal: 43.6s\tremaining: 35s\n",
      "1110:\ttotal: 43.6s\tremaining: 34.9s\n",
      "1111:\ttotal: 43.7s\tremaining: 34.9s\n",
      "1112:\ttotal: 43.7s\tremaining: 34.8s\n",
      "1113:\ttotal: 43.8s\tremaining: 34.8s\n",
      "1114:\ttotal: 43.8s\tremaining: 34.8s\n",
      "1115:\ttotal: 43.9s\tremaining: 34.7s\n",
      "1116:\ttotal: 43.9s\tremaining: 34.7s\n",
      "1117:\ttotal: 43.9s\tremaining: 34.6s\n",
      "1118:\ttotal: 44s\tremaining: 34.6s\n",
      "1119:\ttotal: 44s\tremaining: 34.6s\n",
      "1120:\ttotal: 44s\tremaining: 34.5s\n",
      "1121:\ttotal: 44.1s\tremaining: 34.5s\n",
      "1122:\ttotal: 44.1s\tremaining: 34.4s\n",
      "1123:\ttotal: 44.1s\tremaining: 34.4s\n",
      "1124:\ttotal: 44.2s\tremaining: 34.4s\n",
      "1125:\ttotal: 44.2s\tremaining: 34.3s\n",
      "1126:\ttotal: 44.3s\tremaining: 34.3s\n",
      "1127:\ttotal: 44.3s\tremaining: 34.2s\n",
      "1128:\ttotal: 44.3s\tremaining: 34.2s\n",
      "1129:\ttotal: 44.4s\tremaining: 34.2s\n",
      "1130:\ttotal: 44.4s\tremaining: 34.1s\n",
      "1131:\ttotal: 44.5s\tremaining: 34.1s\n",
      "1132:\ttotal: 44.5s\tremaining: 34.1s\n",
      "1133:\ttotal: 44.5s\tremaining: 34s\n",
      "1134:\ttotal: 44.6s\tremaining: 34s\n",
      "1135:\ttotal: 44.6s\tremaining: 33.9s\n",
      "1136:\ttotal: 44.7s\tremaining: 33.9s\n",
      "1137:\ttotal: 44.7s\tremaining: 33.9s\n",
      "1138:\ttotal: 44.7s\tremaining: 33.8s\n",
      "1139:\ttotal: 44.8s\tremaining: 33.8s\n",
      "1140:\ttotal: 44.8s\tremaining: 33.7s\n",
      "1141:\ttotal: 44.9s\tremaining: 33.7s\n",
      "1142:\ttotal: 44.9s\tremaining: 33.7s\n",
      "1143:\ttotal: 44.9s\tremaining: 33.6s\n",
      "1144:\ttotal: 45s\tremaining: 33.6s\n",
      "1145:\ttotal: 45s\tremaining: 33.5s\n",
      "1146:\ttotal: 45s\tremaining: 33.5s\n",
      "1147:\ttotal: 45.1s\tremaining: 33.5s\n",
      "1148:\ttotal: 45.1s\tremaining: 33.4s\n",
      "1149:\ttotal: 45.1s\tremaining: 33.4s\n",
      "1150:\ttotal: 45.2s\tremaining: 33.3s\n",
      "1151:\ttotal: 45.2s\tremaining: 33.3s\n",
      "1152:\ttotal: 45.3s\tremaining: 33.3s\n",
      "1153:\ttotal: 45.3s\tremaining: 33.2s\n",
      "1154:\ttotal: 45.3s\tremaining: 33.2s\n",
      "1155:\ttotal: 45.4s\tremaining: 33.1s\n",
      "1156:\ttotal: 45.4s\tremaining: 33.1s\n",
      "1157:\ttotal: 45.5s\tremaining: 33.1s\n",
      "1158:\ttotal: 45.5s\tremaining: 33s\n",
      "1159:\ttotal: 45.5s\tremaining: 33s\n",
      "1160:\ttotal: 45.6s\tremaining: 32.9s\n",
      "1161:\ttotal: 45.6s\tremaining: 32.9s\n",
      "1162:\ttotal: 45.7s\tremaining: 32.9s\n",
      "1163:\ttotal: 45.7s\tremaining: 32.8s\n",
      "1164:\ttotal: 45.7s\tremaining: 32.8s\n",
      "1165:\ttotal: 45.8s\tremaining: 32.7s\n",
      "1166:\ttotal: 45.8s\tremaining: 32.7s\n",
      "1167:\ttotal: 45.9s\tremaining: 32.7s\n",
      "1168:\ttotal: 45.9s\tremaining: 32.6s\n",
      "1169:\ttotal: 45.9s\tremaining: 32.6s\n",
      "1170:\ttotal: 46s\tremaining: 32.5s\n",
      "1171:\ttotal: 46s\tremaining: 32.5s\n",
      "1172:\ttotal: 46s\tremaining: 32.5s\n",
      "1173:\ttotal: 46.1s\tremaining: 32.4s\n",
      "1174:\ttotal: 46.1s\tremaining: 32.4s\n",
      "1175:\ttotal: 46.2s\tremaining: 32.3s\n",
      "1176:\ttotal: 46.2s\tremaining: 32.3s\n",
      "1177:\ttotal: 46.2s\tremaining: 32.3s\n",
      "1178:\ttotal: 46.3s\tremaining: 32.2s\n",
      "1179:\ttotal: 46.3s\tremaining: 32.2s\n"
     ]
    },
    {
     "name": "stdout",
     "output_type": "stream",
     "text": [
      "1180:\ttotal: 46.4s\tremaining: 32.1s\n",
      "1181:\ttotal: 46.4s\tremaining: 32.1s\n",
      "1182:\ttotal: 46.4s\tremaining: 32.1s\n",
      "1183:\ttotal: 46.5s\tremaining: 32s\n",
      "1184:\ttotal: 46.5s\tremaining: 32s\n",
      "1185:\ttotal: 46.5s\tremaining: 31.9s\n",
      "1186:\ttotal: 46.6s\tremaining: 31.9s\n",
      "1187:\ttotal: 46.6s\tremaining: 31.9s\n",
      "1188:\ttotal: 46.7s\tremaining: 31.8s\n",
      "1189:\ttotal: 46.7s\tremaining: 31.8s\n",
      "1190:\ttotal: 46.7s\tremaining: 31.7s\n",
      "1191:\ttotal: 46.8s\tremaining: 31.7s\n",
      "1192:\ttotal: 46.8s\tremaining: 31.7s\n",
      "1193:\ttotal: 46.8s\tremaining: 31.6s\n",
      "1194:\ttotal: 46.9s\tremaining: 31.6s\n",
      "1195:\ttotal: 46.9s\tremaining: 31.5s\n",
      "1196:\ttotal: 46.9s\tremaining: 31.5s\n",
      "1197:\ttotal: 47s\tremaining: 31.5s\n",
      "1198:\ttotal: 47s\tremaining: 31.4s\n",
      "1199:\ttotal: 47.1s\tremaining: 31.4s\n",
      "1200:\ttotal: 47.1s\tremaining: 31.3s\n",
      "1201:\ttotal: 47.1s\tremaining: 31.3s\n",
      "1202:\ttotal: 47.2s\tremaining: 31.2s\n",
      "1203:\ttotal: 47.2s\tremaining: 31.2s\n",
      "1204:\ttotal: 47.2s\tremaining: 31.2s\n",
      "1205:\ttotal: 47.3s\tremaining: 31.1s\n",
      "1206:\ttotal: 47.3s\tremaining: 31.1s\n",
      "1207:\ttotal: 47.4s\tremaining: 31s\n",
      "1208:\ttotal: 47.4s\tremaining: 31s\n",
      "1209:\ttotal: 47.4s\tremaining: 31s\n",
      "1210:\ttotal: 47.5s\tremaining: 30.9s\n",
      "1211:\ttotal: 47.5s\tremaining: 30.9s\n",
      "1212:\ttotal: 47.6s\tremaining: 30.9s\n",
      "1213:\ttotal: 47.6s\tremaining: 30.8s\n",
      "1214:\ttotal: 47.6s\tremaining: 30.8s\n",
      "1215:\ttotal: 47.7s\tremaining: 30.7s\n",
      "1216:\ttotal: 47.7s\tremaining: 30.7s\n",
      "1217:\ttotal: 47.8s\tremaining: 30.7s\n",
      "1218:\ttotal: 47.8s\tremaining: 30.6s\n",
      "1219:\ttotal: 47.8s\tremaining: 30.6s\n",
      "1220:\ttotal: 47.9s\tremaining: 30.5s\n",
      "1221:\ttotal: 47.9s\tremaining: 30.5s\n",
      "1222:\ttotal: 47.9s\tremaining: 30.5s\n",
      "1223:\ttotal: 48s\tremaining: 30.4s\n",
      "1224:\ttotal: 48s\tremaining: 30.4s\n",
      "1225:\ttotal: 48.1s\tremaining: 30.3s\n",
      "1226:\ttotal: 48.1s\tremaining: 30.3s\n",
      "1227:\ttotal: 48.1s\tremaining: 30.3s\n",
      "1228:\ttotal: 48.2s\tremaining: 30.2s\n",
      "1229:\ttotal: 48.2s\tremaining: 30.2s\n",
      "1230:\ttotal: 48.3s\tremaining: 30.1s\n",
      "1231:\ttotal: 48.3s\tremaining: 30.1s\n",
      "1232:\ttotal: 48.3s\tremaining: 30.1s\n",
      "1233:\ttotal: 48.4s\tremaining: 30s\n",
      "1234:\ttotal: 48.4s\tremaining: 30s\n",
      "1235:\ttotal: 48.4s\tremaining: 29.9s\n",
      "1236:\ttotal: 48.5s\tremaining: 29.9s\n",
      "1237:\ttotal: 48.5s\tremaining: 29.9s\n",
      "1238:\ttotal: 48.6s\tremaining: 29.8s\n",
      "1239:\ttotal: 48.6s\tremaining: 29.8s\n",
      "1240:\ttotal: 48.6s\tremaining: 29.7s\n",
      "1241:\ttotal: 48.7s\tremaining: 29.7s\n",
      "1242:\ttotal: 48.7s\tremaining: 29.7s\n",
      "1243:\ttotal: 48.7s\tremaining: 29.6s\n",
      "1244:\ttotal: 48.8s\tremaining: 29.6s\n",
      "1245:\ttotal: 48.8s\tremaining: 29.5s\n",
      "1246:\ttotal: 48.8s\tremaining: 29.5s\n",
      "1247:\ttotal: 48.9s\tremaining: 29.5s\n",
      "1248:\ttotal: 48.9s\tremaining: 29.4s\n",
      "1249:\ttotal: 49s\tremaining: 29.4s\n",
      "1250:\ttotal: 49s\tremaining: 29.3s\n",
      "1251:\ttotal: 49s\tremaining: 29.3s\n",
      "1252:\ttotal: 49.1s\tremaining: 29.2s\n",
      "1253:\ttotal: 49.1s\tremaining: 29.2s\n",
      "1254:\ttotal: 49.1s\tremaining: 29.2s\n",
      "1255:\ttotal: 49.2s\tremaining: 29.1s\n",
      "1256:\ttotal: 49.2s\tremaining: 29.1s\n",
      "1257:\ttotal: 49.3s\tremaining: 29.1s\n",
      "1258:\ttotal: 49.3s\tremaining: 29s\n",
      "1259:\ttotal: 49.3s\tremaining: 29s\n",
      "1260:\ttotal: 49.4s\tremaining: 28.9s\n",
      "1261:\ttotal: 49.4s\tremaining: 28.9s\n",
      "1262:\ttotal: 49.4s\tremaining: 28.9s\n",
      "1263:\ttotal: 49.5s\tremaining: 28.8s\n",
      "1264:\ttotal: 49.5s\tremaining: 28.8s\n",
      "1265:\ttotal: 49.6s\tremaining: 28.7s\n",
      "1266:\ttotal: 49.6s\tremaining: 28.7s\n",
      "1267:\ttotal: 49.6s\tremaining: 28.7s\n",
      "1268:\ttotal: 49.7s\tremaining: 28.6s\n",
      "1269:\ttotal: 49.7s\tremaining: 28.6s\n",
      "1270:\ttotal: 49.8s\tremaining: 28.5s\n",
      "1271:\ttotal: 49.8s\tremaining: 28.5s\n",
      "1272:\ttotal: 49.8s\tremaining: 28.5s\n",
      "1273:\ttotal: 49.9s\tremaining: 28.4s\n",
      "1274:\ttotal: 49.9s\tremaining: 28.4s\n",
      "1275:\ttotal: 49.9s\tremaining: 28.3s\n",
      "1276:\ttotal: 50s\tremaining: 28.3s\n",
      "1277:\ttotal: 50s\tremaining: 28.3s\n",
      "1278:\ttotal: 50s\tremaining: 28.2s\n",
      "1279:\ttotal: 50.1s\tremaining: 28.2s\n",
      "1280:\ttotal: 50.1s\tremaining: 28.1s\n",
      "1281:\ttotal: 50.2s\tremaining: 28.1s\n",
      "1282:\ttotal: 50.2s\tremaining: 28.1s\n",
      "1283:\ttotal: 50.2s\tremaining: 28s\n",
      "1284:\ttotal: 50.3s\tremaining: 28s\n",
      "1285:\ttotal: 50.3s\tremaining: 27.9s\n",
      "1286:\ttotal: 50.4s\tremaining: 27.9s\n",
      "1287:\ttotal: 50.4s\tremaining: 27.9s\n",
      "1288:\ttotal: 50.4s\tremaining: 27.8s\n",
      "1289:\ttotal: 50.5s\tremaining: 27.8s\n",
      "1290:\ttotal: 50.5s\tremaining: 27.7s\n",
      "1291:\ttotal: 50.5s\tremaining: 27.7s\n",
      "1292:\ttotal: 50.6s\tremaining: 27.7s\n",
      "1293:\ttotal: 50.6s\tremaining: 27.6s\n",
      "1294:\ttotal: 50.6s\tremaining: 27.6s\n",
      "1295:\ttotal: 50.7s\tremaining: 27.5s\n",
      "1296:\ttotal: 50.7s\tremaining: 27.5s\n",
      "1297:\ttotal: 50.8s\tremaining: 27.5s\n",
      "1298:\ttotal: 50.8s\tremaining: 27.4s\n",
      "1299:\ttotal: 50.8s\tremaining: 27.4s\n",
      "1300:\ttotal: 50.9s\tremaining: 27.3s\n",
      "1301:\ttotal: 50.9s\tremaining: 27.3s\n",
      "1302:\ttotal: 51s\tremaining: 27.3s\n",
      "1303:\ttotal: 51s\tremaining: 27.2s\n",
      "1304:\ttotal: 51s\tremaining: 27.2s\n",
      "1305:\ttotal: 51.1s\tremaining: 27.1s\n",
      "1306:\ttotal: 51.1s\tremaining: 27.1s\n",
      "1307:\ttotal: 51.1s\tremaining: 27.1s\n",
      "1308:\ttotal: 51.2s\tremaining: 27s\n",
      "1309:\ttotal: 51.2s\tremaining: 27s\n",
      "1310:\ttotal: 51.3s\tremaining: 26.9s\n",
      "1311:\ttotal: 51.3s\tremaining: 26.9s\n",
      "1312:\ttotal: 51.3s\tremaining: 26.9s\n",
      "1313:\ttotal: 51.4s\tremaining: 26.8s\n",
      "1314:\ttotal: 51.4s\tremaining: 26.8s\n",
      "1315:\ttotal: 51.5s\tremaining: 26.7s\n",
      "1316:\ttotal: 51.5s\tremaining: 26.7s\n",
      "1317:\ttotal: 51.5s\tremaining: 26.7s\n",
      "1318:\ttotal: 51.6s\tremaining: 26.6s\n",
      "1319:\ttotal: 51.6s\tremaining: 26.6s\n",
      "1320:\ttotal: 51.6s\tremaining: 26.5s\n",
      "1321:\ttotal: 51.7s\tremaining: 26.5s\n",
      "1322:\ttotal: 51.7s\tremaining: 26.5s\n",
      "1323:\ttotal: 51.8s\tremaining: 26.4s\n",
      "1324:\ttotal: 51.9s\tremaining: 26.4s\n",
      "1325:\ttotal: 51.9s\tremaining: 26.4s\n",
      "1326:\ttotal: 51.9s\tremaining: 26.3s\n",
      "1327:\ttotal: 52s\tremaining: 26.3s\n",
      "1328:\ttotal: 52s\tremaining: 26.3s\n",
      "1329:\ttotal: 52s\tremaining: 26.2s\n",
      "1330:\ttotal: 52.1s\tremaining: 26.2s\n",
      "1331:\ttotal: 52.1s\tremaining: 26.1s\n",
      "1332:\ttotal: 52.1s\tremaining: 26.1s\n",
      "1333:\ttotal: 52.2s\tremaining: 26.1s\n",
      "1334:\ttotal: 52.2s\tremaining: 26s\n",
      "1335:\ttotal: 52.3s\tremaining: 26s\n",
      "1336:\ttotal: 52.3s\tremaining: 25.9s\n",
      "1337:\ttotal: 52.3s\tremaining: 25.9s\n",
      "1338:\ttotal: 52.4s\tremaining: 25.9s\n",
      "1339:\ttotal: 52.4s\tremaining: 25.8s\n",
      "1340:\ttotal: 52.5s\tremaining: 25.8s\n",
      "1341:\ttotal: 52.5s\tremaining: 25.7s\n",
      "1342:\ttotal: 52.5s\tremaining: 25.7s\n",
      "1343:\ttotal: 52.6s\tremaining: 25.7s\n",
      "1344:\ttotal: 52.6s\tremaining: 25.6s\n",
      "1345:\ttotal: 52.6s\tremaining: 25.6s\n",
      "1346:\ttotal: 52.7s\tremaining: 25.5s\n",
      "1347:\ttotal: 52.7s\tremaining: 25.5s\n",
      "1348:\ttotal: 52.8s\tremaining: 25.5s\n",
      "1349:\ttotal: 52.8s\tremaining: 25.4s\n",
      "1350:\ttotal: 52.8s\tremaining: 25.4s\n",
      "1351:\ttotal: 52.9s\tremaining: 25.3s\n",
      "1352:\ttotal: 52.9s\tremaining: 25.3s\n",
      "1353:\ttotal: 53s\tremaining: 25.3s\n",
      "1354:\ttotal: 53s\tremaining: 25.2s\n",
      "1355:\ttotal: 53s\tremaining: 25.2s\n",
      "1356:\ttotal: 53.1s\tremaining: 25.1s\n",
      "1357:\ttotal: 53.1s\tremaining: 25.1s\n",
      "1358:\ttotal: 53.2s\tremaining: 25.1s\n",
      "1359:\ttotal: 53.2s\tremaining: 25s\n",
      "1360:\ttotal: 53.2s\tremaining: 25s\n",
      "1361:\ttotal: 53.3s\tremaining: 25s\n",
      "1362:\ttotal: 53.3s\tremaining: 24.9s\n",
      "1363:\ttotal: 53.4s\tremaining: 24.9s\n",
      "1364:\ttotal: 53.4s\tremaining: 24.8s\n",
      "1365:\ttotal: 53.4s\tremaining: 24.8s\n",
      "1366:\ttotal: 53.5s\tremaining: 24.8s\n",
      "1367:\ttotal: 53.5s\tremaining: 24.7s\n",
      "1368:\ttotal: 53.6s\tremaining: 24.7s\n",
      "1369:\ttotal: 53.6s\tremaining: 24.6s\n",
      "1370:\ttotal: 53.6s\tremaining: 24.6s\n",
      "1371:\ttotal: 53.7s\tremaining: 24.6s\n",
      "1372:\ttotal: 53.7s\tremaining: 24.5s\n",
      "1373:\ttotal: 53.7s\tremaining: 24.5s\n",
      "1374:\ttotal: 53.8s\tremaining: 24.4s\n",
      "1375:\ttotal: 53.8s\tremaining: 24.4s\n",
      "1376:\ttotal: 53.9s\tremaining: 24.4s\n",
      "1377:\ttotal: 53.9s\tremaining: 24.3s\n",
      "1378:\ttotal: 53.9s\tremaining: 24.3s\n",
      "1379:\ttotal: 54s\tremaining: 24.3s\n",
      "1380:\ttotal: 54s\tremaining: 24.2s\n",
      "1381:\ttotal: 54.1s\tremaining: 24.2s\n",
      "1382:\ttotal: 54.1s\tremaining: 24.1s\n",
      "1383:\ttotal: 54.1s\tremaining: 24.1s\n",
      "1384:\ttotal: 54.2s\tremaining: 24.1s\n",
      "1385:\ttotal: 54.2s\tremaining: 24s\n",
      "1386:\ttotal: 54.3s\tremaining: 24s\n",
      "1387:\ttotal: 54.3s\tremaining: 23.9s\n",
      "1388:\ttotal: 54.4s\tremaining: 23.9s\n",
      "1389:\ttotal: 54.4s\tremaining: 23.9s\n",
      "1390:\ttotal: 54.4s\tremaining: 23.8s\n",
      "1391:\ttotal: 54.5s\tremaining: 23.8s\n",
      "1392:\ttotal: 54.5s\tremaining: 23.7s\n",
      "1393:\ttotal: 54.6s\tremaining: 23.7s\n",
      "1394:\ttotal: 54.6s\tremaining: 23.7s\n",
      "1395:\ttotal: 54.6s\tremaining: 23.6s\n",
      "1396:\ttotal: 54.7s\tremaining: 23.6s\n",
      "1397:\ttotal: 54.7s\tremaining: 23.6s\n",
      "1398:\ttotal: 54.8s\tremaining: 23.5s\n",
      "1399:\ttotal: 54.8s\tremaining: 23.5s\n",
      "1400:\ttotal: 54.8s\tremaining: 23.4s\n",
      "1401:\ttotal: 54.9s\tremaining: 23.4s\n",
      "1402:\ttotal: 54.9s\tremaining: 23.4s\n",
      "1403:\ttotal: 55s\tremaining: 23.3s\n",
      "1404:\ttotal: 55s\tremaining: 23.3s\n",
      "1405:\ttotal: 55.1s\tremaining: 23.3s\n",
      "1406:\ttotal: 55.1s\tremaining: 23.2s\n",
      "1407:\ttotal: 55.1s\tremaining: 23.2s\n",
      "1408:\ttotal: 55.2s\tremaining: 23.1s\n",
      "1409:\ttotal: 55.2s\tremaining: 23.1s\n",
      "1410:\ttotal: 55.3s\tremaining: 23.1s\n",
      "1411:\ttotal: 55.3s\tremaining: 23s\n",
      "1412:\ttotal: 55.3s\tremaining: 23s\n",
      "1413:\ttotal: 55.4s\tremaining: 22.9s\n"
     ]
    },
    {
     "name": "stdout",
     "output_type": "stream",
     "text": [
      "1414:\ttotal: 55.4s\tremaining: 22.9s\n",
      "1415:\ttotal: 55.5s\tremaining: 22.9s\n",
      "1416:\ttotal: 55.5s\tremaining: 22.8s\n",
      "1417:\ttotal: 55.5s\tremaining: 22.8s\n",
      "1418:\ttotal: 55.6s\tremaining: 22.7s\n",
      "1419:\ttotal: 55.6s\tremaining: 22.7s\n",
      "1420:\ttotal: 55.6s\tremaining: 22.7s\n",
      "1421:\ttotal: 55.7s\tremaining: 22.6s\n",
      "1422:\ttotal: 55.7s\tremaining: 22.6s\n",
      "1423:\ttotal: 55.7s\tremaining: 22.6s\n",
      "1424:\ttotal: 55.8s\tremaining: 22.5s\n",
      "1425:\ttotal: 55.8s\tremaining: 22.5s\n",
      "1426:\ttotal: 55.9s\tremaining: 22.4s\n",
      "1427:\ttotal: 55.9s\tremaining: 22.4s\n",
      "1428:\ttotal: 55.9s\tremaining: 22.4s\n",
      "1429:\ttotal: 56s\tremaining: 22.3s\n",
      "1430:\ttotal: 56s\tremaining: 22.3s\n",
      "1431:\ttotal: 56s\tremaining: 22.2s\n",
      "1432:\ttotal: 56.1s\tremaining: 22.2s\n",
      "1433:\ttotal: 56.1s\tremaining: 22.2s\n",
      "1434:\ttotal: 56.2s\tremaining: 22.1s\n",
      "1435:\ttotal: 56.2s\tremaining: 22.1s\n",
      "1436:\ttotal: 56.2s\tremaining: 22s\n",
      "1437:\ttotal: 56.3s\tremaining: 22s\n",
      "1438:\ttotal: 56.3s\tremaining: 22s\n",
      "1439:\ttotal: 56.4s\tremaining: 21.9s\n",
      "1440:\ttotal: 56.4s\tremaining: 21.9s\n",
      "1441:\ttotal: 56.4s\tremaining: 21.8s\n",
      "1442:\ttotal: 56.5s\tremaining: 21.8s\n",
      "1443:\ttotal: 56.5s\tremaining: 21.8s\n",
      "1444:\ttotal: 56.6s\tremaining: 21.7s\n",
      "1445:\ttotal: 56.6s\tremaining: 21.7s\n",
      "1446:\ttotal: 56.6s\tremaining: 21.6s\n",
      "1447:\ttotal: 56.7s\tremaining: 21.6s\n",
      "1448:\ttotal: 56.7s\tremaining: 21.6s\n",
      "1449:\ttotal: 56.8s\tremaining: 21.5s\n",
      "1450:\ttotal: 56.8s\tremaining: 21.5s\n",
      "1451:\ttotal: 56.8s\tremaining: 21.4s\n",
      "1452:\ttotal: 56.9s\tremaining: 21.4s\n",
      "1453:\ttotal: 56.9s\tremaining: 21.4s\n",
      "1454:\ttotal: 56.9s\tremaining: 21.3s\n",
      "1455:\ttotal: 57s\tremaining: 21.3s\n",
      "1456:\ttotal: 57s\tremaining: 21.3s\n",
      "1457:\ttotal: 57.1s\tremaining: 21.2s\n",
      "1458:\ttotal: 57.1s\tremaining: 21.2s\n",
      "1459:\ttotal: 57.1s\tremaining: 21.1s\n",
      "1460:\ttotal: 57.2s\tremaining: 21.1s\n",
      "1461:\ttotal: 57.2s\tremaining: 21.1s\n",
      "1462:\ttotal: 57.2s\tremaining: 21s\n",
      "1463:\ttotal: 57.3s\tremaining: 21s\n",
      "1464:\ttotal: 57.3s\tremaining: 20.9s\n",
      "1465:\ttotal: 57.4s\tremaining: 20.9s\n",
      "1466:\ttotal: 57.4s\tremaining: 20.9s\n",
      "1467:\ttotal: 57.5s\tremaining: 20.8s\n",
      "1468:\ttotal: 57.5s\tremaining: 20.8s\n",
      "1469:\ttotal: 57.6s\tremaining: 20.8s\n",
      "1470:\ttotal: 57.6s\tremaining: 20.7s\n",
      "1471:\ttotal: 57.6s\tremaining: 20.7s\n",
      "1472:\ttotal: 57.7s\tremaining: 20.6s\n",
      "1473:\ttotal: 57.7s\tremaining: 20.6s\n",
      "1474:\ttotal: 57.7s\tremaining: 20.6s\n",
      "1475:\ttotal: 57.8s\tremaining: 20.5s\n",
      "1476:\ttotal: 57.8s\tremaining: 20.5s\n",
      "1477:\ttotal: 57.8s\tremaining: 20.4s\n",
      "1478:\ttotal: 57.9s\tremaining: 20.4s\n",
      "1479:\ttotal: 57.9s\tremaining: 20.4s\n",
      "1480:\ttotal: 58s\tremaining: 20.3s\n",
      "1481:\ttotal: 58s\tremaining: 20.3s\n",
      "1482:\ttotal: 58.1s\tremaining: 20.2s\n",
      "1483:\ttotal: 58.1s\tremaining: 20.2s\n",
      "1484:\ttotal: 58.1s\tremaining: 20.2s\n",
      "1485:\ttotal: 58.2s\tremaining: 20.1s\n",
      "1486:\ttotal: 58.2s\tremaining: 20.1s\n",
      "1487:\ttotal: 58.3s\tremaining: 20s\n",
      "1488:\ttotal: 58.3s\tremaining: 20s\n",
      "1489:\ttotal: 58.3s\tremaining: 20s\n",
      "1490:\ttotal: 58.4s\tremaining: 19.9s\n",
      "1491:\ttotal: 58.4s\tremaining: 19.9s\n",
      "1492:\ttotal: 58.4s\tremaining: 19.8s\n",
      "1493:\ttotal: 58.5s\tremaining: 19.8s\n",
      "1494:\ttotal: 58.5s\tremaining: 19.8s\n",
      "1495:\ttotal: 58.5s\tremaining: 19.7s\n",
      "1496:\ttotal: 58.6s\tremaining: 19.7s\n",
      "1497:\ttotal: 58.6s\tremaining: 19.6s\n",
      "1498:\ttotal: 58.7s\tremaining: 19.6s\n",
      "1499:\ttotal: 58.7s\tremaining: 19.6s\n",
      "1500:\ttotal: 58.7s\tremaining: 19.5s\n",
      "1501:\ttotal: 58.8s\tremaining: 19.5s\n",
      "1502:\ttotal: 58.8s\tremaining: 19.4s\n",
      "1503:\ttotal: 58.8s\tremaining: 19.4s\n",
      "1504:\ttotal: 58.9s\tremaining: 19.4s\n",
      "1505:\ttotal: 58.9s\tremaining: 19.3s\n",
      "1506:\ttotal: 59s\tremaining: 19.3s\n",
      "1507:\ttotal: 59s\tremaining: 19.2s\n",
      "1508:\ttotal: 59s\tremaining: 19.2s\n",
      "1509:\ttotal: 59.1s\tremaining: 19.2s\n",
      "1510:\ttotal: 59.1s\tremaining: 19.1s\n",
      "1511:\ttotal: 59.2s\tremaining: 19.1s\n",
      "1512:\ttotal: 59.2s\tremaining: 19.1s\n",
      "1513:\ttotal: 59.2s\tremaining: 19s\n",
      "1514:\ttotal: 59.3s\tremaining: 19s\n",
      "1515:\ttotal: 59.3s\tremaining: 18.9s\n",
      "1516:\ttotal: 59.4s\tremaining: 18.9s\n",
      "1517:\ttotal: 59.4s\tremaining: 18.9s\n",
      "1518:\ttotal: 59.4s\tremaining: 18.8s\n",
      "1519:\ttotal: 59.5s\tremaining: 18.8s\n",
      "1520:\ttotal: 59.5s\tremaining: 18.7s\n",
      "1521:\ttotal: 59.5s\tremaining: 18.7s\n",
      "1522:\ttotal: 59.6s\tremaining: 18.7s\n",
      "1523:\ttotal: 59.6s\tremaining: 18.6s\n",
      "1524:\ttotal: 59.7s\tremaining: 18.6s\n",
      "1525:\ttotal: 59.7s\tremaining: 18.5s\n",
      "1526:\ttotal: 59.7s\tremaining: 18.5s\n",
      "1527:\ttotal: 59.8s\tremaining: 18.5s\n",
      "1528:\ttotal: 59.8s\tremaining: 18.4s\n",
      "1529:\ttotal: 59.9s\tremaining: 18.4s\n",
      "1530:\ttotal: 59.9s\tremaining: 18.3s\n",
      "1531:\ttotal: 59.9s\tremaining: 18.3s\n",
      "1532:\ttotal: 60s\tremaining: 18.3s\n",
      "1533:\ttotal: 1m\tremaining: 18.2s\n",
      "1534:\ttotal: 1m\tremaining: 18.2s\n",
      "1535:\ttotal: 1m\tremaining: 18.2s\n",
      "1536:\ttotal: 1m\tremaining: 18.1s\n",
      "1537:\ttotal: 1m\tremaining: 18.1s\n",
      "1538:\ttotal: 1m\tremaining: 18s\n",
      "1539:\ttotal: 1m\tremaining: 18s\n",
      "1540:\ttotal: 1m\tremaining: 18s\n",
      "1541:\ttotal: 1m\tremaining: 17.9s\n",
      "1542:\ttotal: 1m\tremaining: 17.9s\n",
      "1543:\ttotal: 1m\tremaining: 17.8s\n",
      "1544:\ttotal: 1m\tremaining: 17.8s\n",
      "1545:\ttotal: 1m\tremaining: 17.8s\n",
      "1546:\ttotal: 1m\tremaining: 17.7s\n",
      "1547:\ttotal: 1m\tremaining: 17.7s\n",
      "1548:\ttotal: 1m\tremaining: 17.6s\n",
      "1549:\ttotal: 1m\tremaining: 17.6s\n",
      "1550:\ttotal: 1m\tremaining: 17.6s\n",
      "1551:\ttotal: 1m\tremaining: 17.5s\n",
      "1552:\ttotal: 1m\tremaining: 17.5s\n",
      "1553:\ttotal: 1m\tremaining: 17.4s\n",
      "1554:\ttotal: 1m\tremaining: 17.4s\n",
      "1555:\ttotal: 1m\tremaining: 17.4s\n",
      "1556:\ttotal: 1m\tremaining: 17.3s\n",
      "1557:\ttotal: 1m\tremaining: 17.3s\n",
      "1558:\ttotal: 1m\tremaining: 17.3s\n",
      "1559:\ttotal: 1m 1s\tremaining: 17.2s\n",
      "1560:\ttotal: 1m 1s\tremaining: 17.2s\n",
      "1561:\ttotal: 1m 1s\tremaining: 17.1s\n",
      "1562:\ttotal: 1m 1s\tremaining: 17.1s\n",
      "1563:\ttotal: 1m 1s\tremaining: 17.1s\n",
      "1564:\ttotal: 1m 1s\tremaining: 17s\n",
      "1565:\ttotal: 1m 1s\tremaining: 17s\n",
      "1566:\ttotal: 1m 1s\tremaining: 16.9s\n",
      "1567:\ttotal: 1m 1s\tremaining: 16.9s\n",
      "1568:\ttotal: 1m 1s\tremaining: 16.9s\n",
      "1569:\ttotal: 1m 1s\tremaining: 16.8s\n",
      "1570:\ttotal: 1m 1s\tremaining: 16.8s\n",
      "1571:\ttotal: 1m 1s\tremaining: 16.7s\n",
      "1572:\ttotal: 1m 1s\tremaining: 16.7s\n",
      "1573:\ttotal: 1m 1s\tremaining: 16.7s\n",
      "1574:\ttotal: 1m 1s\tremaining: 16.6s\n",
      "1575:\ttotal: 1m 1s\tremaining: 16.6s\n",
      "1576:\ttotal: 1m 1s\tremaining: 16.5s\n",
      "1577:\ttotal: 1m 1s\tremaining: 16.5s\n",
      "1578:\ttotal: 1m 1s\tremaining: 16.5s\n",
      "1579:\ttotal: 1m 1s\tremaining: 16.4s\n",
      "1580:\ttotal: 1m 1s\tremaining: 16.4s\n",
      "1581:\ttotal: 1m 1s\tremaining: 16.3s\n",
      "1582:\ttotal: 1m 1s\tremaining: 16.3s\n",
      "1583:\ttotal: 1m 1s\tremaining: 16.3s\n",
      "1584:\ttotal: 1m 1s\tremaining: 16.2s\n",
      "1585:\ttotal: 1m 2s\tremaining: 16.2s\n",
      "1586:\ttotal: 1m 2s\tremaining: 16.1s\n",
      "1587:\ttotal: 1m 2s\tremaining: 16.1s\n",
      "1588:\ttotal: 1m 2s\tremaining: 16.1s\n",
      "1589:\ttotal: 1m 2s\tremaining: 16s\n",
      "1590:\ttotal: 1m 2s\tremaining: 16s\n",
      "1591:\ttotal: 1m 2s\tremaining: 16s\n",
      "1592:\ttotal: 1m 2s\tremaining: 15.9s\n",
      "1593:\ttotal: 1m 2s\tremaining: 15.9s\n",
      "1594:\ttotal: 1m 2s\tremaining: 15.8s\n",
      "1595:\ttotal: 1m 2s\tremaining: 15.8s\n",
      "1596:\ttotal: 1m 2s\tremaining: 15.8s\n",
      "1597:\ttotal: 1m 2s\tremaining: 15.7s\n",
      "1598:\ttotal: 1m 2s\tremaining: 15.7s\n",
      "1599:\ttotal: 1m 2s\tremaining: 15.6s\n",
      "1600:\ttotal: 1m 2s\tremaining: 15.6s\n",
      "1601:\ttotal: 1m 2s\tremaining: 15.6s\n",
      "1602:\ttotal: 1m 2s\tremaining: 15.5s\n",
      "1603:\ttotal: 1m 2s\tremaining: 15.5s\n",
      "1604:\ttotal: 1m 2s\tremaining: 15.4s\n",
      "1605:\ttotal: 1m 2s\tremaining: 15.4s\n",
      "1606:\ttotal: 1m 2s\tremaining: 15.4s\n",
      "1607:\ttotal: 1m 2s\tremaining: 15.3s\n",
      "1608:\ttotal: 1m 2s\tremaining: 15.3s\n",
      "1609:\ttotal: 1m 2s\tremaining: 15.2s\n",
      "1610:\ttotal: 1m 2s\tremaining: 15.2s\n",
      "1611:\ttotal: 1m 3s\tremaining: 15.2s\n",
      "1612:\ttotal: 1m 3s\tremaining: 15.1s\n",
      "1613:\ttotal: 1m 3s\tremaining: 15.1s\n",
      "1614:\ttotal: 1m 3s\tremaining: 15.1s\n",
      "1615:\ttotal: 1m 3s\tremaining: 15s\n",
      "1616:\ttotal: 1m 3s\tremaining: 15s\n",
      "1617:\ttotal: 1m 3s\tremaining: 14.9s\n",
      "1618:\ttotal: 1m 3s\tremaining: 14.9s\n",
      "1619:\ttotal: 1m 3s\tremaining: 14.9s\n",
      "1620:\ttotal: 1m 3s\tremaining: 14.8s\n",
      "1621:\ttotal: 1m 3s\tremaining: 14.8s\n",
      "1622:\ttotal: 1m 3s\tremaining: 14.7s\n",
      "1623:\ttotal: 1m 3s\tremaining: 14.7s\n",
      "1624:\ttotal: 1m 3s\tremaining: 14.7s\n",
      "1625:\ttotal: 1m 3s\tremaining: 14.6s\n",
      "1626:\ttotal: 1m 3s\tremaining: 14.6s\n",
      "1627:\ttotal: 1m 3s\tremaining: 14.5s\n",
      "1628:\ttotal: 1m 3s\tremaining: 14.5s\n",
      "1629:\ttotal: 1m 3s\tremaining: 14.5s\n",
      "1630:\ttotal: 1m 3s\tremaining: 14.4s\n",
      "1631:\ttotal: 1m 3s\tremaining: 14.4s\n",
      "1632:\ttotal: 1m 3s\tremaining: 14.3s\n",
      "1633:\ttotal: 1m 3s\tremaining: 14.3s\n",
      "1634:\ttotal: 1m 3s\tremaining: 14.3s\n",
      "1635:\ttotal: 1m 3s\tremaining: 14.2s\n",
      "1636:\ttotal: 1m 3s\tremaining: 14.2s\n",
      "1637:\ttotal: 1m 4s\tremaining: 14.1s\n",
      "1638:\ttotal: 1m 4s\tremaining: 14.1s\n",
      "1639:\ttotal: 1m 4s\tremaining: 14.1s\n",
      "1640:\ttotal: 1m 4s\tremaining: 14s\n",
      "1641:\ttotal: 1m 4s\tremaining: 14s\n",
      "1642:\ttotal: 1m 4s\tremaining: 14s\n",
      "1643:\ttotal: 1m 4s\tremaining: 13.9s\n",
      "1644:\ttotal: 1m 4s\tremaining: 13.9s\n",
      "1645:\ttotal: 1m 4s\tremaining: 13.8s\n",
      "1646:\ttotal: 1m 4s\tremaining: 13.8s\n",
      "1647:\ttotal: 1m 4s\tremaining: 13.8s\n",
      "1648:\ttotal: 1m 4s\tremaining: 13.7s\n",
      "1649:\ttotal: 1m 4s\tremaining: 13.7s\n",
      "1650:\ttotal: 1m 4s\tremaining: 13.6s\n"
     ]
    },
    {
     "name": "stdout",
     "output_type": "stream",
     "text": [
      "1651:\ttotal: 1m 4s\tremaining: 13.6s\n",
      "1652:\ttotal: 1m 4s\tremaining: 13.6s\n",
      "1653:\ttotal: 1m 4s\tremaining: 13.5s\n",
      "1654:\ttotal: 1m 4s\tremaining: 13.5s\n",
      "1655:\ttotal: 1m 4s\tremaining: 13.4s\n",
      "1656:\ttotal: 1m 4s\tremaining: 13.4s\n",
      "1657:\ttotal: 1m 4s\tremaining: 13.4s\n",
      "1658:\ttotal: 1m 4s\tremaining: 13.3s\n",
      "1659:\ttotal: 1m 4s\tremaining: 13.3s\n",
      "1660:\ttotal: 1m 4s\tremaining: 13.2s\n",
      "1661:\ttotal: 1m 4s\tremaining: 13.2s\n",
      "1662:\ttotal: 1m 4s\tremaining: 13.2s\n",
      "1663:\ttotal: 1m 5s\tremaining: 13.1s\n",
      "1664:\ttotal: 1m 5s\tremaining: 13.1s\n",
      "1665:\ttotal: 1m 5s\tremaining: 13.1s\n",
      "1666:\ttotal: 1m 5s\tremaining: 13s\n",
      "1667:\ttotal: 1m 5s\tremaining: 13s\n",
      "1668:\ttotal: 1m 5s\tremaining: 12.9s\n",
      "1669:\ttotal: 1m 5s\tremaining: 12.9s\n",
      "1670:\ttotal: 1m 5s\tremaining: 12.9s\n",
      "1671:\ttotal: 1m 5s\tremaining: 12.8s\n",
      "1672:\ttotal: 1m 5s\tremaining: 12.8s\n",
      "1673:\ttotal: 1m 5s\tremaining: 12.7s\n",
      "1674:\ttotal: 1m 5s\tremaining: 12.7s\n",
      "1675:\ttotal: 1m 5s\tremaining: 12.7s\n",
      "1676:\ttotal: 1m 5s\tremaining: 12.6s\n",
      "1677:\ttotal: 1m 5s\tremaining: 12.6s\n",
      "1678:\ttotal: 1m 5s\tremaining: 12.5s\n",
      "1679:\ttotal: 1m 5s\tremaining: 12.5s\n",
      "1680:\ttotal: 1m 5s\tremaining: 12.5s\n",
      "1681:\ttotal: 1m 5s\tremaining: 12.4s\n",
      "1682:\ttotal: 1m 5s\tremaining: 12.4s\n",
      "1683:\ttotal: 1m 5s\tremaining: 12.3s\n",
      "1684:\ttotal: 1m 5s\tremaining: 12.3s\n",
      "1685:\ttotal: 1m 5s\tremaining: 12.3s\n",
      "1686:\ttotal: 1m 5s\tremaining: 12.2s\n",
      "1687:\ttotal: 1m 5s\tremaining: 12.2s\n",
      "1688:\ttotal: 1m 5s\tremaining: 12.1s\n",
      "1689:\ttotal: 1m 5s\tremaining: 12.1s\n",
      "1690:\ttotal: 1m 6s\tremaining: 12.1s\n",
      "1691:\ttotal: 1m 6s\tremaining: 12s\n",
      "1692:\ttotal: 1m 6s\tremaining: 12s\n",
      "1693:\ttotal: 1m 6s\tremaining: 11.9s\n",
      "1694:\ttotal: 1m 6s\tremaining: 11.9s\n",
      "1695:\ttotal: 1m 6s\tremaining: 11.9s\n",
      "1696:\ttotal: 1m 6s\tremaining: 11.8s\n",
      "1697:\ttotal: 1m 6s\tremaining: 11.8s\n",
      "1698:\ttotal: 1m 6s\tremaining: 11.8s\n",
      "1699:\ttotal: 1m 6s\tremaining: 11.7s\n",
      "1700:\ttotal: 1m 6s\tremaining: 11.7s\n",
      "1701:\ttotal: 1m 6s\tremaining: 11.6s\n",
      "1702:\ttotal: 1m 6s\tremaining: 11.6s\n",
      "1703:\ttotal: 1m 6s\tremaining: 11.6s\n",
      "1704:\ttotal: 1m 6s\tremaining: 11.5s\n",
      "1705:\ttotal: 1m 6s\tremaining: 11.5s\n",
      "1706:\ttotal: 1m 6s\tremaining: 11.4s\n",
      "1707:\ttotal: 1m 6s\tremaining: 11.4s\n",
      "1708:\ttotal: 1m 6s\tremaining: 11.4s\n",
      "1709:\ttotal: 1m 6s\tremaining: 11.3s\n",
      "1710:\ttotal: 1m 6s\tremaining: 11.3s\n",
      "1711:\ttotal: 1m 6s\tremaining: 11.2s\n",
      "1712:\ttotal: 1m 6s\tremaining: 11.2s\n",
      "1713:\ttotal: 1m 6s\tremaining: 11.2s\n",
      "1714:\ttotal: 1m 6s\tremaining: 11.1s\n",
      "1715:\ttotal: 1m 7s\tremaining: 11.1s\n",
      "1716:\ttotal: 1m 7s\tremaining: 11.1s\n",
      "1717:\ttotal: 1m 7s\tremaining: 11s\n",
      "1718:\ttotal: 1m 7s\tremaining: 11s\n",
      "1719:\ttotal: 1m 7s\tremaining: 10.9s\n",
      "1720:\ttotal: 1m 7s\tremaining: 10.9s\n",
      "1721:\ttotal: 1m 7s\tremaining: 10.9s\n",
      "1722:\ttotal: 1m 7s\tremaining: 10.8s\n",
      "1723:\ttotal: 1m 7s\tremaining: 10.8s\n",
      "1724:\ttotal: 1m 7s\tremaining: 10.7s\n",
      "1725:\ttotal: 1m 7s\tremaining: 10.7s\n",
      "1726:\ttotal: 1m 7s\tremaining: 10.7s\n",
      "1727:\ttotal: 1m 7s\tremaining: 10.6s\n",
      "1728:\ttotal: 1m 7s\tremaining: 10.6s\n",
      "1729:\ttotal: 1m 7s\tremaining: 10.5s\n",
      "1730:\ttotal: 1m 7s\tremaining: 10.5s\n",
      "1731:\ttotal: 1m 7s\tremaining: 10.5s\n",
      "1732:\ttotal: 1m 7s\tremaining: 10.4s\n",
      "1733:\ttotal: 1m 7s\tremaining: 10.4s\n",
      "1734:\ttotal: 1m 7s\tremaining: 10.3s\n",
      "1735:\ttotal: 1m 7s\tremaining: 10.3s\n",
      "1736:\ttotal: 1m 7s\tremaining: 10.3s\n",
      "1737:\ttotal: 1m 7s\tremaining: 10.2s\n",
      "1738:\ttotal: 1m 7s\tremaining: 10.2s\n",
      "1739:\ttotal: 1m 7s\tremaining: 10.2s\n",
      "1740:\ttotal: 1m 7s\tremaining: 10.1s\n",
      "1741:\ttotal: 1m 8s\tremaining: 10.1s\n",
      "1742:\ttotal: 1m 8s\tremaining: 10s\n",
      "1743:\ttotal: 1m 8s\tremaining: 9.99s\n",
      "1744:\ttotal: 1m 8s\tremaining: 9.96s\n",
      "1745:\ttotal: 1m 8s\tremaining: 9.92s\n",
      "1746:\ttotal: 1m 8s\tremaining: 9.88s\n",
      "1747:\ttotal: 1m 8s\tremaining: 9.84s\n",
      "1748:\ttotal: 1m 8s\tremaining: 9.8s\n",
      "1749:\ttotal: 1m 8s\tremaining: 9.76s\n",
      "1750:\ttotal: 1m 8s\tremaining: 9.72s\n",
      "1751:\ttotal: 1m 8s\tremaining: 9.68s\n",
      "1752:\ttotal: 1m 8s\tremaining: 9.64s\n",
      "1753:\ttotal: 1m 8s\tremaining: 9.6s\n",
      "1754:\ttotal: 1m 8s\tremaining: 9.56s\n",
      "1755:\ttotal: 1m 8s\tremaining: 9.53s\n",
      "1756:\ttotal: 1m 8s\tremaining: 9.49s\n",
      "1757:\ttotal: 1m 8s\tremaining: 9.45s\n",
      "1758:\ttotal: 1m 8s\tremaining: 9.41s\n",
      "1759:\ttotal: 1m 8s\tremaining: 9.37s\n",
      "1760:\ttotal: 1m 8s\tremaining: 9.33s\n",
      "1761:\ttotal: 1m 8s\tremaining: 9.29s\n",
      "1762:\ttotal: 1m 8s\tremaining: 9.25s\n",
      "1763:\ttotal: 1m 8s\tremaining: 9.21s\n",
      "1764:\ttotal: 1m 8s\tremaining: 9.18s\n",
      "1765:\ttotal: 1m 8s\tremaining: 9.14s\n",
      "1766:\ttotal: 1m 8s\tremaining: 9.1s\n",
      "1767:\ttotal: 1m 9s\tremaining: 9.06s\n",
      "1768:\ttotal: 1m 9s\tremaining: 9.02s\n",
      "1769:\ttotal: 1m 9s\tremaining: 8.98s\n",
      "1770:\ttotal: 1m 9s\tremaining: 8.94s\n",
      "1771:\ttotal: 1m 9s\tremaining: 8.9s\n",
      "1772:\ttotal: 1m 9s\tremaining: 8.86s\n",
      "1773:\ttotal: 1m 9s\tremaining: 8.82s\n",
      "1774:\ttotal: 1m 9s\tremaining: 8.78s\n",
      "1775:\ttotal: 1m 9s\tremaining: 8.74s\n",
      "1776:\ttotal: 1m 9s\tremaining: 8.71s\n",
      "1777:\ttotal: 1m 9s\tremaining: 8.66s\n",
      "1778:\ttotal: 1m 9s\tremaining: 8.63s\n",
      "1779:\ttotal: 1m 9s\tremaining: 8.59s\n",
      "1780:\ttotal: 1m 9s\tremaining: 8.55s\n",
      "1781:\ttotal: 1m 9s\tremaining: 8.51s\n",
      "1782:\ttotal: 1m 9s\tremaining: 8.47s\n",
      "1783:\ttotal: 1m 9s\tremaining: 8.43s\n",
      "1784:\ttotal: 1m 9s\tremaining: 8.39s\n",
      "1785:\ttotal: 1m 9s\tremaining: 8.35s\n",
      "1786:\ttotal: 1m 9s\tremaining: 8.31s\n",
      "1787:\ttotal: 1m 9s\tremaining: 8.28s\n",
      "1788:\ttotal: 1m 9s\tremaining: 8.24s\n",
      "1789:\ttotal: 1m 9s\tremaining: 8.2s\n",
      "1790:\ttotal: 1m 9s\tremaining: 8.16s\n",
      "1791:\ttotal: 1m 9s\tremaining: 8.12s\n",
      "1792:\ttotal: 1m 9s\tremaining: 8.08s\n",
      "1793:\ttotal: 1m 10s\tremaining: 8.04s\n",
      "1794:\ttotal: 1m 10s\tremaining: 8s\n",
      "1795:\ttotal: 1m 10s\tremaining: 7.96s\n",
      "1796:\ttotal: 1m 10s\tremaining: 7.92s\n",
      "1797:\ttotal: 1m 10s\tremaining: 7.88s\n",
      "1798:\ttotal: 1m 10s\tremaining: 7.84s\n",
      "1799:\ttotal: 1m 10s\tremaining: 7.8s\n",
      "1800:\ttotal: 1m 10s\tremaining: 7.77s\n",
      "1801:\ttotal: 1m 10s\tremaining: 7.73s\n",
      "1802:\ttotal: 1m 10s\tremaining: 7.69s\n",
      "1803:\ttotal: 1m 10s\tremaining: 7.65s\n",
      "1804:\ttotal: 1m 10s\tremaining: 7.61s\n",
      "1805:\ttotal: 1m 10s\tremaining: 7.57s\n",
      "1806:\ttotal: 1m 10s\tremaining: 7.53s\n",
      "1807:\ttotal: 1m 10s\tremaining: 7.49s\n",
      "1808:\ttotal: 1m 10s\tremaining: 7.45s\n",
      "1809:\ttotal: 1m 10s\tremaining: 7.41s\n",
      "1810:\ttotal: 1m 10s\tremaining: 7.37s\n",
      "1811:\ttotal: 1m 10s\tremaining: 7.33s\n",
      "1812:\ttotal: 1m 10s\tremaining: 7.29s\n",
      "1813:\ttotal: 1m 10s\tremaining: 7.25s\n",
      "1814:\ttotal: 1m 10s\tremaining: 7.22s\n",
      "1815:\ttotal: 1m 10s\tremaining: 7.18s\n",
      "1816:\ttotal: 1m 10s\tremaining: 7.14s\n",
      "1817:\ttotal: 1m 10s\tremaining: 7.1s\n",
      "1818:\ttotal: 1m 10s\tremaining: 7.06s\n",
      "1819:\ttotal: 1m 10s\tremaining: 7.02s\n",
      "1820:\ttotal: 1m 11s\tremaining: 6.98s\n",
      "1821:\ttotal: 1m 11s\tremaining: 6.94s\n",
      "1822:\ttotal: 1m 11s\tremaining: 6.9s\n",
      "1823:\ttotal: 1m 11s\tremaining: 6.87s\n",
      "1824:\ttotal: 1m 11s\tremaining: 6.83s\n",
      "1825:\ttotal: 1m 11s\tremaining: 6.79s\n",
      "1826:\ttotal: 1m 11s\tremaining: 6.75s\n",
      "1827:\ttotal: 1m 11s\tremaining: 6.71s\n",
      "1828:\ttotal: 1m 11s\tremaining: 6.67s\n",
      "1829:\ttotal: 1m 11s\tremaining: 6.63s\n",
      "1830:\ttotal: 1m 11s\tremaining: 6.59s\n",
      "1831:\ttotal: 1m 11s\tremaining: 6.55s\n",
      "1832:\ttotal: 1m 11s\tremaining: 6.51s\n",
      "1833:\ttotal: 1m 11s\tremaining: 6.47s\n",
      "1834:\ttotal: 1m 11s\tremaining: 6.43s\n",
      "1835:\ttotal: 1m 11s\tremaining: 6.39s\n",
      "1836:\ttotal: 1m 11s\tremaining: 6.36s\n",
      "1837:\ttotal: 1m 11s\tremaining: 6.32s\n",
      "1838:\ttotal: 1m 11s\tremaining: 6.28s\n",
      "1839:\ttotal: 1m 11s\tremaining: 6.24s\n",
      "1840:\ttotal: 1m 11s\tremaining: 6.2s\n",
      "1841:\ttotal: 1m 11s\tremaining: 6.16s\n",
      "1842:\ttotal: 1m 11s\tremaining: 6.12s\n",
      "1843:\ttotal: 1m 11s\tremaining: 6.08s\n",
      "1844:\ttotal: 1m 11s\tremaining: 6.04s\n",
      "1845:\ttotal: 1m 11s\tremaining: 6s\n",
      "1846:\ttotal: 1m 12s\tremaining: 5.97s\n",
      "1847:\ttotal: 1m 12s\tremaining: 5.93s\n",
      "1848:\ttotal: 1m 12s\tremaining: 5.89s\n",
      "1849:\ttotal: 1m 12s\tremaining: 5.85s\n",
      "1850:\ttotal: 1m 12s\tremaining: 5.81s\n",
      "1851:\ttotal: 1m 12s\tremaining: 5.77s\n",
      "1852:\ttotal: 1m 12s\tremaining: 5.73s\n",
      "1853:\ttotal: 1m 12s\tremaining: 5.69s\n",
      "1854:\ttotal: 1m 12s\tremaining: 5.65s\n",
      "1855:\ttotal: 1m 12s\tremaining: 5.61s\n",
      "1856:\ttotal: 1m 12s\tremaining: 5.58s\n",
      "1857:\ttotal: 1m 12s\tremaining: 5.54s\n",
      "1858:\ttotal: 1m 12s\tremaining: 5.5s\n",
      "1859:\ttotal: 1m 12s\tremaining: 5.46s\n",
      "1860:\ttotal: 1m 12s\tremaining: 5.42s\n",
      "1861:\ttotal: 1m 12s\tremaining: 5.38s\n",
      "1862:\ttotal: 1m 12s\tremaining: 5.34s\n",
      "1863:\ttotal: 1m 12s\tremaining: 5.3s\n",
      "1864:\ttotal: 1m 12s\tremaining: 5.26s\n",
      "1865:\ttotal: 1m 12s\tremaining: 5.22s\n",
      "1866:\ttotal: 1m 12s\tremaining: 5.18s\n",
      "1867:\ttotal: 1m 12s\tremaining: 5.15s\n",
      "1868:\ttotal: 1m 12s\tremaining: 5.11s\n",
      "1869:\ttotal: 1m 12s\tremaining: 5.07s\n",
      "1870:\ttotal: 1m 12s\tremaining: 5.03s\n",
      "1871:\ttotal: 1m 12s\tremaining: 4.99s\n",
      "1872:\ttotal: 1m 13s\tremaining: 4.95s\n",
      "1873:\ttotal: 1m 13s\tremaining: 4.91s\n",
      "1874:\ttotal: 1m 13s\tremaining: 4.87s\n",
      "1875:\ttotal: 1m 13s\tremaining: 4.83s\n",
      "1876:\ttotal: 1m 13s\tremaining: 4.79s\n",
      "1877:\ttotal: 1m 13s\tremaining: 4.76s\n",
      "1878:\ttotal: 1m 13s\tremaining: 4.72s\n",
      "1879:\ttotal: 1m 13s\tremaining: 4.68s\n",
      "1880:\ttotal: 1m 13s\tremaining: 4.64s\n"
     ]
    },
    {
     "name": "stdout",
     "output_type": "stream",
     "text": [
      "1881:\ttotal: 1m 13s\tremaining: 4.6s\n",
      "1882:\ttotal: 1m 13s\tremaining: 4.56s\n",
      "1883:\ttotal: 1m 13s\tremaining: 4.52s\n",
      "1884:\ttotal: 1m 13s\tremaining: 4.48s\n",
      "1885:\ttotal: 1m 13s\tremaining: 4.44s\n",
      "1886:\ttotal: 1m 13s\tremaining: 4.4s\n",
      "1887:\ttotal: 1m 13s\tremaining: 4.37s\n",
      "1888:\ttotal: 1m 13s\tremaining: 4.33s\n",
      "1889:\ttotal: 1m 13s\tremaining: 4.29s\n",
      "1890:\ttotal: 1m 13s\tremaining: 4.25s\n",
      "1891:\ttotal: 1m 13s\tremaining: 4.21s\n",
      "1892:\ttotal: 1m 13s\tremaining: 4.17s\n",
      "1893:\ttotal: 1m 13s\tremaining: 4.13s\n",
      "1894:\ttotal: 1m 13s\tremaining: 4.09s\n",
      "1895:\ttotal: 1m 13s\tremaining: 4.05s\n",
      "1896:\ttotal: 1m 13s\tremaining: 4.01s\n",
      "1897:\ttotal: 1m 13s\tremaining: 3.98s\n",
      "1898:\ttotal: 1m 14s\tremaining: 3.94s\n",
      "1899:\ttotal: 1m 14s\tremaining: 3.9s\n",
      "1900:\ttotal: 1m 14s\tremaining: 3.86s\n",
      "1901:\ttotal: 1m 14s\tremaining: 3.82s\n",
      "1902:\ttotal: 1m 14s\tremaining: 3.78s\n",
      "1903:\ttotal: 1m 14s\tremaining: 3.74s\n",
      "1904:\ttotal: 1m 14s\tremaining: 3.7s\n",
      "1905:\ttotal: 1m 14s\tremaining: 3.66s\n",
      "1906:\ttotal: 1m 14s\tremaining: 3.63s\n",
      "1907:\ttotal: 1m 14s\tremaining: 3.59s\n",
      "1908:\ttotal: 1m 14s\tremaining: 3.55s\n",
      "1909:\ttotal: 1m 14s\tremaining: 3.51s\n",
      "1910:\ttotal: 1m 14s\tremaining: 3.47s\n",
      "1911:\ttotal: 1m 14s\tremaining: 3.43s\n",
      "1912:\ttotal: 1m 14s\tremaining: 3.39s\n",
      "1913:\ttotal: 1m 14s\tremaining: 3.35s\n",
      "1914:\ttotal: 1m 14s\tremaining: 3.31s\n",
      "1915:\ttotal: 1m 14s\tremaining: 3.27s\n",
      "1916:\ttotal: 1m 14s\tremaining: 3.23s\n",
      "1917:\ttotal: 1m 14s\tremaining: 3.19s\n",
      "1918:\ttotal: 1m 14s\tremaining: 3.16s\n",
      "1919:\ttotal: 1m 14s\tremaining: 3.12s\n",
      "1920:\ttotal: 1m 14s\tremaining: 3.08s\n",
      "1921:\ttotal: 1m 14s\tremaining: 3.04s\n",
      "1922:\ttotal: 1m 14s\tremaining: 3s\n",
      "1923:\ttotal: 1m 14s\tremaining: 2.96s\n",
      "1924:\ttotal: 1m 15s\tremaining: 2.92s\n",
      "1925:\ttotal: 1m 15s\tremaining: 2.88s\n",
      "1926:\ttotal: 1m 15s\tremaining: 2.85s\n",
      "1927:\ttotal: 1m 15s\tremaining: 2.81s\n",
      "1928:\ttotal: 1m 15s\tremaining: 2.77s\n",
      "1929:\ttotal: 1m 15s\tremaining: 2.73s\n",
      "1930:\ttotal: 1m 15s\tremaining: 2.69s\n",
      "1931:\ttotal: 1m 15s\tremaining: 2.65s\n",
      "1932:\ttotal: 1m 15s\tremaining: 2.61s\n",
      "1933:\ttotal: 1m 15s\tremaining: 2.57s\n",
      "1934:\ttotal: 1m 15s\tremaining: 2.53s\n",
      "1935:\ttotal: 1m 15s\tremaining: 2.49s\n",
      "1936:\ttotal: 1m 15s\tremaining: 2.46s\n",
      "1937:\ttotal: 1m 15s\tremaining: 2.42s\n",
      "1938:\ttotal: 1m 15s\tremaining: 2.38s\n",
      "1939:\ttotal: 1m 15s\tremaining: 2.34s\n",
      "1940:\ttotal: 1m 15s\tremaining: 2.3s\n",
      "1941:\ttotal: 1m 15s\tremaining: 2.26s\n",
      "1942:\ttotal: 1m 15s\tremaining: 2.22s\n",
      "1943:\ttotal: 1m 15s\tremaining: 2.18s\n",
      "1944:\ttotal: 1m 15s\tremaining: 2.14s\n",
      "1945:\ttotal: 1m 15s\tremaining: 2.1s\n",
      "1946:\ttotal: 1m 15s\tremaining: 2.07s\n",
      "1947:\ttotal: 1m 15s\tremaining: 2.03s\n",
      "1948:\ttotal: 1m 15s\tremaining: 1.99s\n",
      "1949:\ttotal: 1m 16s\tremaining: 1.95s\n",
      "1950:\ttotal: 1m 16s\tremaining: 1.91s\n",
      "1951:\ttotal: 1m 16s\tremaining: 1.87s\n",
      "1952:\ttotal: 1m 16s\tremaining: 1.83s\n",
      "1953:\ttotal: 1m 16s\tremaining: 1.79s\n",
      "1954:\ttotal: 1m 16s\tremaining: 1.75s\n",
      "1955:\ttotal: 1m 16s\tremaining: 1.71s\n",
      "1956:\ttotal: 1m 16s\tremaining: 1.68s\n",
      "1957:\ttotal: 1m 16s\tremaining: 1.64s\n",
      "1958:\ttotal: 1m 16s\tremaining: 1.6s\n",
      "1959:\ttotal: 1m 16s\tremaining: 1.56s\n",
      "1960:\ttotal: 1m 16s\tremaining: 1.52s\n",
      "1961:\ttotal: 1m 16s\tremaining: 1.48s\n",
      "1962:\ttotal: 1m 16s\tremaining: 1.44s\n",
      "1963:\ttotal: 1m 16s\tremaining: 1.4s\n",
      "1964:\ttotal: 1m 16s\tremaining: 1.36s\n",
      "1965:\ttotal: 1m 16s\tremaining: 1.32s\n",
      "1966:\ttotal: 1m 16s\tremaining: 1.28s\n",
      "1967:\ttotal: 1m 16s\tremaining: 1.25s\n",
      "1968:\ttotal: 1m 16s\tremaining: 1.21s\n",
      "1969:\ttotal: 1m 16s\tremaining: 1.17s\n",
      "1970:\ttotal: 1m 16s\tremaining: 1.13s\n",
      "1971:\ttotal: 1m 16s\tremaining: 1.09s\n",
      "1972:\ttotal: 1m 16s\tremaining: 1.05s\n",
      "1973:\ttotal: 1m 16s\tremaining: 1.01s\n",
      "1974:\ttotal: 1m 16s\tremaining: 974ms\n",
      "1975:\ttotal: 1m 17s\tremaining: 935ms\n",
      "1976:\ttotal: 1m 17s\tremaining: 896ms\n",
      "1977:\ttotal: 1m 17s\tremaining: 857ms\n",
      "1978:\ttotal: 1m 17s\tremaining: 818ms\n",
      "1979:\ttotal: 1m 17s\tremaining: 779ms\n",
      "1980:\ttotal: 1m 17s\tremaining: 740ms\n",
      "1981:\ttotal: 1m 17s\tremaining: 701ms\n",
      "1982:\ttotal: 1m 17s\tremaining: 662ms\n",
      "1983:\ttotal: 1m 17s\tremaining: 623ms\n",
      "1984:\ttotal: 1m 17s\tremaining: 584ms\n",
      "1985:\ttotal: 1m 17s\tremaining: 545ms\n",
      "1986:\ttotal: 1m 17s\tremaining: 506ms\n",
      "1987:\ttotal: 1m 17s\tremaining: 468ms\n",
      "1988:\ttotal: 1m 17s\tremaining: 429ms\n",
      "1989:\ttotal: 1m 17s\tremaining: 390ms\n",
      "1990:\ttotal: 1m 17s\tremaining: 351ms\n",
      "1991:\ttotal: 1m 17s\tremaining: 312ms\n",
      "1992:\ttotal: 1m 17s\tremaining: 273ms\n",
      "1993:\ttotal: 1m 17s\tremaining: 234ms\n",
      "1994:\ttotal: 1m 17s\tremaining: 195ms\n",
      "1995:\ttotal: 1m 17s\tremaining: 156ms\n",
      "1996:\ttotal: 1m 17s\tremaining: 117ms\n",
      "1997:\ttotal: 1m 17s\tremaining: 77.9ms\n",
      "1998:\ttotal: 1m 17s\tremaining: 39ms\n",
      "1999:\ttotal: 1m 17s\tremaining: 0us\n"
     ]
    },
    {
     "data": {
      "text/plain": [
       "<catboost.core.CatBoostClassifier at 0x7f3b71d1bdf0>"
      ]
     },
     "execution_count": 50,
     "metadata": {},
     "output_type": "execute_result"
    }
   ],
   "source": [
    "cat = CatBoostClassifier(iterations=2000, eval_metric = \"AUC\")\n",
    "cat.fit(X_train,y_train)"
   ]
  },
  {
   "cell_type": "code",
   "execution_count": 51,
   "id": "aa7d3b83",
   "metadata": {},
   "outputs": [
    {
     "name": "stdout",
     "output_type": "stream",
     "text": [
      "Train Data Score: 0.8907431596315138\n",
      "Test Data Score: 0.8619208029698886\n"
     ]
    }
   ],
   "source": [
    "\n",
    "print(\"Train Data Score: {}\".format(cat.score(X_train, y_train)))\n",
    "print(\"Test Data Score: {}\".format(cat.score(X_test, y_test)))"
   ]
  },
  {
   "cell_type": "code",
   "execution_count": 52,
   "id": "dependent-editor",
   "metadata": {
    "colab": {
     "base_uri": "https://localhost:8080/"
    },
    "id": "dependent-editor",
    "outputId": "93400096-eb60-4744-e940-3b62fba3c822"
   },
   "outputs": [
    {
     "name": "stdout",
     "output_type": "stream",
     "text": [
      "[[21614  1112]\n",
      " [ 2905  3461]]\n",
      "0.8619208029698886\n",
      "              precision    recall  f1-score   support\n",
      "\n",
      "           0       0.88      0.95      0.91     22726\n",
      "           1       0.76      0.54      0.63      6366\n",
      "\n",
      "    accuracy                           0.86     29092\n",
      "   macro avg       0.82      0.75      0.77     29092\n",
      "weighted avg       0.85      0.86      0.85     29092\n",
      "\n"
     ]
    }
   ],
   "source": [
    "y_pred = cat.predict(X_test)\n",
    "print(confusion_matrix(y_test,y_pred))\n",
    "print(accuracy_score(y_test,y_pred))\n",
    "print(classification_report(y_test,y_pred))"
   ]
  },
  {
   "cell_type": "code",
   "execution_count": 53,
   "id": "b4d9fc63",
   "metadata": {},
   "outputs": [
    {
     "data": {
      "image/png": "[encoded data removed]",
      "text/plain": [
       "<Figure size 432x288 with 1 Axes>"
      ]
     },
     "metadata": {
      "needs_background": "light"
     },
     "output_type": "display_data"
    }
   ],
   "source": [
    "\n",
    "y_pred_logreg_proba = cat.predict_proba(X_test)\n",
    "from sklearn.metrics import roc_curve\n",
    "fpr, tpr, thresholds = roc_curve(y_test, y_pred_logreg_proba[:,1])\n",
    "plt.figure(figsize=(6,4))\n",
    "plt.plot(fpr,tpr,'-g',linewidth=1)\n",
    "plt.plot([0,1], [0,1], 'k--' )\n",
    "plt.title('ROC curve for Logistic Regression Model')\n",
    "plt.xlabel(\"False Positive Rate\")\n",
    "plt.ylabel('True Positive Rate')\n",
    "plt.show()"
   ]
  },
  {
   "cell_type": "code",
   "execution_count": 54,
   "id": "q8Ujcbyc_UKA",
   "metadata": {
    "colab": {
     "base_uri": "https://localhost:8080/",
     "height": 296
    },
    "id": "q8Ujcbyc_UKA",
    "outputId": "21581f39-4d5b-4f7c-b61e-36613e67d6a3"
   },
   "outputs": [
    {
     "name": "stderr",
     "output_type": "stream",
     "text": [
      "/home/stellapps/Documents/project_env/lib/python3.8/site-packages/sklearn/utils/deprecation.py:87: FutureWarning: Function plot_roc_curve is deprecated; Function `plot_roc_curve` is deprecated in 1.0 and will be removed in 1.2. Use one of the class methods: RocCurveDisplay.from_predictions or RocCurveDisplay.from_estimator.\n",
      "  warnings.warn(msg, category=FutureWarning)\n"
     ]
    },
    {
     "data": {
      "text/plain": [
       "0.7473693770332132"
      ]
     },
     "execution_count": 54,
     "metadata": {},
     "output_type": "execute_result"
    },
    {
     "data": {
      "image/png": "[encoded data removed]",
      "text/plain": [
       "<Figure size 432x288 with 1 Axes>"
      ]
     },
     "metadata": {
      "needs_background": "light"
     },
     "output_type": "display_data"
    }
   ],
   "source": [
    "metrics.plot_roc_curve(cat, X_test, y_test)\n",
    "metrics.roc_auc_score(y_test, y_pred, average=None) "
   ]
  },
  {
   "cell_type": "code",
   "execution_count": 60,
   "id": "qk2FwpZnQuuP",
   "metadata": {
    "id": "qk2FwpZnQuuP"
   },
   "outputs": [],
   "source": [
    "import pickle\n",
    "\n",
    "with open('scaler.pkl', 'wb') as file:\n",
    "\n",
    "    pickle.dump(scaler, file) # here scaler is an object of StandardScaler class."
   ]
  },
  {
   "cell_type": "code",
   "execution_count": 61,
   "id": "second-toyota",
   "metadata": {},
   "outputs": [],
   "source": [
    "with open('catboost.pkl', 'wb') as file:\n",
    "    pickle.dump(cat, file) # here classifier_logreg is trained model"
   ]
  },
  {
   "cell_type": "code",
   "execution_count": null,
   "id": "d118fe9d",
   "metadata": {},
   "outputs": [],
   "source": []
  }
 ],
 "metadata": {
  "accelerator": "GPU",
  "colab": {
   "name": "Preprocessing.ipynb",
   "provenance": []
  },
  "kernelspec": {
   "display_name": "Python 3 (ipykernel)",
   "language": "python",
   "name": "python3"
  },
  "language_info": {
   "codemirror_mode": {
    "name": "ipython",
    "version": 3
   },
   "file_extension": ".py",
   "mimetype": "text/x-python",
   "name": "python",
   "nbconvert_exporter": "python",
   "pygments_lexer": "ipython3",
   "version": "3.8.10"
  }
 },
 "nbformat": 4,
 "nbformat_minor": 5
}
